{
 "cells": [
  {
   "cell_type": "code",
   "execution_count": 1,
   "id": "b651a4bd",
   "metadata": {},
   "outputs": [],
   "source": [
    "import pandas as pd\n",
    "import numpy as np \n",
    "import seaborn as sns \n",
    "import matplotlib.pyplot as plt\n",
    "import warnings\n",
    "warnings.filterwarnings('ignore')"
   ]
  },
  {
   "cell_type": "code",
   "execution_count": 2,
   "id": "efad452f",
   "metadata": {},
   "outputs": [
    {
     "data": {
      "text/html": [
       "<div>\n",
       "<style scoped>\n",
       "    .dataframe tbody tr th:only-of-type {\n",
       "        vertical-align: middle;\n",
       "    }\n",
       "\n",
       "    .dataframe tbody tr th {\n",
       "        vertical-align: top;\n",
       "    }\n",
       "\n",
       "    .dataframe thead th {\n",
       "        text-align: right;\n",
       "    }\n",
       "</style>\n",
       "<table border=\"1\" class=\"dataframe\">\n",
       "  <thead>\n",
       "    <tr style=\"text-align: right;\">\n",
       "      <th></th>\n",
       "      <th>Country</th>\n",
       "      <th>Region</th>\n",
       "      <th>Happiness Rank</th>\n",
       "      <th>Happiness Score</th>\n",
       "      <th>Standard Error</th>\n",
       "      <th>Economy (GDP per Capita)</th>\n",
       "      <th>Family</th>\n",
       "      <th>Health (Life Expectancy)</th>\n",
       "      <th>Freedom</th>\n",
       "      <th>Trust (Government Corruption)</th>\n",
       "      <th>Generosity</th>\n",
       "      <th>Dystopia Residual</th>\n",
       "    </tr>\n",
       "  </thead>\n",
       "  <tbody>\n",
       "    <tr>\n",
       "      <th>0</th>\n",
       "      <td>Switzerland</td>\n",
       "      <td>Western Europe</td>\n",
       "      <td>1</td>\n",
       "      <td>7.587</td>\n",
       "      <td>0.03411</td>\n",
       "      <td>1.39651</td>\n",
       "      <td>1.34951</td>\n",
       "      <td>0.94143</td>\n",
       "      <td>0.66557</td>\n",
       "      <td>0.41978</td>\n",
       "      <td>0.29678</td>\n",
       "      <td>2.51738</td>\n",
       "    </tr>\n",
       "    <tr>\n",
       "      <th>1</th>\n",
       "      <td>Iceland</td>\n",
       "      <td>Western Europe</td>\n",
       "      <td>2</td>\n",
       "      <td>7.561</td>\n",
       "      <td>0.04884</td>\n",
       "      <td>1.30232</td>\n",
       "      <td>1.40223</td>\n",
       "      <td>0.94784</td>\n",
       "      <td>0.62877</td>\n",
       "      <td>0.14145</td>\n",
       "      <td>0.43630</td>\n",
       "      <td>2.70201</td>\n",
       "    </tr>\n",
       "    <tr>\n",
       "      <th>2</th>\n",
       "      <td>Denmark</td>\n",
       "      <td>Western Europe</td>\n",
       "      <td>3</td>\n",
       "      <td>7.527</td>\n",
       "      <td>0.03328</td>\n",
       "      <td>1.32548</td>\n",
       "      <td>1.36058</td>\n",
       "      <td>0.87464</td>\n",
       "      <td>0.64938</td>\n",
       "      <td>0.48357</td>\n",
       "      <td>0.34139</td>\n",
       "      <td>2.49204</td>\n",
       "    </tr>\n",
       "    <tr>\n",
       "      <th>3</th>\n",
       "      <td>Norway</td>\n",
       "      <td>Western Europe</td>\n",
       "      <td>4</td>\n",
       "      <td>7.522</td>\n",
       "      <td>0.03880</td>\n",
       "      <td>1.45900</td>\n",
       "      <td>1.33095</td>\n",
       "      <td>0.88521</td>\n",
       "      <td>0.66973</td>\n",
       "      <td>0.36503</td>\n",
       "      <td>0.34699</td>\n",
       "      <td>2.46531</td>\n",
       "    </tr>\n",
       "    <tr>\n",
       "      <th>4</th>\n",
       "      <td>Canada</td>\n",
       "      <td>North America</td>\n",
       "      <td>5</td>\n",
       "      <td>7.427</td>\n",
       "      <td>0.03553</td>\n",
       "      <td>1.32629</td>\n",
       "      <td>1.32261</td>\n",
       "      <td>0.90563</td>\n",
       "      <td>0.63297</td>\n",
       "      <td>0.32957</td>\n",
       "      <td>0.45811</td>\n",
       "      <td>2.45176</td>\n",
       "    </tr>\n",
       "  </tbody>\n",
       "</table>\n",
       "</div>"
      ],
      "text/plain": [
       "       Country          Region  Happiness Rank  Happiness Score  \\\n",
       "0  Switzerland  Western Europe               1            7.587   \n",
       "1      Iceland  Western Europe               2            7.561   \n",
       "2      Denmark  Western Europe               3            7.527   \n",
       "3       Norway  Western Europe               4            7.522   \n",
       "4       Canada   North America               5            7.427   \n",
       "\n",
       "   Standard Error  Economy (GDP per Capita)   Family  \\\n",
       "0         0.03411                   1.39651  1.34951   \n",
       "1         0.04884                   1.30232  1.40223   \n",
       "2         0.03328                   1.32548  1.36058   \n",
       "3         0.03880                   1.45900  1.33095   \n",
       "4         0.03553                   1.32629  1.32261   \n",
       "\n",
       "   Health (Life Expectancy)  Freedom  Trust (Government Corruption)  \\\n",
       "0                   0.94143  0.66557                        0.41978   \n",
       "1                   0.94784  0.62877                        0.14145   \n",
       "2                   0.87464  0.64938                        0.48357   \n",
       "3                   0.88521  0.66973                        0.36503   \n",
       "4                   0.90563  0.63297                        0.32957   \n",
       "\n",
       "   Generosity  Dystopia Residual  \n",
       "0     0.29678            2.51738  \n",
       "1     0.43630            2.70201  \n",
       "2     0.34139            2.49204  \n",
       "3     0.34699            2.46531  \n",
       "4     0.45811            2.45176  "
      ]
     },
     "execution_count": 2,
     "metadata": {},
     "output_type": "execute_result"
    }
   ],
   "source": [
    "df = pd.read_csv(\"https://raw.githubusercontent.com/dsrscientist/DSData/master/happiness_score_dataset.csv\", error_bad_lines=False)\n",
    "df.head()"
   ]
  },
  {
   "cell_type": "markdown",
   "id": "d099877b",
   "metadata": {},
   "source": [
    "#### Country and region is a nominal Data and we dont need this for model building. "
   ]
  },
  {
   "cell_type": "code",
   "execution_count": 3,
   "id": "46287c91",
   "metadata": {},
   "outputs": [
    {
     "data": {
      "text/plain": [
       "(158, 12)"
      ]
     },
     "execution_count": 3,
     "metadata": {},
     "output_type": "execute_result"
    }
   ],
   "source": [
    "df.shape\n"
   ]
  },
  {
   "cell_type": "code",
   "execution_count": 4,
   "id": "94fc2e50",
   "metadata": {},
   "outputs": [
    {
     "data": {
      "text/plain": [
       "Index(['Country', 'Region', 'Happiness Rank', 'Happiness Score',\n",
       "       'Standard Error', 'Economy (GDP per Capita)', 'Family',\n",
       "       'Health (Life Expectancy)', 'Freedom', 'Trust (Government Corruption)',\n",
       "       'Generosity', 'Dystopia Residual'],\n",
       "      dtype='object')"
      ]
     },
     "execution_count": 4,
     "metadata": {},
     "output_type": "execute_result"
    }
   ],
   "source": [
    "df.columns"
   ]
  },
  {
   "cell_type": "code",
   "execution_count": 5,
   "id": "be8a4a3d",
   "metadata": {},
   "outputs": [
    {
     "name": "stdout",
     "output_type": "stream",
     "text": [
      "<class 'pandas.core.frame.DataFrame'>\n",
      "RangeIndex: 158 entries, 0 to 157\n",
      "Data columns (total 12 columns):\n",
      " #   Column                         Non-Null Count  Dtype  \n",
      "---  ------                         --------------  -----  \n",
      " 0   Country                        158 non-null    object \n",
      " 1   Region                         158 non-null    object \n",
      " 2   Happiness Rank                 158 non-null    int64  \n",
      " 3   Happiness Score                158 non-null    float64\n",
      " 4   Standard Error                 158 non-null    float64\n",
      " 5   Economy (GDP per Capita)       158 non-null    float64\n",
      " 6   Family                         158 non-null    float64\n",
      " 7   Health (Life Expectancy)       158 non-null    float64\n",
      " 8   Freedom                        158 non-null    float64\n",
      " 9   Trust (Government Corruption)  158 non-null    float64\n",
      " 10  Generosity                     158 non-null    float64\n",
      " 11  Dystopia Residual              158 non-null    float64\n",
      "dtypes: float64(9), int64(1), object(2)\n",
      "memory usage: 14.9+ KB\n"
     ]
    }
   ],
   "source": [
    "df.info()"
   ]
  },
  {
   "cell_type": "code",
   "execution_count": 6,
   "id": "174381b0",
   "metadata": {
    "scrolled": true
   },
   "outputs": [
    {
     "data": {
      "text/plain": [
       "Country                          0\n",
       "Region                           0\n",
       "Happiness Rank                   0\n",
       "Happiness Score                  0\n",
       "Standard Error                   0\n",
       "Economy (GDP per Capita)         0\n",
       "Family                           0\n",
       "Health (Life Expectancy)         0\n",
       "Freedom                          0\n",
       "Trust (Government Corruption)    0\n",
       "Generosity                       0\n",
       "Dystopia Residual                0\n",
       "dtype: int64"
      ]
     },
     "execution_count": 6,
     "metadata": {},
     "output_type": "execute_result"
    }
   ],
   "source": [
    "df.isnull().sum()"
   ]
  },
  {
   "cell_type": "markdown",
   "id": "61be74a7",
   "metadata": {},
   "source": [
    "#### There is no null values. "
   ]
  },
  {
   "cell_type": "code",
   "execution_count": 7,
   "id": "ab724e27",
   "metadata": {},
   "outputs": [
    {
     "data": {
      "text/html": [
       "<div>\n",
       "<style scoped>\n",
       "    .dataframe tbody tr th:only-of-type {\n",
       "        vertical-align: middle;\n",
       "    }\n",
       "\n",
       "    .dataframe tbody tr th {\n",
       "        vertical-align: top;\n",
       "    }\n",
       "\n",
       "    .dataframe thead th {\n",
       "        text-align: right;\n",
       "    }\n",
       "</style>\n",
       "<table border=\"1\" class=\"dataframe\">\n",
       "  <thead>\n",
       "    <tr style=\"text-align: right;\">\n",
       "      <th></th>\n",
       "      <th>Happiness Rank</th>\n",
       "      <th>Happiness Score</th>\n",
       "      <th>Standard Error</th>\n",
       "      <th>Economy (GDP per Capita)</th>\n",
       "      <th>Family</th>\n",
       "      <th>Health (Life Expectancy)</th>\n",
       "      <th>Freedom</th>\n",
       "      <th>Trust (Government Corruption)</th>\n",
       "      <th>Generosity</th>\n",
       "      <th>Dystopia Residual</th>\n",
       "    </tr>\n",
       "  </thead>\n",
       "  <tbody>\n",
       "    <tr>\n",
       "      <th>count</th>\n",
       "      <td>158.000000</td>\n",
       "      <td>158.000000</td>\n",
       "      <td>158.000000</td>\n",
       "      <td>158.000000</td>\n",
       "      <td>158.000000</td>\n",
       "      <td>158.000000</td>\n",
       "      <td>158.000000</td>\n",
       "      <td>158.000000</td>\n",
       "      <td>158.000000</td>\n",
       "      <td>158.000000</td>\n",
       "    </tr>\n",
       "    <tr>\n",
       "      <th>mean</th>\n",
       "      <td>79.493671</td>\n",
       "      <td>5.375734</td>\n",
       "      <td>0.047885</td>\n",
       "      <td>0.846137</td>\n",
       "      <td>0.991046</td>\n",
       "      <td>0.630259</td>\n",
       "      <td>0.428615</td>\n",
       "      <td>0.143422</td>\n",
       "      <td>0.237296</td>\n",
       "      <td>2.098977</td>\n",
       "    </tr>\n",
       "    <tr>\n",
       "      <th>std</th>\n",
       "      <td>45.754363</td>\n",
       "      <td>1.145010</td>\n",
       "      <td>0.017146</td>\n",
       "      <td>0.403121</td>\n",
       "      <td>0.272369</td>\n",
       "      <td>0.247078</td>\n",
       "      <td>0.150693</td>\n",
       "      <td>0.120034</td>\n",
       "      <td>0.126685</td>\n",
       "      <td>0.553550</td>\n",
       "    </tr>\n",
       "    <tr>\n",
       "      <th>min</th>\n",
       "      <td>1.000000</td>\n",
       "      <td>2.839000</td>\n",
       "      <td>0.018480</td>\n",
       "      <td>0.000000</td>\n",
       "      <td>0.000000</td>\n",
       "      <td>0.000000</td>\n",
       "      <td>0.000000</td>\n",
       "      <td>0.000000</td>\n",
       "      <td>0.000000</td>\n",
       "      <td>0.328580</td>\n",
       "    </tr>\n",
       "    <tr>\n",
       "      <th>25%</th>\n",
       "      <td>40.250000</td>\n",
       "      <td>4.526000</td>\n",
       "      <td>0.037268</td>\n",
       "      <td>0.545808</td>\n",
       "      <td>0.856823</td>\n",
       "      <td>0.439185</td>\n",
       "      <td>0.328330</td>\n",
       "      <td>0.061675</td>\n",
       "      <td>0.150553</td>\n",
       "      <td>1.759410</td>\n",
       "    </tr>\n",
       "    <tr>\n",
       "      <th>50%</th>\n",
       "      <td>79.500000</td>\n",
       "      <td>5.232500</td>\n",
       "      <td>0.043940</td>\n",
       "      <td>0.910245</td>\n",
       "      <td>1.029510</td>\n",
       "      <td>0.696705</td>\n",
       "      <td>0.435515</td>\n",
       "      <td>0.107220</td>\n",
       "      <td>0.216130</td>\n",
       "      <td>2.095415</td>\n",
       "    </tr>\n",
       "    <tr>\n",
       "      <th>75%</th>\n",
       "      <td>118.750000</td>\n",
       "      <td>6.243750</td>\n",
       "      <td>0.052300</td>\n",
       "      <td>1.158448</td>\n",
       "      <td>1.214405</td>\n",
       "      <td>0.811013</td>\n",
       "      <td>0.549092</td>\n",
       "      <td>0.180255</td>\n",
       "      <td>0.309883</td>\n",
       "      <td>2.462415</td>\n",
       "    </tr>\n",
       "    <tr>\n",
       "      <th>max</th>\n",
       "      <td>158.000000</td>\n",
       "      <td>7.587000</td>\n",
       "      <td>0.136930</td>\n",
       "      <td>1.690420</td>\n",
       "      <td>1.402230</td>\n",
       "      <td>1.025250</td>\n",
       "      <td>0.669730</td>\n",
       "      <td>0.551910</td>\n",
       "      <td>0.795880</td>\n",
       "      <td>3.602140</td>\n",
       "    </tr>\n",
       "  </tbody>\n",
       "</table>\n",
       "</div>"
      ],
      "text/plain": [
       "       Happiness Rank  Happiness Score  Standard Error  \\\n",
       "count      158.000000       158.000000      158.000000   \n",
       "mean        79.493671         5.375734        0.047885   \n",
       "std         45.754363         1.145010        0.017146   \n",
       "min          1.000000         2.839000        0.018480   \n",
       "25%         40.250000         4.526000        0.037268   \n",
       "50%         79.500000         5.232500        0.043940   \n",
       "75%        118.750000         6.243750        0.052300   \n",
       "max        158.000000         7.587000        0.136930   \n",
       "\n",
       "       Economy (GDP per Capita)      Family  Health (Life Expectancy)  \\\n",
       "count                158.000000  158.000000                158.000000   \n",
       "mean                   0.846137    0.991046                  0.630259   \n",
       "std                    0.403121    0.272369                  0.247078   \n",
       "min                    0.000000    0.000000                  0.000000   \n",
       "25%                    0.545808    0.856823                  0.439185   \n",
       "50%                    0.910245    1.029510                  0.696705   \n",
       "75%                    1.158448    1.214405                  0.811013   \n",
       "max                    1.690420    1.402230                  1.025250   \n",
       "\n",
       "          Freedom  Trust (Government Corruption)  Generosity  \\\n",
       "count  158.000000                     158.000000  158.000000   \n",
       "mean     0.428615                       0.143422    0.237296   \n",
       "std      0.150693                       0.120034    0.126685   \n",
       "min      0.000000                       0.000000    0.000000   \n",
       "25%      0.328330                       0.061675    0.150553   \n",
       "50%      0.435515                       0.107220    0.216130   \n",
       "75%      0.549092                       0.180255    0.309883   \n",
       "max      0.669730                       0.551910    0.795880   \n",
       "\n",
       "       Dystopia Residual  \n",
       "count         158.000000  \n",
       "mean            2.098977  \n",
       "std             0.553550  \n",
       "min             0.328580  \n",
       "25%             1.759410  \n",
       "50%             2.095415  \n",
       "75%             2.462415  \n",
       "max             3.602140  "
      ]
     },
     "execution_count": 7,
     "metadata": {},
     "output_type": "execute_result"
    }
   ],
   "source": [
    "df.describe()"
   ]
  },
  {
   "cell_type": "markdown",
   "id": "bdb1fa21",
   "metadata": {},
   "source": [
    "#### Count is same in all the columns: 158 that means no NaN's. Mean and S.D of columns Generosity, Trust and Standard error seems close. we don't need Happiness Rank as it is discrete data. "
   ]
  },
  {
   "cell_type": "code",
   "execution_count": 8,
   "id": "a02fa3e9",
   "metadata": {},
   "outputs": [
    {
     "data": {
      "text/html": [
       "<div>\n",
       "<style scoped>\n",
       "    .dataframe tbody tr th:only-of-type {\n",
       "        vertical-align: middle;\n",
       "    }\n",
       "\n",
       "    .dataframe tbody tr th {\n",
       "        vertical-align: top;\n",
       "    }\n",
       "\n",
       "    .dataframe thead th {\n",
       "        text-align: right;\n",
       "    }\n",
       "</style>\n",
       "<table border=\"1\" class=\"dataframe\">\n",
       "  <thead>\n",
       "    <tr style=\"text-align: right;\">\n",
       "      <th></th>\n",
       "      <th>Happiness Score</th>\n",
       "      <th>Standard Error</th>\n",
       "      <th>Economy (GDP per Capita)</th>\n",
       "      <th>Family</th>\n",
       "      <th>Health (Life Expectancy)</th>\n",
       "      <th>Freedom</th>\n",
       "      <th>Trust (Government Corruption)</th>\n",
       "      <th>Generosity</th>\n",
       "      <th>Dystopia Residual</th>\n",
       "    </tr>\n",
       "  </thead>\n",
       "  <tbody>\n",
       "    <tr>\n",
       "      <th>0</th>\n",
       "      <td>7.587</td>\n",
       "      <td>0.03411</td>\n",
       "      <td>1.39651</td>\n",
       "      <td>1.34951</td>\n",
       "      <td>0.94143</td>\n",
       "      <td>0.66557</td>\n",
       "      <td>0.41978</td>\n",
       "      <td>0.29678</td>\n",
       "      <td>2.51738</td>\n",
       "    </tr>\n",
       "    <tr>\n",
       "      <th>1</th>\n",
       "      <td>7.561</td>\n",
       "      <td>0.04884</td>\n",
       "      <td>1.30232</td>\n",
       "      <td>1.40223</td>\n",
       "      <td>0.94784</td>\n",
       "      <td>0.62877</td>\n",
       "      <td>0.14145</td>\n",
       "      <td>0.43630</td>\n",
       "      <td>2.70201</td>\n",
       "    </tr>\n",
       "    <tr>\n",
       "      <th>2</th>\n",
       "      <td>7.527</td>\n",
       "      <td>0.03328</td>\n",
       "      <td>1.32548</td>\n",
       "      <td>1.36058</td>\n",
       "      <td>0.87464</td>\n",
       "      <td>0.64938</td>\n",
       "      <td>0.48357</td>\n",
       "      <td>0.34139</td>\n",
       "      <td>2.49204</td>\n",
       "    </tr>\n",
       "    <tr>\n",
       "      <th>3</th>\n",
       "      <td>7.522</td>\n",
       "      <td>0.03880</td>\n",
       "      <td>1.45900</td>\n",
       "      <td>1.33095</td>\n",
       "      <td>0.88521</td>\n",
       "      <td>0.66973</td>\n",
       "      <td>0.36503</td>\n",
       "      <td>0.34699</td>\n",
       "      <td>2.46531</td>\n",
       "    </tr>\n",
       "    <tr>\n",
       "      <th>4</th>\n",
       "      <td>7.427</td>\n",
       "      <td>0.03553</td>\n",
       "      <td>1.32629</td>\n",
       "      <td>1.32261</td>\n",
       "      <td>0.90563</td>\n",
       "      <td>0.63297</td>\n",
       "      <td>0.32957</td>\n",
       "      <td>0.45811</td>\n",
       "      <td>2.45176</td>\n",
       "    </tr>\n",
       "  </tbody>\n",
       "</table>\n",
       "</div>"
      ],
      "text/plain": [
       "   Happiness Score  Standard Error  Economy (GDP per Capita)   Family  \\\n",
       "0            7.587         0.03411                   1.39651  1.34951   \n",
       "1            7.561         0.04884                   1.30232  1.40223   \n",
       "2            7.527         0.03328                   1.32548  1.36058   \n",
       "3            7.522         0.03880                   1.45900  1.33095   \n",
       "4            7.427         0.03553                   1.32629  1.32261   \n",
       "\n",
       "   Health (Life Expectancy)  Freedom  Trust (Government Corruption)  \\\n",
       "0                   0.94143  0.66557                        0.41978   \n",
       "1                   0.94784  0.62877                        0.14145   \n",
       "2                   0.87464  0.64938                        0.48357   \n",
       "3                   0.88521  0.66973                        0.36503   \n",
       "4                   0.90563  0.63297                        0.32957   \n",
       "\n",
       "   Generosity  Dystopia Residual  \n",
       "0     0.29678            2.51738  \n",
       "1     0.43630            2.70201  \n",
       "2     0.34139            2.49204  \n",
       "3     0.34699            2.46531  \n",
       "4     0.45811            2.45176  "
      ]
     },
     "execution_count": 8,
     "metadata": {},
     "output_type": "execute_result"
    }
   ],
   "source": [
    "df = df.drop(columns = ['Happiness Rank', 'Country','Region'])\n",
    "df.head()"
   ]
  },
  {
   "cell_type": "code",
   "execution_count": 9,
   "id": "125341bc",
   "metadata": {},
   "outputs": [
    {
     "data": {
      "text/plain": [
       "(158, 9)"
      ]
     },
     "execution_count": 9,
     "metadata": {},
     "output_type": "execute_result"
    }
   ],
   "source": [
    "df.shape"
   ]
  },
  {
   "cell_type": "markdown",
   "id": "e65e07b4",
   "metadata": {},
   "source": [
    "## EDA - (Exploratory Data Analysis) and Visualization: "
   ]
  },
  {
   "cell_type": "markdown",
   "id": "a479fbe3",
   "metadata": {},
   "source": [
    "#### will check how data is distributed for every column in our dataset:"
   ]
  },
  {
   "cell_type": "code",
   "execution_count": 10,
   "id": "8211057a",
   "metadata": {},
   "outputs": [
    {
     "data": {
      "image/png": "[encoded data removed]",
      "text/plain": [
       "<Figure size 1440x1440 with 9 Axes>"
      ]
     },
     "metadata": {},
     "output_type": "display_data"
    }
   ],
   "source": [
    "## DistPlot:\n",
    "plt.figure(figsize = (20,20), facecolor = 'green')\n",
    "plotnumber = 1 ## initializing 1 to a name\n",
    "\n",
    "for column in df:\n",
    "    if plotnumber <= 9:\n",
    "        ax = plt.subplot(2,5,plotnumber) ## 2 raw 5 column\n",
    "        sns.distplot(df[column])\n",
    "        plt.xlabel(column,fontsize = 20)\n",
    "        plotnumber += 1\n",
    "        plt.tight_layout\n",
    "        \n"
   ]
  },
  {
   "cell_type": "markdown",
   "id": "aeb75ed9",
   "metadata": {},
   "source": [
    "#### as we can see columns standard error, Trust and Generosity are skewed. Will remove the skewness. "
   ]
  },
  {
   "cell_type": "markdown",
   "id": "f857135a",
   "metadata": {},
   "source": [
    "## Skewness: "
   ]
  },
  {
   "cell_type": "code",
   "execution_count": 11,
   "id": "40b8d70e",
   "metadata": {},
   "outputs": [
    {
     "data": {
      "text/plain": [
       "Happiness Score                  0.097769\n",
       "Standard Error                   1.983439\n",
       "Economy (GDP per Capita)        -0.317575\n",
       "Family                          -1.006893\n",
       "Health (Life Expectancy)        -0.705328\n",
       "Freedom                         -0.413462\n",
       "Trust (Government Corruption)    1.385463\n",
       "Generosity                       1.001961\n",
       "Dystopia Residual               -0.238911\n",
       "dtype: float64"
      ]
     },
     "execution_count": 11,
     "metadata": {},
     "output_type": "execute_result"
    }
   ],
   "source": [
    "df.skew()"
   ]
  },
  {
   "cell_type": "markdown",
   "id": "11f7e615",
   "metadata": {},
   "source": [
    "##### Skewness threshold is taken as =/-50. Columns having skewness are: Standard Error, Family, Health, Trust, Generosity. "
   ]
  },
  {
   "cell_type": "markdown",
   "id": "e34342b8",
   "metadata": {},
   "source": [
    "## Checking for the outliers: "
   ]
  },
  {
   "cell_type": "code",
   "execution_count": 12,
   "id": "64da3d2e",
   "metadata": {},
   "outputs": [
    {
     "data": {
      "image/png": "[encoded data removed]",
      "text/plain": [
       "<Figure size 2160x6480 with 9 Axes>"
      ]
     },
     "metadata": {
      "needs_background": "light"
     },
     "output_type": "display_data"
    }
   ],
   "source": [
    "# BoxPlot: \n",
    "\n",
    "collist = df.columns.values\n",
    "ncol = 30 \n",
    "nrows = 14\n",
    "plt.figure(figsize=(ncol,3*ncol))\n",
    "for i in range(0,len(collist)):\n",
    "    plt.subplot(ncol, nrows, i+1)\n",
    "    sns.boxplot(df[collist[i]], color= 'yellow', orient = 'v')\n",
    "    plt.tight_layout()"
   ]
  },
  {
   "cell_type": "code",
   "execution_count": 13,
   "id": "91e67ae8",
   "metadata": {},
   "outputs": [],
   "source": [
    "## Checking outliers: \n",
    "\n",
    "def IQR_outliers(df):\n",
    "\n",
    "     Q1=df.quantile(0.25)\n",
    "     Q3=df.quantile(0.75)\n",
    "     IQR=Q3-Q1\n",
    "     df=df[((df<(Q1-1.5*IQR)) | (df>(Q3+1.5*IQR)))]\n",
    "     return df"
   ]
  },
  {
   "cell_type": "code",
   "execution_count": 14,
   "id": "c961b808",
   "metadata": {},
   "outputs": [
    {
     "data": {
      "text/plain": [
       "147    0.00000\n",
       "152    0.30285\n",
       "157    0.13995\n",
       "Name: Family, dtype: float64"
      ]
     },
     "execution_count": 14,
     "metadata": {},
     "output_type": "execute_result"
    }
   ],
   "source": [
    "IQR_outliers(df['Family'])"
   ]
  },
  {
   "cell_type": "code",
   "execution_count": 15,
   "id": "a1912d1c",
   "metadata": {},
   "outputs": [
    {
     "name": "stdout",
     "output_type": "stream",
     "text": [
      "(156, 9)\n"
     ]
    },
    {
     "data": {
      "text/html": [
       "<div>\n",
       "<style scoped>\n",
       "    .dataframe tbody tr th:only-of-type {\n",
       "        vertical-align: middle;\n",
       "    }\n",
       "\n",
       "    .dataframe tbody tr th {\n",
       "        vertical-align: top;\n",
       "    }\n",
       "\n",
       "    .dataframe thead th {\n",
       "        text-align: right;\n",
       "    }\n",
       "</style>\n",
       "<table border=\"1\" class=\"dataframe\">\n",
       "  <thead>\n",
       "    <tr style=\"text-align: right;\">\n",
       "      <th></th>\n",
       "      <th>index</th>\n",
       "      <th>Happiness Score</th>\n",
       "      <th>Standard Error</th>\n",
       "      <th>Economy (GDP per Capita)</th>\n",
       "      <th>Family</th>\n",
       "      <th>Health (Life Expectancy)</th>\n",
       "      <th>Freedom</th>\n",
       "      <th>Trust (Government Corruption)</th>\n",
       "      <th>Generosity</th>\n",
       "      <th>Dystopia Residual</th>\n",
       "    </tr>\n",
       "  </thead>\n",
       "  <tbody>\n",
       "    <tr>\n",
       "      <th>0</th>\n",
       "      <td>0</td>\n",
       "      <td>7.587</td>\n",
       "      <td>0.03411</td>\n",
       "      <td>1.39651</td>\n",
       "      <td>1.34951</td>\n",
       "      <td>0.94143</td>\n",
       "      <td>0.66557</td>\n",
       "      <td>0.41978</td>\n",
       "      <td>0.29678</td>\n",
       "      <td>2.51738</td>\n",
       "    </tr>\n",
       "    <tr>\n",
       "      <th>1</th>\n",
       "      <td>3</td>\n",
       "      <td>7.522</td>\n",
       "      <td>0.03880</td>\n",
       "      <td>1.45900</td>\n",
       "      <td>1.33095</td>\n",
       "      <td>0.88521</td>\n",
       "      <td>0.66973</td>\n",
       "      <td>0.36503</td>\n",
       "      <td>0.34699</td>\n",
       "      <td>2.46531</td>\n",
       "    </tr>\n",
       "    <tr>\n",
       "      <th>2</th>\n",
       "      <td>4</td>\n",
       "      <td>7.427</td>\n",
       "      <td>0.03553</td>\n",
       "      <td>1.32629</td>\n",
       "      <td>1.32261</td>\n",
       "      <td>0.90563</td>\n",
       "      <td>0.63297</td>\n",
       "      <td>0.32957</td>\n",
       "      <td>0.45811</td>\n",
       "      <td>2.45176</td>\n",
       "    </tr>\n",
       "    <tr>\n",
       "      <th>3</th>\n",
       "      <td>5</td>\n",
       "      <td>7.406</td>\n",
       "      <td>0.03140</td>\n",
       "      <td>1.29025</td>\n",
       "      <td>1.31826</td>\n",
       "      <td>0.88911</td>\n",
       "      <td>0.64169</td>\n",
       "      <td>0.41372</td>\n",
       "      <td>0.23351</td>\n",
       "      <td>2.61955</td>\n",
       "    </tr>\n",
       "    <tr>\n",
       "      <th>4</th>\n",
       "      <td>6</td>\n",
       "      <td>7.378</td>\n",
       "      <td>0.02799</td>\n",
       "      <td>1.32944</td>\n",
       "      <td>1.28017</td>\n",
       "      <td>0.89284</td>\n",
       "      <td>0.61576</td>\n",
       "      <td>0.31814</td>\n",
       "      <td>0.47610</td>\n",
       "      <td>2.46570</td>\n",
       "    </tr>\n",
       "    <tr>\n",
       "      <th>...</th>\n",
       "      <td>...</td>\n",
       "      <td>...</td>\n",
       "      <td>...</td>\n",
       "      <td>...</td>\n",
       "      <td>...</td>\n",
       "      <td>...</td>\n",
       "      <td>...</td>\n",
       "      <td>...</td>\n",
       "      <td>...</td>\n",
       "      <td>...</td>\n",
       "    </tr>\n",
       "    <tr>\n",
       "      <th>151</th>\n",
       "      <td>153</td>\n",
       "      <td>3.465</td>\n",
       "      <td>0.03464</td>\n",
       "      <td>0.22208</td>\n",
       "      <td>0.77370</td>\n",
       "      <td>0.42864</td>\n",
       "      <td>0.59201</td>\n",
       "      <td>0.55191</td>\n",
       "      <td>0.22628</td>\n",
       "      <td>0.67042</td>\n",
       "    </tr>\n",
       "    <tr>\n",
       "      <th>152</th>\n",
       "      <td>154</td>\n",
       "      <td>3.340</td>\n",
       "      <td>0.03656</td>\n",
       "      <td>0.28665</td>\n",
       "      <td>0.35386</td>\n",
       "      <td>0.31910</td>\n",
       "      <td>0.48450</td>\n",
       "      <td>0.08010</td>\n",
       "      <td>0.18260</td>\n",
       "      <td>1.63328</td>\n",
       "    </tr>\n",
       "    <tr>\n",
       "      <th>153</th>\n",
       "      <td>155</td>\n",
       "      <td>3.006</td>\n",
       "      <td>0.05015</td>\n",
       "      <td>0.66320</td>\n",
       "      <td>0.47489</td>\n",
       "      <td>0.72193</td>\n",
       "      <td>0.15684</td>\n",
       "      <td>0.18906</td>\n",
       "      <td>0.47179</td>\n",
       "      <td>0.32858</td>\n",
       "    </tr>\n",
       "    <tr>\n",
       "      <th>154</th>\n",
       "      <td>156</td>\n",
       "      <td>2.905</td>\n",
       "      <td>0.08658</td>\n",
       "      <td>0.01530</td>\n",
       "      <td>0.41587</td>\n",
       "      <td>0.22396</td>\n",
       "      <td>0.11850</td>\n",
       "      <td>0.10062</td>\n",
       "      <td>0.19727</td>\n",
       "      <td>1.83302</td>\n",
       "    </tr>\n",
       "    <tr>\n",
       "      <th>155</th>\n",
       "      <td>157</td>\n",
       "      <td>2.839</td>\n",
       "      <td>0.06727</td>\n",
       "      <td>0.20868</td>\n",
       "      <td>0.13995</td>\n",
       "      <td>0.28443</td>\n",
       "      <td>0.36453</td>\n",
       "      <td>0.10731</td>\n",
       "      <td>0.16681</td>\n",
       "      <td>1.56726</td>\n",
       "    </tr>\n",
       "  </tbody>\n",
       "</table>\n",
       "<p>156 rows × 10 columns</p>\n",
       "</div>"
      ],
      "text/plain": [
       "     index  Happiness Score  Standard Error  Economy (GDP per Capita)  \\\n",
       "0        0            7.587         0.03411                   1.39651   \n",
       "1        3            7.522         0.03880                   1.45900   \n",
       "2        4            7.427         0.03553                   1.32629   \n",
       "3        5            7.406         0.03140                   1.29025   \n",
       "4        6            7.378         0.02799                   1.32944   \n",
       "..     ...              ...             ...                       ...   \n",
       "151    153            3.465         0.03464                   0.22208   \n",
       "152    154            3.340         0.03656                   0.28665   \n",
       "153    155            3.006         0.05015                   0.66320   \n",
       "154    156            2.905         0.08658                   0.01530   \n",
       "155    157            2.839         0.06727                   0.20868   \n",
       "\n",
       "      Family  Health (Life Expectancy)  Freedom  \\\n",
       "0    1.34951                   0.94143  0.66557   \n",
       "1    1.33095                   0.88521  0.66973   \n",
       "2    1.32261                   0.90563  0.63297   \n",
       "3    1.31826                   0.88911  0.64169   \n",
       "4    1.28017                   0.89284  0.61576   \n",
       "..       ...                       ...      ...   \n",
       "151  0.77370                   0.42864  0.59201   \n",
       "152  0.35386                   0.31910  0.48450   \n",
       "153  0.47489                   0.72193  0.15684   \n",
       "154  0.41587                   0.22396  0.11850   \n",
       "155  0.13995                   0.28443  0.36453   \n",
       "\n",
       "     Trust (Government Corruption)  Generosity  Dystopia Residual  \n",
       "0                          0.41978     0.29678            2.51738  \n",
       "1                          0.36503     0.34699            2.46531  \n",
       "2                          0.32957     0.45811            2.45176  \n",
       "3                          0.41372     0.23351            2.61955  \n",
       "4                          0.31814     0.47610            2.46570  \n",
       "..                             ...         ...                ...  \n",
       "151                        0.55191     0.22628            0.67042  \n",
       "152                        0.08010     0.18260            1.63328  \n",
       "153                        0.18906     0.47179            0.32858  \n",
       "154                        0.10062     0.19727            1.83302  \n",
       "155                        0.10731     0.16681            1.56726  \n",
       "\n",
       "[156 rows x 10 columns]"
      ]
     },
     "execution_count": 15,
     "metadata": {},
     "output_type": "execute_result"
    }
   ],
   "source": [
    "index = np.where(IQR_outliers(df['Family']))\n",
    "df = df.drop(df.index[index])\n",
    "print(df.shape)\n",
    "df.reset_index()"
   ]
  },
  {
   "cell_type": "code",
   "execution_count": 16,
   "id": "81b9d974",
   "metadata": {},
   "outputs": [
    {
     "data": {
      "text/plain": [
       "39     0.09811\n",
       "40     0.10895\n",
       "62     0.07832\n",
       "64     0.13693\n",
       "93     0.07896\n",
       "96     0.09438\n",
       "100    0.08742\n",
       "115    0.11068\n",
       "125    0.08096\n",
       "156    0.08658\n",
       "Name: Standard Error, dtype: float64"
      ]
     },
     "execution_count": 16,
     "metadata": {},
     "output_type": "execute_result"
    }
   ],
   "source": [
    "IQR_outliers(df['Standard Error'])"
   ]
  },
  {
   "cell_type": "code",
   "execution_count": 17,
   "id": "a2a90cf5",
   "metadata": {},
   "outputs": [
    {
     "name": "stdout",
     "output_type": "stream",
     "text": [
      "(146, 9)\n"
     ]
    },
    {
     "data": {
      "text/html": [
       "<div>\n",
       "<style scoped>\n",
       "    .dataframe tbody tr th:only-of-type {\n",
       "        vertical-align: middle;\n",
       "    }\n",
       "\n",
       "    .dataframe tbody tr th {\n",
       "        vertical-align: top;\n",
       "    }\n",
       "\n",
       "    .dataframe thead th {\n",
       "        text-align: right;\n",
       "    }\n",
       "</style>\n",
       "<table border=\"1\" class=\"dataframe\">\n",
       "  <thead>\n",
       "    <tr style=\"text-align: right;\">\n",
       "      <th></th>\n",
       "      <th>index</th>\n",
       "      <th>Happiness Score</th>\n",
       "      <th>Standard Error</th>\n",
       "      <th>Economy (GDP per Capita)</th>\n",
       "      <th>Family</th>\n",
       "      <th>Health (Life Expectancy)</th>\n",
       "      <th>Freedom</th>\n",
       "      <th>Trust (Government Corruption)</th>\n",
       "      <th>Generosity</th>\n",
       "      <th>Dystopia Residual</th>\n",
       "    </tr>\n",
       "  </thead>\n",
       "  <tbody>\n",
       "    <tr>\n",
       "      <th>0</th>\n",
       "      <td>12</td>\n",
       "      <td>7.200</td>\n",
       "      <td>0.03751</td>\n",
       "      <td>1.33723</td>\n",
       "      <td>1.29704</td>\n",
       "      <td>0.89042</td>\n",
       "      <td>0.62433</td>\n",
       "      <td>0.18676</td>\n",
       "      <td>0.33088</td>\n",
       "      <td>2.53320</td>\n",
       "    </tr>\n",
       "    <tr>\n",
       "      <th>1</th>\n",
       "      <td>13</td>\n",
       "      <td>7.187</td>\n",
       "      <td>0.04176</td>\n",
       "      <td>1.02054</td>\n",
       "      <td>0.91451</td>\n",
       "      <td>0.81444</td>\n",
       "      <td>0.48181</td>\n",
       "      <td>0.21312</td>\n",
       "      <td>0.14074</td>\n",
       "      <td>3.60214</td>\n",
       "    </tr>\n",
       "    <tr>\n",
       "      <th>2</th>\n",
       "      <td>14</td>\n",
       "      <td>7.119</td>\n",
       "      <td>0.03839</td>\n",
       "      <td>1.39451</td>\n",
       "      <td>1.24711</td>\n",
       "      <td>0.86179</td>\n",
       "      <td>0.54604</td>\n",
       "      <td>0.15890</td>\n",
       "      <td>0.40105</td>\n",
       "      <td>2.51011</td>\n",
       "    </tr>\n",
       "    <tr>\n",
       "      <th>3</th>\n",
       "      <td>15</td>\n",
       "      <td>6.983</td>\n",
       "      <td>0.04076</td>\n",
       "      <td>0.98124</td>\n",
       "      <td>1.23287</td>\n",
       "      <td>0.69702</td>\n",
       "      <td>0.49049</td>\n",
       "      <td>0.17521</td>\n",
       "      <td>0.14574</td>\n",
       "      <td>3.26001</td>\n",
       "    </tr>\n",
       "    <tr>\n",
       "      <th>4</th>\n",
       "      <td>16</td>\n",
       "      <td>6.946</td>\n",
       "      <td>0.03499</td>\n",
       "      <td>1.56391</td>\n",
       "      <td>1.21963</td>\n",
       "      <td>0.91894</td>\n",
       "      <td>0.61583</td>\n",
       "      <td>0.37798</td>\n",
       "      <td>0.28034</td>\n",
       "      <td>1.96961</td>\n",
       "    </tr>\n",
       "    <tr>\n",
       "      <th>...</th>\n",
       "      <td>...</td>\n",
       "      <td>...</td>\n",
       "      <td>...</td>\n",
       "      <td>...</td>\n",
       "      <td>...</td>\n",
       "      <td>...</td>\n",
       "      <td>...</td>\n",
       "      <td>...</td>\n",
       "      <td>...</td>\n",
       "      <td>...</td>\n",
       "    </tr>\n",
       "    <tr>\n",
       "      <th>141</th>\n",
       "      <td>153</td>\n",
       "      <td>3.465</td>\n",
       "      <td>0.03464</td>\n",
       "      <td>0.22208</td>\n",
       "      <td>0.77370</td>\n",
       "      <td>0.42864</td>\n",
       "      <td>0.59201</td>\n",
       "      <td>0.55191</td>\n",
       "      <td>0.22628</td>\n",
       "      <td>0.67042</td>\n",
       "    </tr>\n",
       "    <tr>\n",
       "      <th>142</th>\n",
       "      <td>154</td>\n",
       "      <td>3.340</td>\n",
       "      <td>0.03656</td>\n",
       "      <td>0.28665</td>\n",
       "      <td>0.35386</td>\n",
       "      <td>0.31910</td>\n",
       "      <td>0.48450</td>\n",
       "      <td>0.08010</td>\n",
       "      <td>0.18260</td>\n",
       "      <td>1.63328</td>\n",
       "    </tr>\n",
       "    <tr>\n",
       "      <th>143</th>\n",
       "      <td>155</td>\n",
       "      <td>3.006</td>\n",
       "      <td>0.05015</td>\n",
       "      <td>0.66320</td>\n",
       "      <td>0.47489</td>\n",
       "      <td>0.72193</td>\n",
       "      <td>0.15684</td>\n",
       "      <td>0.18906</td>\n",
       "      <td>0.47179</td>\n",
       "      <td>0.32858</td>\n",
       "    </tr>\n",
       "    <tr>\n",
       "      <th>144</th>\n",
       "      <td>156</td>\n",
       "      <td>2.905</td>\n",
       "      <td>0.08658</td>\n",
       "      <td>0.01530</td>\n",
       "      <td>0.41587</td>\n",
       "      <td>0.22396</td>\n",
       "      <td>0.11850</td>\n",
       "      <td>0.10062</td>\n",
       "      <td>0.19727</td>\n",
       "      <td>1.83302</td>\n",
       "    </tr>\n",
       "    <tr>\n",
       "      <th>145</th>\n",
       "      <td>157</td>\n",
       "      <td>2.839</td>\n",
       "      <td>0.06727</td>\n",
       "      <td>0.20868</td>\n",
       "      <td>0.13995</td>\n",
       "      <td>0.28443</td>\n",
       "      <td>0.36453</td>\n",
       "      <td>0.10731</td>\n",
       "      <td>0.16681</td>\n",
       "      <td>1.56726</td>\n",
       "    </tr>\n",
       "  </tbody>\n",
       "</table>\n",
       "<p>146 rows × 10 columns</p>\n",
       "</div>"
      ],
      "text/plain": [
       "     index  Happiness Score  Standard Error  Economy (GDP per Capita)  \\\n",
       "0       12            7.200         0.03751                   1.33723   \n",
       "1       13            7.187         0.04176                   1.02054   \n",
       "2       14            7.119         0.03839                   1.39451   \n",
       "3       15            6.983         0.04076                   0.98124   \n",
       "4       16            6.946         0.03499                   1.56391   \n",
       "..     ...              ...             ...                       ...   \n",
       "141    153            3.465         0.03464                   0.22208   \n",
       "142    154            3.340         0.03656                   0.28665   \n",
       "143    155            3.006         0.05015                   0.66320   \n",
       "144    156            2.905         0.08658                   0.01530   \n",
       "145    157            2.839         0.06727                   0.20868   \n",
       "\n",
       "      Family  Health (Life Expectancy)  Freedom  \\\n",
       "0    1.29704                   0.89042  0.62433   \n",
       "1    0.91451                   0.81444  0.48181   \n",
       "2    1.24711                   0.86179  0.54604   \n",
       "3    1.23287                   0.69702  0.49049   \n",
       "4    1.21963                   0.91894  0.61583   \n",
       "..       ...                       ...      ...   \n",
       "141  0.77370                   0.42864  0.59201   \n",
       "142  0.35386                   0.31910  0.48450   \n",
       "143  0.47489                   0.72193  0.15684   \n",
       "144  0.41587                   0.22396  0.11850   \n",
       "145  0.13995                   0.28443  0.36453   \n",
       "\n",
       "     Trust (Government Corruption)  Generosity  Dystopia Residual  \n",
       "0                          0.18676     0.33088            2.53320  \n",
       "1                          0.21312     0.14074            3.60214  \n",
       "2                          0.15890     0.40105            2.51011  \n",
       "3                          0.17521     0.14574            3.26001  \n",
       "4                          0.37798     0.28034            1.96961  \n",
       "..                             ...         ...                ...  \n",
       "141                        0.55191     0.22628            0.67042  \n",
       "142                        0.08010     0.18260            1.63328  \n",
       "143                        0.18906     0.47179            0.32858  \n",
       "144                        0.10062     0.19727            1.83302  \n",
       "145                        0.10731     0.16681            1.56726  \n",
       "\n",
       "[146 rows x 10 columns]"
      ]
     },
     "execution_count": 17,
     "metadata": {},
     "output_type": "execute_result"
    }
   ],
   "source": [
    "index = np.where(IQR_outliers(df['Standard Error']))\n",
    "df = df.drop(df.index[index])\n",
    "print(df.shape)\n",
    "df.reset_index()"
   ]
  },
  {
   "cell_type": "code",
   "execution_count": 18,
   "id": "e4a9b350",
   "metadata": {},
   "outputs": [
    {
     "data": {
      "text/plain": [
       "16     0.37798\n",
       "19     0.38583\n",
       "20     0.32067\n",
       "21     0.32524\n",
       "23     0.49210\n",
       "27     0.52208\n",
       "34     0.32524\n",
       "71     0.37124\n",
       "90     0.39928\n",
       "129    0.38331\n",
       "153    0.55191\n",
       "Name: Trust (Government Corruption), dtype: float64"
      ]
     },
     "execution_count": 18,
     "metadata": {},
     "output_type": "execute_result"
    }
   ],
   "source": [
    "IQR_outliers(df['Trust (Government Corruption)'])"
   ]
  },
  {
   "cell_type": "code",
   "execution_count": 19,
   "id": "98cb40b5",
   "metadata": {},
   "outputs": [
    {
     "name": "stdout",
     "output_type": "stream",
     "text": [
      "(135, 9)\n"
     ]
    },
    {
     "data": {
      "text/html": [
       "<div>\n",
       "<style scoped>\n",
       "    .dataframe tbody tr th:only-of-type {\n",
       "        vertical-align: middle;\n",
       "    }\n",
       "\n",
       "    .dataframe tbody tr th {\n",
       "        vertical-align: top;\n",
       "    }\n",
       "\n",
       "    .dataframe thead th {\n",
       "        text-align: right;\n",
       "    }\n",
       "</style>\n",
       "<table border=\"1\" class=\"dataframe\">\n",
       "  <thead>\n",
       "    <tr style=\"text-align: right;\">\n",
       "      <th></th>\n",
       "      <th>index</th>\n",
       "      <th>Happiness Score</th>\n",
       "      <th>Standard Error</th>\n",
       "      <th>Economy (GDP per Capita)</th>\n",
       "      <th>Family</th>\n",
       "      <th>Health (Life Expectancy)</th>\n",
       "      <th>Freedom</th>\n",
       "      <th>Trust (Government Corruption)</th>\n",
       "      <th>Generosity</th>\n",
       "      <th>Dystopia Residual</th>\n",
       "    </tr>\n",
       "  </thead>\n",
       "  <tbody>\n",
       "    <tr>\n",
       "      <th>0</th>\n",
       "      <td>23</td>\n",
       "      <td>6.798</td>\n",
       "      <td>0.03780</td>\n",
       "      <td>1.52186</td>\n",
       "      <td>1.02000</td>\n",
       "      <td>1.02525</td>\n",
       "      <td>0.54252</td>\n",
       "      <td>0.49210</td>\n",
       "      <td>0.31105</td>\n",
       "      <td>1.88501</td>\n",
       "    </tr>\n",
       "    <tr>\n",
       "      <th>1</th>\n",
       "      <td>24</td>\n",
       "      <td>6.786</td>\n",
       "      <td>0.04910</td>\n",
       "      <td>1.06353</td>\n",
       "      <td>1.19850</td>\n",
       "      <td>0.79661</td>\n",
       "      <td>0.54210</td>\n",
       "      <td>0.09270</td>\n",
       "      <td>0.24434</td>\n",
       "      <td>2.84848</td>\n",
       "    </tr>\n",
       "    <tr>\n",
       "      <th>2</th>\n",
       "      <td>25</td>\n",
       "      <td>6.750</td>\n",
       "      <td>0.01848</td>\n",
       "      <td>1.32792</td>\n",
       "      <td>1.29937</td>\n",
       "      <td>0.89186</td>\n",
       "      <td>0.61477</td>\n",
       "      <td>0.21843</td>\n",
       "      <td>0.28214</td>\n",
       "      <td>2.11569</td>\n",
       "    </tr>\n",
       "    <tr>\n",
       "      <th>3</th>\n",
       "      <td>26</td>\n",
       "      <td>6.670</td>\n",
       "      <td>0.05800</td>\n",
       "      <td>1.10715</td>\n",
       "      <td>1.12447</td>\n",
       "      <td>0.85857</td>\n",
       "      <td>0.44132</td>\n",
       "      <td>0.12869</td>\n",
       "      <td>0.33363</td>\n",
       "      <td>2.67585</td>\n",
       "    </tr>\n",
       "    <tr>\n",
       "      <th>4</th>\n",
       "      <td>27</td>\n",
       "      <td>6.611</td>\n",
       "      <td>0.06257</td>\n",
       "      <td>1.69042</td>\n",
       "      <td>1.07860</td>\n",
       "      <td>0.79733</td>\n",
       "      <td>0.64040</td>\n",
       "      <td>0.52208</td>\n",
       "      <td>0.32573</td>\n",
       "      <td>1.55674</td>\n",
       "    </tr>\n",
       "    <tr>\n",
       "      <th>...</th>\n",
       "      <td>...</td>\n",
       "      <td>...</td>\n",
       "      <td>...</td>\n",
       "      <td>...</td>\n",
       "      <td>...</td>\n",
       "      <td>...</td>\n",
       "      <td>...</td>\n",
       "      <td>...</td>\n",
       "      <td>...</td>\n",
       "      <td>...</td>\n",
       "    </tr>\n",
       "    <tr>\n",
       "      <th>130</th>\n",
       "      <td>153</td>\n",
       "      <td>3.465</td>\n",
       "      <td>0.03464</td>\n",
       "      <td>0.22208</td>\n",
       "      <td>0.77370</td>\n",
       "      <td>0.42864</td>\n",
       "      <td>0.59201</td>\n",
       "      <td>0.55191</td>\n",
       "      <td>0.22628</td>\n",
       "      <td>0.67042</td>\n",
       "    </tr>\n",
       "    <tr>\n",
       "      <th>131</th>\n",
       "      <td>154</td>\n",
       "      <td>3.340</td>\n",
       "      <td>0.03656</td>\n",
       "      <td>0.28665</td>\n",
       "      <td>0.35386</td>\n",
       "      <td>0.31910</td>\n",
       "      <td>0.48450</td>\n",
       "      <td>0.08010</td>\n",
       "      <td>0.18260</td>\n",
       "      <td>1.63328</td>\n",
       "    </tr>\n",
       "    <tr>\n",
       "      <th>132</th>\n",
       "      <td>155</td>\n",
       "      <td>3.006</td>\n",
       "      <td>0.05015</td>\n",
       "      <td>0.66320</td>\n",
       "      <td>0.47489</td>\n",
       "      <td>0.72193</td>\n",
       "      <td>0.15684</td>\n",
       "      <td>0.18906</td>\n",
       "      <td>0.47179</td>\n",
       "      <td>0.32858</td>\n",
       "    </tr>\n",
       "    <tr>\n",
       "      <th>133</th>\n",
       "      <td>156</td>\n",
       "      <td>2.905</td>\n",
       "      <td>0.08658</td>\n",
       "      <td>0.01530</td>\n",
       "      <td>0.41587</td>\n",
       "      <td>0.22396</td>\n",
       "      <td>0.11850</td>\n",
       "      <td>0.10062</td>\n",
       "      <td>0.19727</td>\n",
       "      <td>1.83302</td>\n",
       "    </tr>\n",
       "    <tr>\n",
       "      <th>134</th>\n",
       "      <td>157</td>\n",
       "      <td>2.839</td>\n",
       "      <td>0.06727</td>\n",
       "      <td>0.20868</td>\n",
       "      <td>0.13995</td>\n",
       "      <td>0.28443</td>\n",
       "      <td>0.36453</td>\n",
       "      <td>0.10731</td>\n",
       "      <td>0.16681</td>\n",
       "      <td>1.56726</td>\n",
       "    </tr>\n",
       "  </tbody>\n",
       "</table>\n",
       "<p>135 rows × 10 columns</p>\n",
       "</div>"
      ],
      "text/plain": [
       "     index  Happiness Score  Standard Error  Economy (GDP per Capita)  \\\n",
       "0       23            6.798         0.03780                   1.52186   \n",
       "1       24            6.786         0.04910                   1.06353   \n",
       "2       25            6.750         0.01848                   1.32792   \n",
       "3       26            6.670         0.05800                   1.10715   \n",
       "4       27            6.611         0.06257                   1.69042   \n",
       "..     ...              ...             ...                       ...   \n",
       "130    153            3.465         0.03464                   0.22208   \n",
       "131    154            3.340         0.03656                   0.28665   \n",
       "132    155            3.006         0.05015                   0.66320   \n",
       "133    156            2.905         0.08658                   0.01530   \n",
       "134    157            2.839         0.06727                   0.20868   \n",
       "\n",
       "      Family  Health (Life Expectancy)  Freedom  \\\n",
       "0    1.02000                   1.02525  0.54252   \n",
       "1    1.19850                   0.79661  0.54210   \n",
       "2    1.29937                   0.89186  0.61477   \n",
       "3    1.12447                   0.85857  0.44132   \n",
       "4    1.07860                   0.79733  0.64040   \n",
       "..       ...                       ...      ...   \n",
       "130  0.77370                   0.42864  0.59201   \n",
       "131  0.35386                   0.31910  0.48450   \n",
       "132  0.47489                   0.72193  0.15684   \n",
       "133  0.41587                   0.22396  0.11850   \n",
       "134  0.13995                   0.28443  0.36453   \n",
       "\n",
       "     Trust (Government Corruption)  Generosity  Dystopia Residual  \n",
       "0                          0.49210     0.31105            1.88501  \n",
       "1                          0.09270     0.24434            2.84848  \n",
       "2                          0.21843     0.28214            2.11569  \n",
       "3                          0.12869     0.33363            2.67585  \n",
       "4                          0.52208     0.32573            1.55674  \n",
       "..                             ...         ...                ...  \n",
       "130                        0.55191     0.22628            0.67042  \n",
       "131                        0.08010     0.18260            1.63328  \n",
       "132                        0.18906     0.47179            0.32858  \n",
       "133                        0.10062     0.19727            1.83302  \n",
       "134                        0.10731     0.16681            1.56726  \n",
       "\n",
       "[135 rows x 10 columns]"
      ]
     },
     "execution_count": 19,
     "metadata": {},
     "output_type": "execute_result"
    }
   ],
   "source": [
    "index = np.where(IQR_outliers(df['Trust (Government Corruption)']))\n",
    "df = df.drop(df.index[index])\n",
    "print(df.shape)\n",
    "df.reset_index()"
   ]
  },
  {
   "cell_type": "code",
   "execution_count": 20,
   "id": "49c06240",
   "metadata": {},
   "outputs": [
    {
     "data": {
      "text/plain": [
       "33     0.57630\n",
       "36     0.51752\n",
       "73     0.51535\n",
       "90     0.50318\n",
       "128    0.79588\n",
       "Name: Generosity, dtype: float64"
      ]
     },
     "execution_count": 20,
     "metadata": {},
     "output_type": "execute_result"
    }
   ],
   "source": [
    "IQR_outliers(df['Generosity'])"
   ]
  },
  {
   "cell_type": "code",
   "execution_count": 21,
   "id": "55c84215",
   "metadata": {},
   "outputs": [
    {
     "name": "stdout",
     "output_type": "stream",
     "text": [
      "(130, 9)\n"
     ]
    },
    {
     "data": {
      "text/html": [
       "<div>\n",
       "<style scoped>\n",
       "    .dataframe tbody tr th:only-of-type {\n",
       "        vertical-align: middle;\n",
       "    }\n",
       "\n",
       "    .dataframe tbody tr th {\n",
       "        vertical-align: top;\n",
       "    }\n",
       "\n",
       "    .dataframe thead th {\n",
       "        text-align: right;\n",
       "    }\n",
       "</style>\n",
       "<table border=\"1\" class=\"dataframe\">\n",
       "  <thead>\n",
       "    <tr style=\"text-align: right;\">\n",
       "      <th></th>\n",
       "      <th>index</th>\n",
       "      <th>Happiness Score</th>\n",
       "      <th>Standard Error</th>\n",
       "      <th>Economy (GDP per Capita)</th>\n",
       "      <th>Family</th>\n",
       "      <th>Health (Life Expectancy)</th>\n",
       "      <th>Freedom</th>\n",
       "      <th>Trust (Government Corruption)</th>\n",
       "      <th>Generosity</th>\n",
       "      <th>Dystopia Residual</th>\n",
       "    </tr>\n",
       "  </thead>\n",
       "  <tbody>\n",
       "    <tr>\n",
       "      <th>0</th>\n",
       "      <td>28</td>\n",
       "      <td>6.575</td>\n",
       "      <td>0.03512</td>\n",
       "      <td>1.27778</td>\n",
       "      <td>1.26038</td>\n",
       "      <td>0.94579</td>\n",
       "      <td>0.55011</td>\n",
       "      <td>0.20646</td>\n",
       "      <td>0.12332</td>\n",
       "      <td>2.21126</td>\n",
       "    </tr>\n",
       "    <tr>\n",
       "      <th>1</th>\n",
       "      <td>29</td>\n",
       "      <td>6.574</td>\n",
       "      <td>0.04612</td>\n",
       "      <td>1.05351</td>\n",
       "      <td>1.24823</td>\n",
       "      <td>0.78723</td>\n",
       "      <td>0.44974</td>\n",
       "      <td>0.08484</td>\n",
       "      <td>0.11451</td>\n",
       "      <td>2.83600</td>\n",
       "    </tr>\n",
       "    <tr>\n",
       "      <th>2</th>\n",
       "      <td>30</td>\n",
       "      <td>6.505</td>\n",
       "      <td>0.04168</td>\n",
       "      <td>1.17898</td>\n",
       "      <td>1.20643</td>\n",
       "      <td>0.84483</td>\n",
       "      <td>0.46364</td>\n",
       "      <td>0.02652</td>\n",
       "      <td>0.10686</td>\n",
       "      <td>2.67782</td>\n",
       "    </tr>\n",
       "    <tr>\n",
       "      <th>3</th>\n",
       "      <td>31</td>\n",
       "      <td>6.485</td>\n",
       "      <td>0.04539</td>\n",
       "      <td>1.06166</td>\n",
       "      <td>1.20890</td>\n",
       "      <td>0.81160</td>\n",
       "      <td>0.60362</td>\n",
       "      <td>0.24558</td>\n",
       "      <td>0.23240</td>\n",
       "      <td>2.32142</td>\n",
       "    </tr>\n",
       "    <tr>\n",
       "      <th>4</th>\n",
       "      <td>32</td>\n",
       "      <td>6.477</td>\n",
       "      <td>0.05051</td>\n",
       "      <td>0.91861</td>\n",
       "      <td>1.24018</td>\n",
       "      <td>0.69077</td>\n",
       "      <td>0.53466</td>\n",
       "      <td>0.05120</td>\n",
       "      <td>0.18401</td>\n",
       "      <td>2.85737</td>\n",
       "    </tr>\n",
       "    <tr>\n",
       "      <th>...</th>\n",
       "      <td>...</td>\n",
       "      <td>...</td>\n",
       "      <td>...</td>\n",
       "      <td>...</td>\n",
       "      <td>...</td>\n",
       "      <td>...</td>\n",
       "      <td>...</td>\n",
       "      <td>...</td>\n",
       "      <td>...</td>\n",
       "      <td>...</td>\n",
       "    </tr>\n",
       "    <tr>\n",
       "      <th>125</th>\n",
       "      <td>153</td>\n",
       "      <td>3.465</td>\n",
       "      <td>0.03464</td>\n",
       "      <td>0.22208</td>\n",
       "      <td>0.77370</td>\n",
       "      <td>0.42864</td>\n",
       "      <td>0.59201</td>\n",
       "      <td>0.55191</td>\n",
       "      <td>0.22628</td>\n",
       "      <td>0.67042</td>\n",
       "    </tr>\n",
       "    <tr>\n",
       "      <th>126</th>\n",
       "      <td>154</td>\n",
       "      <td>3.340</td>\n",
       "      <td>0.03656</td>\n",
       "      <td>0.28665</td>\n",
       "      <td>0.35386</td>\n",
       "      <td>0.31910</td>\n",
       "      <td>0.48450</td>\n",
       "      <td>0.08010</td>\n",
       "      <td>0.18260</td>\n",
       "      <td>1.63328</td>\n",
       "    </tr>\n",
       "    <tr>\n",
       "      <th>127</th>\n",
       "      <td>155</td>\n",
       "      <td>3.006</td>\n",
       "      <td>0.05015</td>\n",
       "      <td>0.66320</td>\n",
       "      <td>0.47489</td>\n",
       "      <td>0.72193</td>\n",
       "      <td>0.15684</td>\n",
       "      <td>0.18906</td>\n",
       "      <td>0.47179</td>\n",
       "      <td>0.32858</td>\n",
       "    </tr>\n",
       "    <tr>\n",
       "      <th>128</th>\n",
       "      <td>156</td>\n",
       "      <td>2.905</td>\n",
       "      <td>0.08658</td>\n",
       "      <td>0.01530</td>\n",
       "      <td>0.41587</td>\n",
       "      <td>0.22396</td>\n",
       "      <td>0.11850</td>\n",
       "      <td>0.10062</td>\n",
       "      <td>0.19727</td>\n",
       "      <td>1.83302</td>\n",
       "    </tr>\n",
       "    <tr>\n",
       "      <th>129</th>\n",
       "      <td>157</td>\n",
       "      <td>2.839</td>\n",
       "      <td>0.06727</td>\n",
       "      <td>0.20868</td>\n",
       "      <td>0.13995</td>\n",
       "      <td>0.28443</td>\n",
       "      <td>0.36453</td>\n",
       "      <td>0.10731</td>\n",
       "      <td>0.16681</td>\n",
       "      <td>1.56726</td>\n",
       "    </tr>\n",
       "  </tbody>\n",
       "</table>\n",
       "<p>130 rows × 10 columns</p>\n",
       "</div>"
      ],
      "text/plain": [
       "     index  Happiness Score  Standard Error  Economy (GDP per Capita)  \\\n",
       "0       28            6.575         0.03512                   1.27778   \n",
       "1       29            6.574         0.04612                   1.05351   \n",
       "2       30            6.505         0.04168                   1.17898   \n",
       "3       31            6.485         0.04539                   1.06166   \n",
       "4       32            6.477         0.05051                   0.91861   \n",
       "..     ...              ...             ...                       ...   \n",
       "125    153            3.465         0.03464                   0.22208   \n",
       "126    154            3.340         0.03656                   0.28665   \n",
       "127    155            3.006         0.05015                   0.66320   \n",
       "128    156            2.905         0.08658                   0.01530   \n",
       "129    157            2.839         0.06727                   0.20868   \n",
       "\n",
       "      Family  Health (Life Expectancy)  Freedom  \\\n",
       "0    1.26038                   0.94579  0.55011   \n",
       "1    1.24823                   0.78723  0.44974   \n",
       "2    1.20643                   0.84483  0.46364   \n",
       "3    1.20890                   0.81160  0.60362   \n",
       "4    1.24018                   0.69077  0.53466   \n",
       "..       ...                       ...      ...   \n",
       "125  0.77370                   0.42864  0.59201   \n",
       "126  0.35386                   0.31910  0.48450   \n",
       "127  0.47489                   0.72193  0.15684   \n",
       "128  0.41587                   0.22396  0.11850   \n",
       "129  0.13995                   0.28443  0.36453   \n",
       "\n",
       "     Trust (Government Corruption)  Generosity  Dystopia Residual  \n",
       "0                          0.20646     0.12332            2.21126  \n",
       "1                          0.08484     0.11451            2.83600  \n",
       "2                          0.02652     0.10686            2.67782  \n",
       "3                          0.24558     0.23240            2.32142  \n",
       "4                          0.05120     0.18401            2.85737  \n",
       "..                             ...         ...                ...  \n",
       "125                        0.55191     0.22628            0.67042  \n",
       "126                        0.08010     0.18260            1.63328  \n",
       "127                        0.18906     0.47179            0.32858  \n",
       "128                        0.10062     0.19727            1.83302  \n",
       "129                        0.10731     0.16681            1.56726  \n",
       "\n",
       "[130 rows x 10 columns]"
      ]
     },
     "execution_count": 21,
     "metadata": {},
     "output_type": "execute_result"
    }
   ],
   "source": [
    "index = np.where(IQR_outliers(df['Generosity']))\n",
    "df = df.drop(df.index[index])\n",
    "print(df.shape)\n",
    "df.reset_index()"
   ]
  },
  {
   "cell_type": "code",
   "execution_count": 22,
   "id": "9fdee4c8",
   "metadata": {},
   "outputs": [
    {
     "data": {
      "text/plain": [
       "71     0.65429\n",
       "131    0.67108\n",
       "153    0.67042\n",
       "155    0.32858\n",
       "Name: Dystopia Residual, dtype: float64"
      ]
     },
     "execution_count": 22,
     "metadata": {},
     "output_type": "execute_result"
    }
   ],
   "source": [
    "IQR_outliers(df['Dystopia Residual'])"
   ]
  },
  {
   "cell_type": "code",
   "execution_count": 23,
   "id": "fc7cc637",
   "metadata": {},
   "outputs": [
    {
     "name": "stdout",
     "output_type": "stream",
     "text": [
      "(126, 9)\n"
     ]
    },
    {
     "data": {
      "text/html": [
       "<div>\n",
       "<style scoped>\n",
       "    .dataframe tbody tr th:only-of-type {\n",
       "        vertical-align: middle;\n",
       "    }\n",
       "\n",
       "    .dataframe tbody tr th {\n",
       "        vertical-align: top;\n",
       "    }\n",
       "\n",
       "    .dataframe thead th {\n",
       "        text-align: right;\n",
       "    }\n",
       "</style>\n",
       "<table border=\"1\" class=\"dataframe\">\n",
       "  <thead>\n",
       "    <tr style=\"text-align: right;\">\n",
       "      <th></th>\n",
       "      <th>index</th>\n",
       "      <th>Happiness Score</th>\n",
       "      <th>Standard Error</th>\n",
       "      <th>Economy (GDP per Capita)</th>\n",
       "      <th>Family</th>\n",
       "      <th>Health (Life Expectancy)</th>\n",
       "      <th>Freedom</th>\n",
       "      <th>Trust (Government Corruption)</th>\n",
       "      <th>Generosity</th>\n",
       "      <th>Dystopia Residual</th>\n",
       "    </tr>\n",
       "  </thead>\n",
       "  <tbody>\n",
       "    <tr>\n",
       "      <th>0</th>\n",
       "      <td>32</td>\n",
       "      <td>6.477</td>\n",
       "      <td>0.05051</td>\n",
       "      <td>0.91861</td>\n",
       "      <td>1.24018</td>\n",
       "      <td>0.69077</td>\n",
       "      <td>0.53466</td>\n",
       "      <td>0.05120</td>\n",
       "      <td>0.18401</td>\n",
       "      <td>2.85737</td>\n",
       "    </tr>\n",
       "    <tr>\n",
       "      <th>1</th>\n",
       "      <td>33</td>\n",
       "      <td>6.455</td>\n",
       "      <td>0.03557</td>\n",
       "      <td>0.96690</td>\n",
       "      <td>1.26504</td>\n",
       "      <td>0.73850</td>\n",
       "      <td>0.55664</td>\n",
       "      <td>0.03187</td>\n",
       "      <td>0.57630</td>\n",
       "      <td>2.31945</td>\n",
       "    </tr>\n",
       "    <tr>\n",
       "      <th>2</th>\n",
       "      <td>34</td>\n",
       "      <td>6.411</td>\n",
       "      <td>0.04633</td>\n",
       "      <td>1.39541</td>\n",
       "      <td>1.08393</td>\n",
       "      <td>0.72025</td>\n",
       "      <td>0.31048</td>\n",
       "      <td>0.32524</td>\n",
       "      <td>0.13706</td>\n",
       "      <td>2.43872</td>\n",
       "    </tr>\n",
       "    <tr>\n",
       "      <th>3</th>\n",
       "      <td>35</td>\n",
       "      <td>6.329</td>\n",
       "      <td>0.03468</td>\n",
       "      <td>1.23011</td>\n",
       "      <td>1.31379</td>\n",
       "      <td>0.95562</td>\n",
       "      <td>0.45951</td>\n",
       "      <td>0.06398</td>\n",
       "      <td>0.18227</td>\n",
       "      <td>2.12367</td>\n",
       "    </tr>\n",
       "    <tr>\n",
       "      <th>4</th>\n",
       "      <td>36</td>\n",
       "      <td>6.302</td>\n",
       "      <td>0.04206</td>\n",
       "      <td>1.20740</td>\n",
       "      <td>1.30203</td>\n",
       "      <td>0.88721</td>\n",
       "      <td>0.60365</td>\n",
       "      <td>0.13586</td>\n",
       "      <td>0.51752</td>\n",
       "      <td>1.64880</td>\n",
       "    </tr>\n",
       "    <tr>\n",
       "      <th>...</th>\n",
       "      <td>...</td>\n",
       "      <td>...</td>\n",
       "      <td>...</td>\n",
       "      <td>...</td>\n",
       "      <td>...</td>\n",
       "      <td>...</td>\n",
       "      <td>...</td>\n",
       "      <td>...</td>\n",
       "      <td>...</td>\n",
       "      <td>...</td>\n",
       "    </tr>\n",
       "    <tr>\n",
       "      <th>121</th>\n",
       "      <td>153</td>\n",
       "      <td>3.465</td>\n",
       "      <td>0.03464</td>\n",
       "      <td>0.22208</td>\n",
       "      <td>0.77370</td>\n",
       "      <td>0.42864</td>\n",
       "      <td>0.59201</td>\n",
       "      <td>0.55191</td>\n",
       "      <td>0.22628</td>\n",
       "      <td>0.67042</td>\n",
       "    </tr>\n",
       "    <tr>\n",
       "      <th>122</th>\n",
       "      <td>154</td>\n",
       "      <td>3.340</td>\n",
       "      <td>0.03656</td>\n",
       "      <td>0.28665</td>\n",
       "      <td>0.35386</td>\n",
       "      <td>0.31910</td>\n",
       "      <td>0.48450</td>\n",
       "      <td>0.08010</td>\n",
       "      <td>0.18260</td>\n",
       "      <td>1.63328</td>\n",
       "    </tr>\n",
       "    <tr>\n",
       "      <th>123</th>\n",
       "      <td>155</td>\n",
       "      <td>3.006</td>\n",
       "      <td>0.05015</td>\n",
       "      <td>0.66320</td>\n",
       "      <td>0.47489</td>\n",
       "      <td>0.72193</td>\n",
       "      <td>0.15684</td>\n",
       "      <td>0.18906</td>\n",
       "      <td>0.47179</td>\n",
       "      <td>0.32858</td>\n",
       "    </tr>\n",
       "    <tr>\n",
       "      <th>124</th>\n",
       "      <td>156</td>\n",
       "      <td>2.905</td>\n",
       "      <td>0.08658</td>\n",
       "      <td>0.01530</td>\n",
       "      <td>0.41587</td>\n",
       "      <td>0.22396</td>\n",
       "      <td>0.11850</td>\n",
       "      <td>0.10062</td>\n",
       "      <td>0.19727</td>\n",
       "      <td>1.83302</td>\n",
       "    </tr>\n",
       "    <tr>\n",
       "      <th>125</th>\n",
       "      <td>157</td>\n",
       "      <td>2.839</td>\n",
       "      <td>0.06727</td>\n",
       "      <td>0.20868</td>\n",
       "      <td>0.13995</td>\n",
       "      <td>0.28443</td>\n",
       "      <td>0.36453</td>\n",
       "      <td>0.10731</td>\n",
       "      <td>0.16681</td>\n",
       "      <td>1.56726</td>\n",
       "    </tr>\n",
       "  </tbody>\n",
       "</table>\n",
       "<p>126 rows × 10 columns</p>\n",
       "</div>"
      ],
      "text/plain": [
       "     index  Happiness Score  Standard Error  Economy (GDP per Capita)  \\\n",
       "0       32            6.477         0.05051                   0.91861   \n",
       "1       33            6.455         0.03557                   0.96690   \n",
       "2       34            6.411         0.04633                   1.39541   \n",
       "3       35            6.329         0.03468                   1.23011   \n",
       "4       36            6.302         0.04206                   1.20740   \n",
       "..     ...              ...             ...                       ...   \n",
       "121    153            3.465         0.03464                   0.22208   \n",
       "122    154            3.340         0.03656                   0.28665   \n",
       "123    155            3.006         0.05015                   0.66320   \n",
       "124    156            2.905         0.08658                   0.01530   \n",
       "125    157            2.839         0.06727                   0.20868   \n",
       "\n",
       "      Family  Health (Life Expectancy)  Freedom  \\\n",
       "0    1.24018                   0.69077  0.53466   \n",
       "1    1.26504                   0.73850  0.55664   \n",
       "2    1.08393                   0.72025  0.31048   \n",
       "3    1.31379                   0.95562  0.45951   \n",
       "4    1.30203                   0.88721  0.60365   \n",
       "..       ...                       ...      ...   \n",
       "121  0.77370                   0.42864  0.59201   \n",
       "122  0.35386                   0.31910  0.48450   \n",
       "123  0.47489                   0.72193  0.15684   \n",
       "124  0.41587                   0.22396  0.11850   \n",
       "125  0.13995                   0.28443  0.36453   \n",
       "\n",
       "     Trust (Government Corruption)  Generosity  Dystopia Residual  \n",
       "0                          0.05120     0.18401            2.85737  \n",
       "1                          0.03187     0.57630            2.31945  \n",
       "2                          0.32524     0.13706            2.43872  \n",
       "3                          0.06398     0.18227            2.12367  \n",
       "4                          0.13586     0.51752            1.64880  \n",
       "..                             ...         ...                ...  \n",
       "121                        0.55191     0.22628            0.67042  \n",
       "122                        0.08010     0.18260            1.63328  \n",
       "123                        0.18906     0.47179            0.32858  \n",
       "124                        0.10062     0.19727            1.83302  \n",
       "125                        0.10731     0.16681            1.56726  \n",
       "\n",
       "[126 rows x 10 columns]"
      ]
     },
     "execution_count": 23,
     "metadata": {},
     "output_type": "execute_result"
    }
   ],
   "source": [
    "index = np.where(IQR_outliers(df['Dystopia Residual']))\n",
    "df = df.drop(df.index[index])\n",
    "print(df.shape)\n",
    "df.reset_index()"
   ]
  },
  {
   "cell_type": "code",
   "execution_count": 24,
   "id": "239e0aae",
   "metadata": {},
   "outputs": [
    {
     "data": {
      "text/plain": [
       "20.253164556962027"
      ]
     },
     "execution_count": 24,
     "metadata": {},
     "output_type": "execute_result"
    }
   ],
   "source": [
    "## Percentage Dataloss: \n",
    "loss_percent = (158-126)/158*100\n",
    "loss_percent"
   ]
  },
  {
   "cell_type": "code",
   "execution_count": 25,
   "id": "c7aec3da",
   "metadata": {},
   "outputs": [
    {
     "data": {
      "image/png": "[encoded data removed]",
      "text/plain": [
       "<Figure size 1440x1440 with 9 Axes>"
      ]
     },
     "metadata": {},
     "output_type": "display_data"
    }
   ],
   "source": [
    "## Now will check if the skewness is handled or not after removing outliers. \n",
    "# Dist plot\n",
    "\n",
    "plt.figure(figsize = (20,20), facecolor = 'green')\n",
    "plotnumber = 1  # intializing 1 to a name\n",
    "\n",
    "for column in df:\n",
    "    if plotnumber <=9:\n",
    "        ax = plt.subplot(2,5,plotnumber) #  In 2 rows 5 columns to be plotted. \n",
    "        sns.distplot(df[column])\n",
    "        plt.xlabel(column,fontsize = 18)\n",
    "        plotnumber += 1\n",
    "        plt.tight_layout()"
   ]
  },
  {
   "cell_type": "markdown",
   "id": "1900bcc3",
   "metadata": {},
   "source": [
    "#### Skweness looks better after treting the outliers. "
   ]
  },
  {
   "cell_type": "markdown",
   "id": "a7395133",
   "metadata": {},
   "source": [
    "## Now Data will be divide into label and features. "
   ]
  },
  {
   "cell_type": "code",
   "execution_count": 26,
   "id": "f76e4489",
   "metadata": {},
   "outputs": [
    {
     "data": {
      "text/html": [
       "<div>\n",
       "<style scoped>\n",
       "    .dataframe tbody tr th:only-of-type {\n",
       "        vertical-align: middle;\n",
       "    }\n",
       "\n",
       "    .dataframe tbody tr th {\n",
       "        vertical-align: top;\n",
       "    }\n",
       "\n",
       "    .dataframe thead th {\n",
       "        text-align: right;\n",
       "    }\n",
       "</style>\n",
       "<table border=\"1\" class=\"dataframe\">\n",
       "  <thead>\n",
       "    <tr style=\"text-align: right;\">\n",
       "      <th></th>\n",
       "      <th>Happiness Score</th>\n",
       "    </tr>\n",
       "  </thead>\n",
       "  <tbody>\n",
       "    <tr>\n",
       "      <th>32</th>\n",
       "      <td>6.477</td>\n",
       "    </tr>\n",
       "    <tr>\n",
       "      <th>33</th>\n",
       "      <td>6.455</td>\n",
       "    </tr>\n",
       "    <tr>\n",
       "      <th>34</th>\n",
       "      <td>6.411</td>\n",
       "    </tr>\n",
       "    <tr>\n",
       "      <th>35</th>\n",
       "      <td>6.329</td>\n",
       "    </tr>\n",
       "    <tr>\n",
       "      <th>36</th>\n",
       "      <td>6.302</td>\n",
       "    </tr>\n",
       "    <tr>\n",
       "      <th>...</th>\n",
       "      <td>...</td>\n",
       "    </tr>\n",
       "    <tr>\n",
       "      <th>153</th>\n",
       "      <td>3.465</td>\n",
       "    </tr>\n",
       "    <tr>\n",
       "      <th>154</th>\n",
       "      <td>3.340</td>\n",
       "    </tr>\n",
       "    <tr>\n",
       "      <th>155</th>\n",
       "      <td>3.006</td>\n",
       "    </tr>\n",
       "    <tr>\n",
       "      <th>156</th>\n",
       "      <td>2.905</td>\n",
       "    </tr>\n",
       "    <tr>\n",
       "      <th>157</th>\n",
       "      <td>2.839</td>\n",
       "    </tr>\n",
       "  </tbody>\n",
       "</table>\n",
       "<p>126 rows × 1 columns</p>\n",
       "</div>"
      ],
      "text/plain": [
       "     Happiness Score\n",
       "32             6.477\n",
       "33             6.455\n",
       "34             6.411\n",
       "35             6.329\n",
       "36             6.302\n",
       "..               ...\n",
       "153            3.465\n",
       "154            3.340\n",
       "155            3.006\n",
       "156            2.905\n",
       "157            2.839\n",
       "\n",
       "[126 rows x 1 columns]"
      ]
     },
     "execution_count": 26,
     "metadata": {},
     "output_type": "execute_result"
    }
   ],
   "source": [
    "x = df.iloc[:,1:]\n",
    "y = df.iloc[:,:1]\n",
    "x\n",
    "y"
   ]
  },
  {
   "cell_type": "markdown",
   "id": "f2991025",
   "metadata": {},
   "source": [
    "## Correlation:"
   ]
  },
  {
   "cell_type": "markdown",
   "id": "929741c3",
   "metadata": {},
   "source": [
    "### Visualizing Relationship between Features and label. "
   ]
  },
  {
   "cell_type": "code",
   "execution_count": 27,
   "id": "ce96cead",
   "metadata": {},
   "outputs": [
    {
     "data": {
      "image/png": "[encoded data removed]",
      "text/plain": [
       "<Figure size 1440x1440 with 8 Axes>"
      ]
     },
     "metadata": {},
     "output_type": "display_data"
    }
   ],
   "source": [
    "## Will use Scatter plot to find relationship between x and y.\n",
    "\n",
    "plt.figure(figsize = (20,20), facecolor = \"yellow\")\n",
    "plotnumber = 1\n",
    "\n",
    "for column in x: \n",
    "    if plotnumber<= 8: \n",
    "        ax = plt.subplot(2,4,plotnumber)\n",
    "        plt.scatter(x[column],y)\n",
    "        plt.xlabel(column,fontsize = 14)\n",
    "        plotnumber +=1\n",
    "        plt.tight_layout()"
   ]
  },
  {
   "cell_type": "markdown",
   "id": "7dd8c106",
   "metadata": {},
   "source": [
    "#### we can see positivie trend in almost all the subplots except Standard error, Trust (Government curruption)and Generosity.and the remaining columns, relationship with happiness score is linear. "
   ]
  },
  {
   "cell_type": "code",
   "execution_count": 28,
   "id": "0d1a5351",
   "metadata": {},
   "outputs": [
    {
     "data": {
      "text/html": [
       "<div>\n",
       "<style scoped>\n",
       "    .dataframe tbody tr th:only-of-type {\n",
       "        vertical-align: middle;\n",
       "    }\n",
       "\n",
       "    .dataframe tbody tr th {\n",
       "        vertical-align: top;\n",
       "    }\n",
       "\n",
       "    .dataframe thead th {\n",
       "        text-align: right;\n",
       "    }\n",
       "</style>\n",
       "<table border=\"1\" class=\"dataframe\">\n",
       "  <thead>\n",
       "    <tr style=\"text-align: right;\">\n",
       "      <th></th>\n",
       "      <th>Happiness Score</th>\n",
       "      <th>Standard Error</th>\n",
       "      <th>Economy (GDP per Capita)</th>\n",
       "      <th>Family</th>\n",
       "      <th>Health (Life Expectancy)</th>\n",
       "      <th>Freedom</th>\n",
       "      <th>Trust (Government Corruption)</th>\n",
       "      <th>Generosity</th>\n",
       "      <th>Dystopia Residual</th>\n",
       "    </tr>\n",
       "  </thead>\n",
       "  <tbody>\n",
       "    <tr>\n",
       "      <th>Happiness Score</th>\n",
       "      <td>1.000000</td>\n",
       "      <td>0.019756</td>\n",
       "      <td>0.696569</td>\n",
       "      <td>0.673425</td>\n",
       "      <td>0.625620</td>\n",
       "      <td>0.320761</td>\n",
       "      <td>-0.047797</td>\n",
       "      <td>-0.048655</td>\n",
       "      <td>0.435287</td>\n",
       "    </tr>\n",
       "    <tr>\n",
       "      <th>Standard Error</th>\n",
       "      <td>0.019756</td>\n",
       "      <td>1.000000</td>\n",
       "      <td>-0.100567</td>\n",
       "      <td>0.011636</td>\n",
       "      <td>-0.215843</td>\n",
       "      <td>0.020551</td>\n",
       "      <td>-0.019731</td>\n",
       "      <td>0.020577</td>\n",
       "      <td>0.185809</td>\n",
       "    </tr>\n",
       "    <tr>\n",
       "      <th>Economy (GDP per Capita)</th>\n",
       "      <td>0.696569</td>\n",
       "      <td>-0.100567</td>\n",
       "      <td>1.000000</td>\n",
       "      <td>0.552117</td>\n",
       "      <td>0.764503</td>\n",
       "      <td>0.101981</td>\n",
       "      <td>-0.092046</td>\n",
       "      <td>-0.250073</td>\n",
       "      <td>-0.151698</td>\n",
       "    </tr>\n",
       "    <tr>\n",
       "      <th>Family</th>\n",
       "      <td>0.673425</td>\n",
       "      <td>0.011636</td>\n",
       "      <td>0.552117</td>\n",
       "      <td>1.000000</td>\n",
       "      <td>0.397506</td>\n",
       "      <td>0.261379</td>\n",
       "      <td>-0.075533</td>\n",
       "      <td>-0.074330</td>\n",
       "      <td>-0.020795</td>\n",
       "    </tr>\n",
       "    <tr>\n",
       "      <th>Health (Life Expectancy)</th>\n",
       "      <td>0.625620</td>\n",
       "      <td>-0.215843</td>\n",
       "      <td>0.764503</td>\n",
       "      <td>0.397506</td>\n",
       "      <td>1.000000</td>\n",
       "      <td>0.139517</td>\n",
       "      <td>-0.061715</td>\n",
       "      <td>-0.054391</td>\n",
       "      <td>-0.190589</td>\n",
       "    </tr>\n",
       "    <tr>\n",
       "      <th>Freedom</th>\n",
       "      <td>0.320761</td>\n",
       "      <td>0.020551</td>\n",
       "      <td>0.101981</td>\n",
       "      <td>0.261379</td>\n",
       "      <td>0.139517</td>\n",
       "      <td>1.000000</td>\n",
       "      <td>0.245640</td>\n",
       "      <td>0.272500</td>\n",
       "      <td>-0.117020</td>\n",
       "    </tr>\n",
       "    <tr>\n",
       "      <th>Trust (Government Corruption)</th>\n",
       "      <td>-0.047797</td>\n",
       "      <td>-0.019731</td>\n",
       "      <td>-0.092046</td>\n",
       "      <td>-0.075533</td>\n",
       "      <td>-0.061715</td>\n",
       "      <td>0.245640</td>\n",
       "      <td>1.000000</td>\n",
       "      <td>0.090780</td>\n",
       "      <td>-0.201446</td>\n",
       "    </tr>\n",
       "    <tr>\n",
       "      <th>Generosity</th>\n",
       "      <td>-0.048655</td>\n",
       "      <td>0.020577</td>\n",
       "      <td>-0.250073</td>\n",
       "      <td>-0.074330</td>\n",
       "      <td>-0.054391</td>\n",
       "      <td>0.272500</td>\n",
       "      <td>0.090780</td>\n",
       "      <td>1.000000</td>\n",
       "      <td>-0.161270</td>\n",
       "    </tr>\n",
       "    <tr>\n",
       "      <th>Dystopia Residual</th>\n",
       "      <td>0.435287</td>\n",
       "      <td>0.185809</td>\n",
       "      <td>-0.151698</td>\n",
       "      <td>-0.020795</td>\n",
       "      <td>-0.190589</td>\n",
       "      <td>-0.117020</td>\n",
       "      <td>-0.201446</td>\n",
       "      <td>-0.161270</td>\n",
       "      <td>1.000000</td>\n",
       "    </tr>\n",
       "  </tbody>\n",
       "</table>\n",
       "</div>"
      ],
      "text/plain": [
       "                               Happiness Score  Standard Error  \\\n",
       "Happiness Score                       1.000000        0.019756   \n",
       "Standard Error                        0.019756        1.000000   \n",
       "Economy (GDP per Capita)              0.696569       -0.100567   \n",
       "Family                                0.673425        0.011636   \n",
       "Health (Life Expectancy)              0.625620       -0.215843   \n",
       "Freedom                               0.320761        0.020551   \n",
       "Trust (Government Corruption)        -0.047797       -0.019731   \n",
       "Generosity                           -0.048655        0.020577   \n",
       "Dystopia Residual                     0.435287        0.185809   \n",
       "\n",
       "                               Economy (GDP per Capita)    Family  \\\n",
       "Happiness Score                                0.696569  0.673425   \n",
       "Standard Error                                -0.100567  0.011636   \n",
       "Economy (GDP per Capita)                       1.000000  0.552117   \n",
       "Family                                         0.552117  1.000000   \n",
       "Health (Life Expectancy)                       0.764503  0.397506   \n",
       "Freedom                                        0.101981  0.261379   \n",
       "Trust (Government Corruption)                 -0.092046 -0.075533   \n",
       "Generosity                                    -0.250073 -0.074330   \n",
       "Dystopia Residual                             -0.151698 -0.020795   \n",
       "\n",
       "                               Health (Life Expectancy)   Freedom  \\\n",
       "Happiness Score                                0.625620  0.320761   \n",
       "Standard Error                                -0.215843  0.020551   \n",
       "Economy (GDP per Capita)                       0.764503  0.101981   \n",
       "Family                                         0.397506  0.261379   \n",
       "Health (Life Expectancy)                       1.000000  0.139517   \n",
       "Freedom                                        0.139517  1.000000   \n",
       "Trust (Government Corruption)                 -0.061715  0.245640   \n",
       "Generosity                                    -0.054391  0.272500   \n",
       "Dystopia Residual                             -0.190589 -0.117020   \n",
       "\n",
       "                               Trust (Government Corruption)  Generosity  \\\n",
       "Happiness Score                                    -0.047797   -0.048655   \n",
       "Standard Error                                     -0.019731    0.020577   \n",
       "Economy (GDP per Capita)                           -0.092046   -0.250073   \n",
       "Family                                             -0.075533   -0.074330   \n",
       "Health (Life Expectancy)                           -0.061715   -0.054391   \n",
       "Freedom                                             0.245640    0.272500   \n",
       "Trust (Government Corruption)                       1.000000    0.090780   \n",
       "Generosity                                          0.090780    1.000000   \n",
       "Dystopia Residual                                  -0.201446   -0.161270   \n",
       "\n",
       "                               Dystopia Residual  \n",
       "Happiness Score                         0.435287  \n",
       "Standard Error                          0.185809  \n",
       "Economy (GDP per Capita)               -0.151698  \n",
       "Family                                 -0.020795  \n",
       "Health (Life Expectancy)               -0.190589  \n",
       "Freedom                                -0.117020  \n",
       "Trust (Government Corruption)          -0.201446  \n",
       "Generosity                             -0.161270  \n",
       "Dystopia Residual                       1.000000  "
      ]
     },
     "execution_count": 28,
     "metadata": {},
     "output_type": "execute_result"
    }
   ],
   "source": [
    "df.corr()"
   ]
  },
  {
   "cell_type": "markdown",
   "id": "94c77b26",
   "metadata": {},
   "source": [
    "## correlation using Heatmap: "
   ]
  },
  {
   "cell_type": "code",
   "execution_count": 29,
   "id": "78bb00e5",
   "metadata": {},
   "outputs": [
    {
     "data": {
      "text/plain": [
       "<AxesSubplot:>"
      ]
     },
     "execution_count": 29,
     "metadata": {},
     "output_type": "execute_result"
    },
    {
     "data": {
      "image/png": "[encoded data removed]",
      "text/plain": [
       "<Figure size 1080x504 with 2 Axes>"
      ]
     },
     "metadata": {
      "needs_background": "light"
     },
     "output_type": "display_data"
    }
   ],
   "source": [
    "import matplotlib.pyplot as plt\n",
    "plt.figure(figsize = (15,7))\n",
    "sns.heatmap(df.corr(), annot=True, linewidths=0.5, linecolor=\"black\", fmt = '.2f')\n"
   ]
  },
  {
   "cell_type": "markdown",
   "id": "b468fdc2",
   "metadata": {},
   "source": [
    "#### Outcomes of correlation: with happiness score:\n",
    "#### Standard Error 2% : Weak bond.  Economy(gdp per capita) 70% : Strong bond. Family 67% : Strong bond. Health 63% : Strong bond. Freedom 32% : Good bond. Trust(Government Curruption) 5% : Weak bond. Generosity 5% : Weak bond. Dystopia 44% : Strong bond. \n",
    "\n",
    "#### Max Corr: Economy (GDP per Capita) 70%. \n",
    "#### Min Corr: Standard error 2%, Trust(govt. Curruption) 5%, Generosity 5%. "
   ]
  },
  {
   "cell_type": "markdown",
   "id": "0487b7f4",
   "metadata": {},
   "source": [
    "## Multicollinearity: "
   ]
  },
  {
   "cell_type": "code",
   "execution_count": 30,
   "id": "19ce6aaf",
   "metadata": {},
   "outputs": [
    {
     "data": {
      "text/plain": [
       "(126, 8)"
      ]
     },
     "execution_count": 30,
     "metadata": {},
     "output_type": "execute_result"
    }
   ],
   "source": [
    "# when 2 features tell same story, will eleminate one which is less imp. in contributing label. will scale our data and then will apply multicollinearity. \n",
    "\n",
    "from sklearn.preprocessing import StandardScaler\n",
    "sc = StandardScaler()\n",
    "x_scale = sc.fit_transform(x)\n",
    "x_scale.shape\n",
    "\n"
   ]
  },
  {
   "cell_type": "code",
   "execution_count": 31,
   "id": "1a85696a",
   "metadata": {},
   "outputs": [
    {
     "data": {
      "text/plain": [
       "8"
      ]
     },
     "execution_count": 31,
     "metadata": {},
     "output_type": "execute_result"
    }
   ],
   "source": [
    "x_scale.shape[1]\n"
   ]
  },
  {
   "cell_type": "code",
   "execution_count": 32,
   "id": "20574872",
   "metadata": {},
   "outputs": [
    {
     "data": {
      "text/plain": [
       "array([[ 0.03034341,  0.49269176,  1.18330066, ..., -0.66839577,\n",
       "        -0.30602187,  1.62316402],\n",
       "       [-0.80706532,  0.62356417,  1.27741858, ..., -0.88412296,\n",
       "         2.88056417,  0.6096635 ],\n",
       "       [-0.20395167,  1.78488405,  0.59175099, ...,  2.38995297,\n",
       "        -0.68739844,  0.83438131],\n",
       "       ...,\n",
       "       [ 0.01016489, -0.19950378, -1.71402445, ...,  0.87015319,\n",
       "         2.03162561, -3.14135484],\n",
       "       [ 2.05211938, -1.95540014, -1.93746932, ..., -0.11685732,\n",
       "        -0.1983104 , -0.30682419],\n",
       "       [ 0.96976579, -1.43131427, -2.98207979, ..., -0.0421954 ,\n",
       "        -0.4457381 , -0.8075453 ]])"
      ]
     },
     "execution_count": 32,
     "metadata": {},
     "output_type": "execute_result"
    }
   ],
   "source": [
    "x_scale"
   ]
  },
  {
   "cell_type": "code",
   "execution_count": 33,
   "id": "b1c9c672",
   "metadata": {},
   "outputs": [
    {
     "data": {
      "text/html": [
       "<div>\n",
       "<style scoped>\n",
       "    .dataframe tbody tr th:only-of-type {\n",
       "        vertical-align: middle;\n",
       "    }\n",
       "\n",
       "    .dataframe tbody tr th {\n",
       "        vertical-align: top;\n",
       "    }\n",
       "\n",
       "    .dataframe thead th {\n",
       "        text-align: right;\n",
       "    }\n",
       "</style>\n",
       "<table border=\"1\" class=\"dataframe\">\n",
       "  <thead>\n",
       "    <tr style=\"text-align: right;\">\n",
       "      <th></th>\n",
       "      <th>vif</th>\n",
       "      <th>features</th>\n",
       "    </tr>\n",
       "  </thead>\n",
       "  <tbody>\n",
       "    <tr>\n",
       "      <th>0</th>\n",
       "      <td>1.096426</td>\n",
       "      <td>Standard Error</td>\n",
       "    </tr>\n",
       "    <tr>\n",
       "      <th>1</th>\n",
       "      <td>3.349602</td>\n",
       "      <td>Economy (GDP per Capita)</td>\n",
       "    </tr>\n",
       "    <tr>\n",
       "      <th>2</th>\n",
       "      <td>1.570734</td>\n",
       "      <td>Family</td>\n",
       "    </tr>\n",
       "    <tr>\n",
       "      <th>3</th>\n",
       "      <td>2.676119</td>\n",
       "      <td>Health (Life Expectancy)</td>\n",
       "    </tr>\n",
       "    <tr>\n",
       "      <th>4</th>\n",
       "      <td>1.276754</td>\n",
       "      <td>Freedom</td>\n",
       "    </tr>\n",
       "    <tr>\n",
       "      <th>5</th>\n",
       "      <td>1.136238</td>\n",
       "      <td>Trust (Government Corruption)</td>\n",
       "    </tr>\n",
       "    <tr>\n",
       "      <th>6</th>\n",
       "      <td>1.272819</td>\n",
       "      <td>Generosity</td>\n",
       "    </tr>\n",
       "    <tr>\n",
       "      <th>7</th>\n",
       "      <td>1.162651</td>\n",
       "      <td>Dystopia Residual</td>\n",
       "    </tr>\n",
       "  </tbody>\n",
       "</table>\n",
       "</div>"
      ],
      "text/plain": [
       "        vif                       features\n",
       "0  1.096426                 Standard Error\n",
       "1  3.349602       Economy (GDP per Capita)\n",
       "2  1.570734                         Family\n",
       "3  2.676119       Health (Life Expectancy)\n",
       "4  1.276754                        Freedom\n",
       "5  1.136238  Trust (Government Corruption)\n",
       "6  1.272819                     Generosity\n",
       "7  1.162651              Dystopia Residual"
      ]
     },
     "execution_count": 33,
     "metadata": {},
     "output_type": "execute_result"
    }
   ],
   "source": [
    "from statsmodels.stats.outliers_influence import variance_inflation_factor\n",
    "\n",
    "vif = pd.DataFrame()\n",
    "vif['vif'] = [variance_inflation_factor(x_scale,i) for i in range(x_scale.shape[1])]\n",
    "vif['features'] = x.columns\n",
    "vif"
   ]
  },
  {
   "cell_type": "code",
   "execution_count": null,
   "id": "3dc38bbf",
   "metadata": {},
   "outputs": [],
   "source": []
  },
  {
   "cell_type": "markdown",
   "id": "414ad3bf",
   "metadata": {},
   "source": [
    "## Dividing data to features and label once again:"
   ]
  },
  {
   "cell_type": "code",
   "execution_count": 34,
   "id": "d55c86ea",
   "metadata": {},
   "outputs": [
    {
     "data": {
      "text/html": [
       "<div>\n",
       "<style scoped>\n",
       "    .dataframe tbody tr th:only-of-type {\n",
       "        vertical-align: middle;\n",
       "    }\n",
       "\n",
       "    .dataframe tbody tr th {\n",
       "        vertical-align: top;\n",
       "    }\n",
       "\n",
       "    .dataframe thead th {\n",
       "        text-align: right;\n",
       "    }\n",
       "</style>\n",
       "<table border=\"1\" class=\"dataframe\">\n",
       "  <thead>\n",
       "    <tr style=\"text-align: right;\">\n",
       "      <th></th>\n",
       "      <th>Happiness Score</th>\n",
       "    </tr>\n",
       "  </thead>\n",
       "  <tbody>\n",
       "    <tr>\n",
       "      <th>32</th>\n",
       "      <td>6.477</td>\n",
       "    </tr>\n",
       "    <tr>\n",
       "      <th>33</th>\n",
       "      <td>6.455</td>\n",
       "    </tr>\n",
       "    <tr>\n",
       "      <th>34</th>\n",
       "      <td>6.411</td>\n",
       "    </tr>\n",
       "    <tr>\n",
       "      <th>35</th>\n",
       "      <td>6.329</td>\n",
       "    </tr>\n",
       "    <tr>\n",
       "      <th>36</th>\n",
       "      <td>6.302</td>\n",
       "    </tr>\n",
       "    <tr>\n",
       "      <th>...</th>\n",
       "      <td>...</td>\n",
       "    </tr>\n",
       "    <tr>\n",
       "      <th>153</th>\n",
       "      <td>3.465</td>\n",
       "    </tr>\n",
       "    <tr>\n",
       "      <th>154</th>\n",
       "      <td>3.340</td>\n",
       "    </tr>\n",
       "    <tr>\n",
       "      <th>155</th>\n",
       "      <td>3.006</td>\n",
       "    </tr>\n",
       "    <tr>\n",
       "      <th>156</th>\n",
       "      <td>2.905</td>\n",
       "    </tr>\n",
       "    <tr>\n",
       "      <th>157</th>\n",
       "      <td>2.839</td>\n",
       "    </tr>\n",
       "  </tbody>\n",
       "</table>\n",
       "<p>126 rows × 1 columns</p>\n",
       "</div>"
      ],
      "text/plain": [
       "     Happiness Score\n",
       "32             6.477\n",
       "33             6.455\n",
       "34             6.411\n",
       "35             6.329\n",
       "36             6.302\n",
       "..               ...\n",
       "153            3.465\n",
       "154            3.340\n",
       "155            3.006\n",
       "156            2.905\n",
       "157            2.839\n",
       "\n",
       "[126 rows x 1 columns]"
      ]
     },
     "execution_count": 34,
     "metadata": {},
     "output_type": "execute_result"
    }
   ],
   "source": [
    "x = df.iloc[:,1:]\n",
    "y = df.iloc[:,:1]\n",
    "x\n",
    "y"
   ]
  },
  {
   "cell_type": "markdown",
   "id": "c0dd8100",
   "metadata": {},
   "source": [
    "## Power Transform: transforming data to remove if any skewness is still present. "
   ]
  },
  {
   "cell_type": "code",
   "execution_count": 35,
   "id": "bf55e198",
   "metadata": {},
   "outputs": [
    {
     "data": {
      "text/plain": [
       "array([[ 0.03034341,  0.49269176,  1.18330066, ..., -0.66839577,\n",
       "        -0.30602187,  1.62316402],\n",
       "       [-0.80706532,  0.62356417,  1.27741858, ..., -0.88412296,\n",
       "         2.88056417,  0.6096635 ],\n",
       "       [-0.20395167,  1.78488405,  0.59175099, ...,  2.38995297,\n",
       "        -0.68739844,  0.83438131],\n",
       "       ...,\n",
       "       [ 0.01016489, -0.19950378, -1.71402445, ...,  0.87015319,\n",
       "         2.03162561, -3.14135484],\n",
       "       [ 2.05211938, -1.95540014, -1.93746932, ..., -0.11685732,\n",
       "        -0.1983104 , -0.30682419],\n",
       "       [ 0.96976579, -1.43131427, -2.98207979, ..., -0.0421954 ,\n",
       "        -0.4457381 , -0.8075453 ]])"
      ]
     },
     "execution_count": 35,
     "metadata": {},
     "output_type": "execute_result"
    }
   ],
   "source": [
    "from sklearn.preprocessing import StandardScaler\n",
    "sc = StandardScaler()\n",
    "x = sc.fit_transform(x)\n",
    "x"
   ]
  },
  {
   "cell_type": "markdown",
   "id": "d862baab",
   "metadata": {},
   "source": [
    "## Train Test Split: "
   ]
  },
  {
   "cell_type": "code",
   "execution_count": 36,
   "id": "7793aa8d",
   "metadata": {},
   "outputs": [
    {
     "data": {
      "text/html": [
       "<div>\n",
       "<style scoped>\n",
       "    .dataframe tbody tr th:only-of-type {\n",
       "        vertical-align: middle;\n",
       "    }\n",
       "\n",
       "    .dataframe tbody tr th {\n",
       "        vertical-align: top;\n",
       "    }\n",
       "\n",
       "    .dataframe thead th {\n",
       "        text-align: right;\n",
       "    }\n",
       "</style>\n",
       "<table border=\"1\" class=\"dataframe\">\n",
       "  <thead>\n",
       "    <tr style=\"text-align: right;\">\n",
       "      <th></th>\n",
       "      <th>Happiness Score</th>\n",
       "    </tr>\n",
       "  </thead>\n",
       "  <tbody>\n",
       "    <tr>\n",
       "      <th>87</th>\n",
       "      <td>5.102</td>\n",
       "    </tr>\n",
       "    <tr>\n",
       "      <th>86</th>\n",
       "      <td>5.123</td>\n",
       "    </tr>\n",
       "    <tr>\n",
       "      <th>129</th>\n",
       "      <td>4.297</td>\n",
       "    </tr>\n",
       "    <tr>\n",
       "      <th>157</th>\n",
       "      <td>2.839</td>\n",
       "    </tr>\n",
       "    <tr>\n",
       "      <th>47</th>\n",
       "      <td>5.975</td>\n",
       "    </tr>\n",
       "  </tbody>\n",
       "</table>\n",
       "</div>"
      ],
      "text/plain": [
       "     Happiness Score\n",
       "87             5.102\n",
       "86             5.123\n",
       "129            4.297\n",
       "157            2.839\n",
       "47             5.975"
      ]
     },
     "execution_count": 36,
     "metadata": {},
     "output_type": "execute_result"
    }
   ],
   "source": [
    "from sklearn.model_selection import train_test_split\n",
    "x_train, x_test, y_train, y_test = train_test_split(x,y,test_size = .20, random_state = 50)\n",
    "y_train.head()"
   ]
  },
  {
   "cell_type": "markdown",
   "id": "6062edc0",
   "metadata": {},
   "source": [
    "## Model Training: "
   ]
  },
  {
   "cell_type": "code",
   "execution_count": 51,
   "id": "f4dceb7d",
   "metadata": {},
   "outputs": [
    {
     "data": {
      "text/plain": [
       "LinearRegression()"
      ]
     },
     "execution_count": 51,
     "metadata": {},
     "output_type": "execute_result"
    }
   ],
   "source": [
    "from sklearn.linear_model import LinearRegression\n",
    "\n",
    "lr = LinearRegression()\n",
    "lr.fit(x_train,y_train)"
   ]
  },
  {
   "cell_type": "markdown",
   "id": "3ef614e8",
   "metadata": {},
   "source": [
    "#### Since our model is trained lets predict with out model and compare with actual. "
   ]
  },
  {
   "cell_type": "code",
   "execution_count": 52,
   "id": "3cfd2022",
   "metadata": {},
   "outputs": [
    {
     "data": {
      "text/html": [
       "<div>\n",
       "<style scoped>\n",
       "    .dataframe tbody tr th:only-of-type {\n",
       "        vertical-align: middle;\n",
       "    }\n",
       "\n",
       "    .dataframe tbody tr th {\n",
       "        vertical-align: top;\n",
       "    }\n",
       "\n",
       "    .dataframe thead th {\n",
       "        text-align: right;\n",
       "    }\n",
       "</style>\n",
       "<table border=\"1\" class=\"dataframe\">\n",
       "  <thead>\n",
       "    <tr style=\"text-align: right;\">\n",
       "      <th></th>\n",
       "      <th>Happiness Score</th>\n",
       "      <th>Standard Error</th>\n",
       "      <th>Economy (GDP per Capita)</th>\n",
       "      <th>Family</th>\n",
       "      <th>Health (Life Expectancy)</th>\n",
       "      <th>Freedom</th>\n",
       "      <th>Trust (Government Corruption)</th>\n",
       "      <th>Generosity</th>\n",
       "      <th>Dystopia Residual</th>\n",
       "    </tr>\n",
       "  </thead>\n",
       "  <tbody>\n",
       "    <tr>\n",
       "      <th>153</th>\n",
       "      <td>3.465</td>\n",
       "      <td>0.03464</td>\n",
       "      <td>0.22208</td>\n",
       "      <td>0.77370</td>\n",
       "      <td>0.42864</td>\n",
       "      <td>0.59201</td>\n",
       "      <td>0.55191</td>\n",
       "      <td>0.22628</td>\n",
       "      <td>0.67042</td>\n",
       "    </tr>\n",
       "    <tr>\n",
       "      <th>154</th>\n",
       "      <td>3.340</td>\n",
       "      <td>0.03656</td>\n",
       "      <td>0.28665</td>\n",
       "      <td>0.35386</td>\n",
       "      <td>0.31910</td>\n",
       "      <td>0.48450</td>\n",
       "      <td>0.08010</td>\n",
       "      <td>0.18260</td>\n",
       "      <td>1.63328</td>\n",
       "    </tr>\n",
       "    <tr>\n",
       "      <th>155</th>\n",
       "      <td>3.006</td>\n",
       "      <td>0.05015</td>\n",
       "      <td>0.66320</td>\n",
       "      <td>0.47489</td>\n",
       "      <td>0.72193</td>\n",
       "      <td>0.15684</td>\n",
       "      <td>0.18906</td>\n",
       "      <td>0.47179</td>\n",
       "      <td>0.32858</td>\n",
       "    </tr>\n",
       "    <tr>\n",
       "      <th>156</th>\n",
       "      <td>2.905</td>\n",
       "      <td>0.08658</td>\n",
       "      <td>0.01530</td>\n",
       "      <td>0.41587</td>\n",
       "      <td>0.22396</td>\n",
       "      <td>0.11850</td>\n",
       "      <td>0.10062</td>\n",
       "      <td>0.19727</td>\n",
       "      <td>1.83302</td>\n",
       "    </tr>\n",
       "    <tr>\n",
       "      <th>157</th>\n",
       "      <td>2.839</td>\n",
       "      <td>0.06727</td>\n",
       "      <td>0.20868</td>\n",
       "      <td>0.13995</td>\n",
       "      <td>0.28443</td>\n",
       "      <td>0.36453</td>\n",
       "      <td>0.10731</td>\n",
       "      <td>0.16681</td>\n",
       "      <td>1.56726</td>\n",
       "    </tr>\n",
       "  </tbody>\n",
       "</table>\n",
       "</div>"
      ],
      "text/plain": [
       "     Happiness Score  Standard Error  Economy (GDP per Capita)   Family  \\\n",
       "153            3.465         0.03464                   0.22208  0.77370   \n",
       "154            3.340         0.03656                   0.28665  0.35386   \n",
       "155            3.006         0.05015                   0.66320  0.47489   \n",
       "156            2.905         0.08658                   0.01530  0.41587   \n",
       "157            2.839         0.06727                   0.20868  0.13995   \n",
       "\n",
       "     Health (Life Expectancy)  Freedom  Trust (Government Corruption)  \\\n",
       "153                   0.42864  0.59201                        0.55191   \n",
       "154                   0.31910  0.48450                        0.08010   \n",
       "155                   0.72193  0.15684                        0.18906   \n",
       "156                   0.22396  0.11850                        0.10062   \n",
       "157                   0.28443  0.36453                        0.10731   \n",
       "\n",
       "     Generosity  Dystopia Residual  \n",
       "153     0.22628            0.67042  \n",
       "154     0.18260            1.63328  \n",
       "155     0.47179            0.32858  \n",
       "156     0.19727            1.83302  \n",
       "157     0.16681            1.56726  "
      ]
     },
     "execution_count": 52,
     "metadata": {},
     "output_type": "execute_result"
    }
   ],
   "source": [
    "df.tail()"
   ]
  },
  {
   "cell_type": "markdown",
   "id": "38a0c1d0",
   "metadata": {},
   "source": [
    "#### this is the actual dataframe, will pick one row and convert x features into scaled data and predict the Happiness score and will compare with Actual. \n",
    "### let see how good is our model. "
   ]
  },
  {
   "cell_type": "code",
   "execution_count": 53,
   "id": "480dec90",
   "metadata": {},
   "outputs": [
    {
     "name": "stdout",
     "output_type": "stream",
     "text": [
      "Happiness Score is: [[4.952556]]\n"
     ]
    }
   ],
   "source": [
    "print(\"Happiness Score is:\", lr.predict(sc.fit_transform([[0.06727,0.20868,0.13995,0.28443,0.36453,0.10731,0.16681,1.56726]])))"
   ]
  },
  {
   "cell_type": "markdown",
   "id": "0d4e13fb",
   "metadata": {},
   "source": [
    "#### The Actual Happiness score for the above data is: 2.839. "
   ]
  },
  {
   "cell_type": "markdown",
   "id": "af1ace3d",
   "metadata": {},
   "source": [
    "## Saving the mode: "
   ]
  },
  {
   "cell_type": "code",
   "execution_count": 54,
   "id": "fb19e632",
   "metadata": {},
   "outputs": [],
   "source": [
    "import pickle\n",
    "filename = 'Final Happiness.pickle'\n",
    "pickle.dump(lr,open(filename, 'wb'))"
   ]
  },
  {
   "cell_type": "markdown",
   "id": "871ab816",
   "metadata": {},
   "source": [
    "## Prediction using saved model:"
   ]
  },
  {
   "cell_type": "code",
   "execution_count": 55,
   "id": "9c64f7b1",
   "metadata": {},
   "outputs": [
    {
     "data": {
      "text/plain": [
       "array([[4.952556]])"
      ]
     },
     "execution_count": 55,
     "metadata": {},
     "output_type": "execute_result"
    }
   ],
   "source": [
    "loaded_model = pickle.load(open(filename,'rb'))\n",
    "a = loaded_model.predict(sc.fit_transform([[0.08658,0.01530,0.41587,0.22396,0.11850,0.10062,0.19727,1.83302]]))\n",
    "a"
   ]
  },
  {
   "cell_type": "markdown",
   "id": "3cb2a8f0",
   "metadata": {},
   "source": [
    "#### The Actual Happiness score for the above data is: 2.905."
   ]
  },
  {
   "cell_type": "markdown",
   "id": "24605f89",
   "metadata": {},
   "source": [
    "## Adjusted r^2 value: \n",
    "#### With adjusted value we  can judgewheather the data is Regression equation is good fit or not. \n"
   ]
  },
  {
   "cell_type": "code",
   "execution_count": 57,
   "id": "bc432464",
   "metadata": {},
   "outputs": [
    {
     "data": {
      "text/plain": [
       "0.9999998868924581"
      ]
     },
     "execution_count": 57,
     "metadata": {},
     "output_type": "execute_result"
    }
   ],
   "source": [
    "# Linear regression training score:\n",
    "lr.score(x_train,y_train)"
   ]
  },
  {
   "cell_type": "code",
   "execution_count": 59,
   "id": "515b1d22",
   "metadata": {},
   "outputs": [
    {
     "data": {
      "text/plain": [
       "0.9999998704434989"
      ]
     },
     "execution_count": 59,
     "metadata": {},
     "output_type": "execute_result"
    }
   ],
   "source": [
    "## lets see how good our model fit the test data: \n",
    "lr.score(x_test,y_test)"
   ]
  },
  {
   "cell_type": "markdown",
   "id": "da80e69e",
   "metadata": {},
   "source": [
    "#### Outcome: Regression Training score is 99%, Testing score is 99%. "
   ]
  },
  {
   "cell_type": "markdown",
   "id": "aa2cef71",
   "metadata": {},
   "source": [
    "## Compare y_test and y_ predict to check the model performance: "
   ]
  },
  {
   "cell_type": "code",
   "execution_count": 60,
   "id": "31a35ad6",
   "metadata": {},
   "outputs": [
    {
     "data": {
      "text/plain": [
       "array([[5.47707891],\n",
       "       [5.99511805],\n",
       "       [5.47372989],\n",
       "       [5.85524552],\n",
       "       [4.5714609 ],\n",
       "       [4.71475587],\n",
       "       [6.32894356],\n",
       "       [4.56471341],\n",
       "       [5.09757716],\n",
       "       [4.51702337],\n",
       "       [5.07327779],\n",
       "       [6.26935211],\n",
       "       [4.85757842],\n",
       "       [5.95963386],\n",
       "       [5.68878311],\n",
       "       [3.93074336],\n",
       "       [2.90454785],\n",
       "       [5.12423188],\n",
       "       [5.94820416],\n",
       "       [4.60967295],\n",
       "       [5.82415785],\n",
       "       [5.88978862],\n",
       "       [3.46469434],\n",
       "       [5.42854987],\n",
       "       [5.36026665],\n",
       "       [4.78792595]])"
      ]
     },
     "execution_count": 60,
     "metadata": {},
     "output_type": "execute_result"
    }
   ],
   "source": [
    "## Will plot and visualize: will make prediction for the x_test data and compare the obtained predict values with the actual y_test values to check our model performance. \n",
    "y_pred = lr.predict(x_test)\n",
    "y_pred"
   ]
  },
  {
   "cell_type": "code",
   "execution_count": 62,
   "id": "f1e179b2",
   "metadata": {},
   "outputs": [
    {
     "data": {
      "text/html": [
       "<div>\n",
       "<style scoped>\n",
       "    .dataframe tbody tr th:only-of-type {\n",
       "        vertical-align: middle;\n",
       "    }\n",
       "\n",
       "    .dataframe tbody tr th {\n",
       "        vertical-align: top;\n",
       "    }\n",
       "\n",
       "    .dataframe thead th {\n",
       "        text-align: right;\n",
       "    }\n",
       "</style>\n",
       "<table border=\"1\" class=\"dataframe\">\n",
       "  <thead>\n",
       "    <tr style=\"text-align: right;\">\n",
       "      <th></th>\n",
       "      <th>Happiness Score</th>\n",
       "    </tr>\n",
       "  </thead>\n",
       "  <tbody>\n",
       "    <tr>\n",
       "      <th>70</th>\n",
       "      <td>5.477</td>\n",
       "    </tr>\n",
       "    <tr>\n",
       "      <th>44</th>\n",
       "      <td>5.995</td>\n",
       "    </tr>\n",
       "    <tr>\n",
       "      <th>71</th>\n",
       "      <td>5.474</td>\n",
       "    </tr>\n",
       "    <tr>\n",
       "      <th>53</th>\n",
       "      <td>5.855</td>\n",
       "    </tr>\n",
       "    <tr>\n",
       "      <th>115</th>\n",
       "      <td>4.571</td>\n",
       "    </tr>\n",
       "    <tr>\n",
       "      <th>107</th>\n",
       "      <td>4.715</td>\n",
       "    </tr>\n",
       "    <tr>\n",
       "      <th>35</th>\n",
       "      <td>6.329</td>\n",
       "    </tr>\n",
       "    <tr>\n",
       "      <th>116</th>\n",
       "      <td>4.565</td>\n",
       "    </tr>\n",
       "    <tr>\n",
       "      <th>88</th>\n",
       "      <td>5.098</td>\n",
       "    </tr>\n",
       "    <tr>\n",
       "      <th>119</th>\n",
       "      <td>4.517</td>\n",
       "    </tr>\n",
       "    <tr>\n",
       "      <th>89</th>\n",
       "      <td>5.073</td>\n",
       "    </tr>\n",
       "    <tr>\n",
       "      <th>39</th>\n",
       "      <td>6.269</td>\n",
       "    </tr>\n",
       "    <tr>\n",
       "      <th>101</th>\n",
       "      <td>4.857</td>\n",
       "    </tr>\n",
       "    <tr>\n",
       "      <th>48</th>\n",
       "      <td>5.960</td>\n",
       "    </tr>\n",
       "    <tr>\n",
       "      <th>66</th>\n",
       "      <td>5.689</td>\n",
       "    </tr>\n",
       "    <tr>\n",
       "      <th>140</th>\n",
       "      <td>3.931</td>\n",
       "    </tr>\n",
       "    <tr>\n",
       "      <th>156</th>\n",
       "      <td>2.905</td>\n",
       "    </tr>\n",
       "    <tr>\n",
       "      <th>85</th>\n",
       "      <td>5.124</td>\n",
       "    </tr>\n",
       "    <tr>\n",
       "      <th>49</th>\n",
       "      <td>5.948</td>\n",
       "    </tr>\n",
       "    <tr>\n",
       "      <th>114</th>\n",
       "      <td>4.610</td>\n",
       "    </tr>\n",
       "    <tr>\n",
       "      <th>57</th>\n",
       "      <td>5.824</td>\n",
       "    </tr>\n",
       "    <tr>\n",
       "      <th>50</th>\n",
       "      <td>5.890</td>\n",
       "    </tr>\n",
       "    <tr>\n",
       "      <th>153</th>\n",
       "      <td>3.465</td>\n",
       "    </tr>\n",
       "    <tr>\n",
       "      <th>72</th>\n",
       "      <td>5.429</td>\n",
       "    </tr>\n",
       "    <tr>\n",
       "      <th>74</th>\n",
       "      <td>5.360</td>\n",
       "    </tr>\n",
       "    <tr>\n",
       "      <th>104</th>\n",
       "      <td>4.788</td>\n",
       "    </tr>\n",
       "  </tbody>\n",
       "</table>\n",
       "</div>"
      ],
      "text/plain": [
       "     Happiness Score\n",
       "70             5.477\n",
       "44             5.995\n",
       "71             5.474\n",
       "53             5.855\n",
       "115            4.571\n",
       "107            4.715\n",
       "35             6.329\n",
       "116            4.565\n",
       "88             5.098\n",
       "119            4.517\n",
       "89             5.073\n",
       "39             6.269\n",
       "101            4.857\n",
       "48             5.960\n",
       "66             5.689\n",
       "140            3.931\n",
       "156            2.905\n",
       "85             5.124\n",
       "49             5.948\n",
       "114            4.610\n",
       "57             5.824\n",
       "50             5.890\n",
       "153            3.465\n",
       "72             5.429\n",
       "74             5.360\n",
       "104            4.788"
      ]
     },
     "execution_count": 62,
     "metadata": {},
     "output_type": "execute_result"
    }
   ],
   "source": [
    "y_test  # y_test has 20% of our data which corresponds to x_test. we splitted our data with test size= .20. "
   ]
  },
  {
   "cell_type": "markdown",
   "id": "0e380247",
   "metadata": {},
   "source": [
    "### we have y_pred values, lets plot with y_test:"
   ]
  },
  {
   "cell_type": "code",
   "execution_count": 63,
   "id": "daf2de60",
   "metadata": {},
   "outputs": [
    {
     "data": {
      "image/png": "[encoded data removed]",
      "text/plain": [
       "<Figure size 432x288 with 1 Axes>"
      ]
     },
     "metadata": {
      "needs_background": "light"
     },
     "output_type": "display_data"
    }
   ],
   "source": [
    "plt.scatter(y_test,y_pred)\n",
    "plt.xlabel('Actual Happiness Score')\n",
    "plt.ylabel('Predicted Happiness Score')\n",
    "plt.title('Actual vs Model predicted')\n",
    "plt.show()"
   ]
  },
  {
   "cell_type": "markdown",
   "id": "59823437",
   "metadata": {},
   "source": [
    "#### we can see that the graph is fairly linear. letsanalyze with some samples as actual = 3.5 predicted is also 3.5. Actual = 4.0 predicted is also 4.0. Actual= 5.5 predicted is also around 5.5. \n",
    "#### Our model is working good. "
   ]
  },
  {
   "cell_type": "markdown",
   "id": "63e3145f",
   "metadata": {},
   "source": [
    "## Model Evaluation: "
   ]
  },
  {
   "cell_type": "code",
   "execution_count": 69,
   "id": "372e2f7c",
   "metadata": {},
   "outputs": [
    {
     "name": "stdout",
     "output_type": "stream",
     "text": [
      "MAE= 0.00026676156739235957\n"
     ]
    }
   ],
   "source": [
    "# It represent error of our linear regression model. \n",
    "# Mean absolute error, Root mean squared error, mean squared error. \n",
    "from sklearn.metrics import mean_squared_error, mean_absolute_error\n",
    "y_pred = lr.predict(x_test)\n",
    "mean_absolute_error(y_test,y_pred)\n",
    "print(\"MAE=\", mean_absolute_error(y_test,y_pred))"
   ]
  },
  {
   "cell_type": "code",
   "execution_count": 68,
   "id": "04425457",
   "metadata": {},
   "outputs": [
    {
     "name": "stdout",
     "output_type": "stream",
     "text": [
      "MSE= 8.930189104198586e-08\n"
     ]
    }
   ],
   "source": [
    "mean_squared_error(y_test,y_pred)\n",
    "print(\"MSE=\", mean_squared_error(y_test,y_pred))"
   ]
  },
  {
   "cell_type": "code",
   "execution_count": 67,
   "id": "a1926372",
   "metadata": {},
   "outputs": [
    {
     "name": "stdout",
     "output_type": "stream",
     "text": [
      "RMSE= 0.0002988342199982891\n"
     ]
    }
   ],
   "source": [
    "RMSE = np.sqrt(mean_squared_error(y_test,y_pred))\n",
    "print(\"RMSE=\", RMSE)"
   ]
  },
  {
   "cell_type": "markdown",
   "id": "4f988a84",
   "metadata": {},
   "source": [
    "#### we want scores to be high and evaluation metrics MSE, MAE, RMSE to be low. \n",
    "#### In our Regression model: 1) Testing score is 99% which is very good."
   ]
  },
  {
   "cell_type": "markdown",
   "id": "b167ad1f",
   "metadata": {},
   "source": [
    "## Regularizartion: for checking if our model is overfitted."
   ]
  },
  {
   "cell_type": "markdown",
   "id": "6af828eb",
   "metadata": {},
   "source": [
    "##### Regularization helps to reduce the variance of our model without a substantial increase in the bias. It helps to reduce this generalization error and not the training error. It reduces by ignoring the less important features. It also helps prevent overfitting, making the model more robust and decreasing the complexity of a model.\n"
   ]
  },
  {
   "cell_type": "code",
   "execution_count": 70,
   "id": "ee3f6d22",
   "metadata": {},
   "outputs": [
    {
     "data": {
      "text/plain": [
       "LassoCV(max_iter=100, normalize=True)"
      ]
     },
     "execution_count": 70,
     "metadata": {},
     "output_type": "execute_result"
    }
   ],
   "source": [
    "from sklearn.linear_model import Lasso,LassoCV\n",
    "lsCV = LassoCV(alphas=None, max_iter=100, normalize=True)\n",
    "lsCV.fit(x_train,y_train)"
   ]
  },
  {
   "cell_type": "code",
   "execution_count": 71,
   "id": "2e229d3d",
   "metadata": {},
   "outputs": [
    {
     "name": "stdout",
     "output_type": "stream",
     "text": [
      "alpha= 5.7363196144468404e-05\n"
     ]
    }
   ],
   "source": [
    "## best Learning rate alpha.\n",
    "\n",
    "alpha = lsCV.alpha_\n",
    "print(\"alpha=\", alpha)"
   ]
  },
  {
   "cell_type": "markdown",
   "id": "9a2ba190",
   "metadata": {},
   "source": [
    "#### Now we have a bests learning parameter, lets use Lasso R. and seehow well our data is fitted before."
   ]
  },
  {
   "cell_type": "code",
   "execution_count": 73,
   "id": "d25aa72d",
   "metadata": {},
   "outputs": [
    {
     "data": {
      "text/plain": [
       "Lasso(alpha=5.7363196144468404e-05)"
      ]
     },
     "execution_count": 73,
     "metadata": {},
     "output_type": "execute_result"
    }
   ],
   "source": [
    "## The best learning rate alpha\n",
    "laso_r = Lasso(alpha)\n",
    "laso_r.fit(x_train,y_train)"
   ]
  },
  {
   "cell_type": "code",
   "execution_count": 74,
   "id": "efe95887",
   "metadata": {},
   "outputs": [
    {
     "data": {
      "text/plain": [
       "0.999999848860477"
      ]
     },
     "execution_count": 74,
     "metadata": {},
     "output_type": "execute_result"
    }
   ],
   "source": [
    "laso_r.score(x_test,y_test)"
   ]
  },
  {
   "cell_type": "markdown",
   "id": "3d3a9d04",
   "metadata": {},
   "source": [
    "## Conclusion: \n",
    "#### Our Lesso model gave 99% with best possible learning rate. Also, earlier, our model \"Regression\" also gave 99% testing Score.  Our Linear Regression model is not overfitted. "
   ]
  },
  {
   "cell_type": "code",
   "execution_count": null,
   "id": "c7b1ef63",
   "metadata": {},
   "outputs": [],
   "source": []
  },
  {
   "cell_type": "code",
   "execution_count": null,
   "id": "995b5c95",
   "metadata": {},
   "outputs": [],
   "source": []
  },
  {
   "cell_type": "code",
   "execution_count": null,
   "id": "994ddade",
   "metadata": {},
   "outputs": [],
   "source": []
  },
  {
   "cell_type": "code",
   "execution_count": null,
   "id": "724e29e7",
   "metadata": {},
   "outputs": [],
   "source": []
  },
  {
   "cell_type": "code",
   "execution_count": null,
   "id": "61557af4",
   "metadata": {},
   "outputs": [],
   "source": []
  },
  {
   "cell_type": "code",
   "execution_count": null,
   "id": "6f7234e9",
   "metadata": {},
   "outputs": [],
   "source": []
  },
  {
   "cell_type": "code",
   "execution_count": null,
   "id": "4b6a4927",
   "metadata": {},
   "outputs": [],
   "source": []
  },
  {
   "cell_type": "code",
   "execution_count": null,
   "id": "66b82322",
   "metadata": {},
   "outputs": [],
   "source": []
  },
  {
   "cell_type": "code",
   "execution_count": null,
   "id": "59f3dac5",
   "metadata": {},
   "outputs": [],
   "source": []
  },
  {
   "cell_type": "code",
   "execution_count": null,
   "id": "1f13b0e6",
   "metadata": {},
   "outputs": [],
   "source": []
  },
  {
   "cell_type": "code",
   "execution_count": null,
   "id": "6ad9478a",
   "metadata": {},
   "outputs": [],
   "source": []
  },
  {
   "cell_type": "code",
   "execution_count": null,
   "id": "d74074e0",
   "metadata": {},
   "outputs": [],
   "source": []
  },
  {
   "cell_type": "code",
   "execution_count": null,
   "id": "7958691a",
   "metadata": {},
   "outputs": [],
   "source": []
  },
  {
   "cell_type": "code",
   "execution_count": null,
   "id": "2078508c",
   "metadata": {},
   "outputs": [],
   "source": []
  },
  {
   "cell_type": "code",
   "execution_count": null,
   "id": "243c1b9f",
   "metadata": {},
   "outputs": [],
   "source": []
  },
  {
   "cell_type": "code",
   "execution_count": null,
   "id": "68deabb9",
   "metadata": {},
   "outputs": [],
   "source": []
  },
  {
   "cell_type": "code",
   "execution_count": null,
   "id": "8338971d",
   "metadata": {},
   "outputs": [],
   "source": []
  },
  {
   "cell_type": "code",
   "execution_count": null,
   "id": "b0d3d7a7",
   "metadata": {},
   "outputs": [],
   "source": []
  },
  {
   "cell_type": "code",
   "execution_count": null,
   "id": "922e79f2",
   "metadata": {},
   "outputs": [],
   "source": []
  },
  {
   "cell_type": "code",
   "execution_count": null,
   "id": "c7211622",
   "metadata": {},
   "outputs": [],
   "source": []
  },
  {
   "cell_type": "code",
   "execution_count": null,
   "id": "7b6cf9a5",
   "metadata": {},
   "outputs": [],
   "source": []
  },
  {
   "cell_type": "code",
   "execution_count": null,
   "id": "fb9de118",
   "metadata": {},
   "outputs": [],
   "source": []
  },
  {
   "cell_type": "code",
   "execution_count": null,
   "id": "a8826565",
   "metadata": {},
   "outputs": [],
   "source": []
  },
  {
   "cell_type": "code",
   "execution_count": null,
   "id": "258d7b8b",
   "metadata": {},
   "outputs": [],
   "source": []
  },
  {
   "cell_type": "code",
   "execution_count": 20,
   "id": "d705c41e",
   "metadata": {},
   "outputs": [],
   "source": [
    "import matplotlib\n",
    "import matplotlib.pyplot as plt\n",
    "%matplotlib inline\n",
    "\n",
    "sns.set_style('darkgrid')\n",
    "matplotlib.rcParams['font.size'] = 14\n",
    "matplotlib.rcParams['figure.figsize'] = (9, 5)\n",
    "matplotlib.rcParams['figure.facecolor'] = '#00000000'\n",
    "\n",
    "## Here I am going to plot the top 10 happiest countries along with their scores on a line chart. For this purpose I will first create a dataframe conaining the names of top ten countries. \n",
    "#I will plot other charts on the basis of this copy of the data frame."
   ]
  },
  {
   "cell_type": "code",
   "execution_count": 21,
   "id": "a3cef1d1",
   "metadata": {},
   "outputs": [
    {
     "data": {
      "text/html": [
       "<div>\n",
       "<style scoped>\n",
       "    .dataframe tbody tr th:only-of-type {\n",
       "        vertical-align: middle;\n",
       "    }\n",
       "\n",
       "    .dataframe tbody tr th {\n",
       "        vertical-align: top;\n",
       "    }\n",
       "\n",
       "    .dataframe thead th {\n",
       "        text-align: right;\n",
       "    }\n",
       "</style>\n",
       "<table border=\"1\" class=\"dataframe\">\n",
       "  <thead>\n",
       "    <tr style=\"text-align: right;\">\n",
       "      <th></th>\n",
       "      <th>Happiness Score</th>\n",
       "      <th>Standard Error</th>\n",
       "      <th>Economy (GDP per Capita)</th>\n",
       "      <th>Family</th>\n",
       "      <th>Health (Life Expectancy)</th>\n",
       "      <th>Freedom</th>\n",
       "      <th>Trust (Government Corruption)</th>\n",
       "      <th>Generosity</th>\n",
       "      <th>Dystopia Residual</th>\n",
       "    </tr>\n",
       "  </thead>\n",
       "  <tbody>\n",
       "    <tr>\n",
       "      <th>0</th>\n",
       "      <td>7.587</td>\n",
       "      <td>0.03411</td>\n",
       "      <td>1.39651</td>\n",
       "      <td>1.34951</td>\n",
       "      <td>0.94143</td>\n",
       "      <td>0.66557</td>\n",
       "      <td>0.41978</td>\n",
       "      <td>0.29678</td>\n",
       "      <td>2.51738</td>\n",
       "    </tr>\n",
       "    <tr>\n",
       "      <th>3</th>\n",
       "      <td>7.522</td>\n",
       "      <td>0.03880</td>\n",
       "      <td>1.45900</td>\n",
       "      <td>1.33095</td>\n",
       "      <td>0.88521</td>\n",
       "      <td>0.66973</td>\n",
       "      <td>0.36503</td>\n",
       "      <td>0.34699</td>\n",
       "      <td>2.46531</td>\n",
       "    </tr>\n",
       "    <tr>\n",
       "      <th>4</th>\n",
       "      <td>7.427</td>\n",
       "      <td>0.03553</td>\n",
       "      <td>1.32629</td>\n",
       "      <td>1.32261</td>\n",
       "      <td>0.90563</td>\n",
       "      <td>0.63297</td>\n",
       "      <td>0.32957</td>\n",
       "      <td>0.45811</td>\n",
       "      <td>2.45176</td>\n",
       "    </tr>\n",
       "    <tr>\n",
       "      <th>5</th>\n",
       "      <td>7.406</td>\n",
       "      <td>0.03140</td>\n",
       "      <td>1.29025</td>\n",
       "      <td>1.31826</td>\n",
       "      <td>0.88911</td>\n",
       "      <td>0.64169</td>\n",
       "      <td>0.41372</td>\n",
       "      <td>0.23351</td>\n",
       "      <td>2.61955</td>\n",
       "    </tr>\n",
       "    <tr>\n",
       "      <th>6</th>\n",
       "      <td>7.378</td>\n",
       "      <td>0.02799</td>\n",
       "      <td>1.32944</td>\n",
       "      <td>1.28017</td>\n",
       "      <td>0.89284</td>\n",
       "      <td>0.61576</td>\n",
       "      <td>0.31814</td>\n",
       "      <td>0.47610</td>\n",
       "      <td>2.46570</td>\n",
       "    </tr>\n",
       "    <tr>\n",
       "      <th>7</th>\n",
       "      <td>7.364</td>\n",
       "      <td>0.03157</td>\n",
       "      <td>1.33171</td>\n",
       "      <td>1.28907</td>\n",
       "      <td>0.91087</td>\n",
       "      <td>0.65980</td>\n",
       "      <td>0.43844</td>\n",
       "      <td>0.36262</td>\n",
       "      <td>2.37119</td>\n",
       "    </tr>\n",
       "    <tr>\n",
       "      <th>8</th>\n",
       "      <td>7.286</td>\n",
       "      <td>0.03371</td>\n",
       "      <td>1.25018</td>\n",
       "      <td>1.31967</td>\n",
       "      <td>0.90837</td>\n",
       "      <td>0.63938</td>\n",
       "      <td>0.42922</td>\n",
       "      <td>0.47501</td>\n",
       "      <td>2.26425</td>\n",
       "    </tr>\n",
       "    <tr>\n",
       "      <th>9</th>\n",
       "      <td>7.284</td>\n",
       "      <td>0.04083</td>\n",
       "      <td>1.33358</td>\n",
       "      <td>1.30923</td>\n",
       "      <td>0.93156</td>\n",
       "      <td>0.65124</td>\n",
       "      <td>0.35637</td>\n",
       "      <td>0.43562</td>\n",
       "      <td>2.26646</td>\n",
       "    </tr>\n",
       "    <tr>\n",
       "      <th>10</th>\n",
       "      <td>7.278</td>\n",
       "      <td>0.03470</td>\n",
       "      <td>1.22857</td>\n",
       "      <td>1.22393</td>\n",
       "      <td>0.91387</td>\n",
       "      <td>0.41319</td>\n",
       "      <td>0.07785</td>\n",
       "      <td>0.33172</td>\n",
       "      <td>3.08854</td>\n",
       "    </tr>\n",
       "    <tr>\n",
       "      <th>11</th>\n",
       "      <td>7.226</td>\n",
       "      <td>0.04454</td>\n",
       "      <td>0.95578</td>\n",
       "      <td>1.23788</td>\n",
       "      <td>0.86027</td>\n",
       "      <td>0.63376</td>\n",
       "      <td>0.10583</td>\n",
       "      <td>0.25497</td>\n",
       "      <td>3.17728</td>\n",
       "    </tr>\n",
       "  </tbody>\n",
       "</table>\n",
       "</div>"
      ],
      "text/plain": [
       "    Happiness Score  Standard Error  Economy (GDP per Capita)   Family  \\\n",
       "0             7.587         0.03411                   1.39651  1.34951   \n",
       "3             7.522         0.03880                   1.45900  1.33095   \n",
       "4             7.427         0.03553                   1.32629  1.32261   \n",
       "5             7.406         0.03140                   1.29025  1.31826   \n",
       "6             7.378         0.02799                   1.32944  1.28017   \n",
       "7             7.364         0.03157                   1.33171  1.28907   \n",
       "8             7.286         0.03371                   1.25018  1.31967   \n",
       "9             7.284         0.04083                   1.33358  1.30923   \n",
       "10            7.278         0.03470                   1.22857  1.22393   \n",
       "11            7.226         0.04454                   0.95578  1.23788   \n",
       "\n",
       "    Health (Life Expectancy)  Freedom  Trust (Government Corruption)  \\\n",
       "0                    0.94143  0.66557                        0.41978   \n",
       "3                    0.88521  0.66973                        0.36503   \n",
       "4                    0.90563  0.63297                        0.32957   \n",
       "5                    0.88911  0.64169                        0.41372   \n",
       "6                    0.89284  0.61576                        0.31814   \n",
       "7                    0.91087  0.65980                        0.43844   \n",
       "8                    0.90837  0.63938                        0.42922   \n",
       "9                    0.93156  0.65124                        0.35637   \n",
       "10                   0.91387  0.41319                        0.07785   \n",
       "11                   0.86027  0.63376                        0.10583   \n",
       "\n",
       "    Generosity  Dystopia Residual  \n",
       "0      0.29678            2.51738  \n",
       "3      0.34699            2.46531  \n",
       "4      0.45811            2.45176  \n",
       "5      0.23351            2.61955  \n",
       "6      0.47610            2.46570  \n",
       "7      0.36262            2.37119  \n",
       "8      0.47501            2.26425  \n",
       "9      0.43562            2.26646  \n",
       "10     0.33172            3.08854  \n",
       "11     0.25497            3.17728  "
      ]
     },
     "execution_count": 21,
     "metadata": {},
     "output_type": "execute_result"
    }
   ],
   "source": [
    "df_copy = df.head(10).copy()\n",
    "df_copy"
   ]
  },
  {
   "cell_type": "code",
   "execution_count": 22,
   "id": "105cc8ab",
   "metadata": {},
   "outputs": [
    {
     "data": {
      "text/plain": [
       "Text(0.5, 1.0, 'Happiness Scores')"
      ]
     },
     "execution_count": 22,
     "metadata": {},
     "output_type": "execute_result"
    },
    {
     "data": {
      "image/png": "[encoded data removed]",
      "text/plain": [
       "<Figure size 1296x576 with 1 Axes>"
      ]
     },
     "metadata": {
      "needs_background": "light"
     },
     "output_type": "display_data"
    }
   ],
   "source": [
    "plt.figure(figsize=(18, 8))\n",
    "scores = df_copy[\"Happiness Score\"]\n",
    "plt.plot(scores, marker='s', c='b', ls='-', lw=2, ms=8, mew=2, mec='navy')\n",
    "\n",
    "plt.xlabel('Country')\n",
    "plt.ylabel('Happiness Score')\n",
    "\n",
    "plt.title(\"Happiness Scores\")"
   ]
  },
  {
   "cell_type": "markdown",
   "id": "13668a98",
   "metadata": {},
   "source": [
    "#### In the above graph, as we move on the x-axis from left to right or from more happy countries to less happy countries, the line showing the relationship between countries and their scores goes downward."
   ]
  },
  {
   "cell_type": "code",
   "execution_count": null,
   "id": "0aa7b8cd",
   "metadata": {},
   "outputs": [],
   "source": []
  },
  {
   "cell_type": "code",
   "execution_count": null,
   "id": "b807a1a0",
   "metadata": {},
   "outputs": [],
   "source": []
  },
  {
   "cell_type": "code",
   "execution_count": null,
   "id": "ee3f46c1",
   "metadata": {},
   "outputs": [],
   "source": []
  },
  {
   "cell_type": "code",
   "execution_count": null,
   "id": "caab1494",
   "metadata": {},
   "outputs": [],
   "source": []
  }
 ],
 "metadata": {
  "kernelspec": {
   "display_name": "Python 3",
   "language": "python",
   "name": "python3"
  },
  "language_info": {
   "codemirror_mode": {
    "name": "ipython",
    "version": 3
   },
   "file_extension": ".py",
   "mimetype": "text/x-python",
   "name": "python",
   "nbconvert_exporter": "python",
   "pygments_lexer": "ipython3",
   "version": "3.8.8"
  }
 },
 "nbformat": 4,
 "nbformat_minor": 5
}
