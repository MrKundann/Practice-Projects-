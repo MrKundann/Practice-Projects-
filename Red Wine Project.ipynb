{
 "cells": [
  {
   "cell_type": "markdown",
   "id": "786799a3",
   "metadata": {},
   "source": [
    "## Red Wine Quality Prediction\n",
    "\n",
    "Problem Statement:\n",
    "The dataset is related to red and white variants of the Portuguese \"Vinho Verde\" wine. Due to privacy and logistic issues, only physicochemical (inputs) and sensory (the output) variables are available (e.g. there is no data about grape types, wine brand, wine selling price, etc.).\n",
    "\n",
    "This dataset can be viewed as classification task. The classes are ordered and not balanced (e.g. there are many more normal wines than excellent or poor ones). Also, we are not sure if all input variables are relevant. So it could be interesting to test feature selection methods.\n",
    "\n",
    "Attribute Information\n",
    "\n",
    "Input variables (based on physicochemical tests):\n",
    "1 - fixed acidity\n",
    "2 - volatile acidity\n",
    "3 - citric acid\n",
    "4 - residual sugar\n",
    "5 - chlorides\n",
    "6 - free sulfur dioxide\n",
    "7 - total sulfur dioxide\n",
    "8 - density\n",
    "9 - pH\n",
    "10 - sulphates\n",
    "11 - alcohol\n",
    "Output variable (based on sensory data):\n",
    "12 - quality (score between 0 and 10)\n",
    "\n",
    "we are using Red Wine Quality dataset to build various classification models to predict whether a particular red wine is “good quality” or not. Each wine in this dataset is given a “quality” score between 0 and 10. For the purpose of this project,  each wine is either “good quality” (a score of 7 or higher) or not (a score below 7).\n",
    "This allows you to practice with hyper parameter tuning on e.g. decision tree algorithms looking at the ROC curve and the AUC value.\n",
    "\n",
    "We need to build a classification model. \n"
   ]
  },
  {
   "cell_type": "code",
   "execution_count": 1,
   "id": "212cdf98",
   "metadata": {},
   "outputs": [],
   "source": [
    "import pandas as pd\n",
    "import numpy as np \n",
    "import seaborn as sns \n",
    "import matplotlib.pyplot as plt\n",
    "\n",
    "import warnings\n",
    "warnings.filterwarnings('ignore')"
   ]
  },
  {
   "cell_type": "code",
   "execution_count": 2,
   "id": "5e922472",
   "metadata": {},
   "outputs": [
    {
     "data": {
      "text/html": [
       "<div>\n",
       "<style scoped>\n",
       "    .dataframe tbody tr th:only-of-type {\n",
       "        vertical-align: middle;\n",
       "    }\n",
       "\n",
       "    .dataframe tbody tr th {\n",
       "        vertical-align: top;\n",
       "    }\n",
       "\n",
       "    .dataframe thead th {\n",
       "        text-align: right;\n",
       "    }\n",
       "</style>\n",
       "<table border=\"1\" class=\"dataframe\">\n",
       "  <thead>\n",
       "    <tr style=\"text-align: right;\">\n",
       "      <th></th>\n",
       "      <th>fixed acidity</th>\n",
       "      <th>volatile acidity</th>\n",
       "      <th>citric acid</th>\n",
       "      <th>residual sugar</th>\n",
       "      <th>chlorides</th>\n",
       "      <th>free sulfur dioxide</th>\n",
       "      <th>total sulfur dioxide</th>\n",
       "      <th>density</th>\n",
       "      <th>pH</th>\n",
       "      <th>sulphates</th>\n",
       "      <th>alcohol</th>\n",
       "      <th>quality</th>\n",
       "    </tr>\n",
       "  </thead>\n",
       "  <tbody>\n",
       "    <tr>\n",
       "      <th>0</th>\n",
       "      <td>7.4</td>\n",
       "      <td>0.70</td>\n",
       "      <td>0.00</td>\n",
       "      <td>1.9</td>\n",
       "      <td>0.076</td>\n",
       "      <td>11.0</td>\n",
       "      <td>34.0</td>\n",
       "      <td>0.9978</td>\n",
       "      <td>3.51</td>\n",
       "      <td>0.56</td>\n",
       "      <td>9.4</td>\n",
       "      <td>5</td>\n",
       "    </tr>\n",
       "    <tr>\n",
       "      <th>1</th>\n",
       "      <td>7.8</td>\n",
       "      <td>0.88</td>\n",
       "      <td>0.00</td>\n",
       "      <td>2.6</td>\n",
       "      <td>0.098</td>\n",
       "      <td>25.0</td>\n",
       "      <td>67.0</td>\n",
       "      <td>0.9968</td>\n",
       "      <td>3.20</td>\n",
       "      <td>0.68</td>\n",
       "      <td>9.8</td>\n",
       "      <td>5</td>\n",
       "    </tr>\n",
       "    <tr>\n",
       "      <th>2</th>\n",
       "      <td>7.8</td>\n",
       "      <td>0.76</td>\n",
       "      <td>0.04</td>\n",
       "      <td>2.3</td>\n",
       "      <td>0.092</td>\n",
       "      <td>15.0</td>\n",
       "      <td>54.0</td>\n",
       "      <td>0.9970</td>\n",
       "      <td>3.26</td>\n",
       "      <td>0.65</td>\n",
       "      <td>9.8</td>\n",
       "      <td>5</td>\n",
       "    </tr>\n",
       "    <tr>\n",
       "      <th>3</th>\n",
       "      <td>11.2</td>\n",
       "      <td>0.28</td>\n",
       "      <td>0.56</td>\n",
       "      <td>1.9</td>\n",
       "      <td>0.075</td>\n",
       "      <td>17.0</td>\n",
       "      <td>60.0</td>\n",
       "      <td>0.9980</td>\n",
       "      <td>3.16</td>\n",
       "      <td>0.58</td>\n",
       "      <td>9.8</td>\n",
       "      <td>6</td>\n",
       "    </tr>\n",
       "    <tr>\n",
       "      <th>4</th>\n",
       "      <td>7.4</td>\n",
       "      <td>0.70</td>\n",
       "      <td>0.00</td>\n",
       "      <td>1.9</td>\n",
       "      <td>0.076</td>\n",
       "      <td>11.0</td>\n",
       "      <td>34.0</td>\n",
       "      <td>0.9978</td>\n",
       "      <td>3.51</td>\n",
       "      <td>0.56</td>\n",
       "      <td>9.4</td>\n",
       "      <td>5</td>\n",
       "    </tr>\n",
       "  </tbody>\n",
       "</table>\n",
       "</div>"
      ],
      "text/plain": [
       "   fixed acidity  volatile acidity  citric acid  residual sugar  chlorides  \\\n",
       "0            7.4              0.70         0.00             1.9      0.076   \n",
       "1            7.8              0.88         0.00             2.6      0.098   \n",
       "2            7.8              0.76         0.04             2.3      0.092   \n",
       "3           11.2              0.28         0.56             1.9      0.075   \n",
       "4            7.4              0.70         0.00             1.9      0.076   \n",
       "\n",
       "   free sulfur dioxide  total sulfur dioxide  density    pH  sulphates  \\\n",
       "0                 11.0                  34.0   0.9978  3.51       0.56   \n",
       "1                 25.0                  67.0   0.9968  3.20       0.68   \n",
       "2                 15.0                  54.0   0.9970  3.26       0.65   \n",
       "3                 17.0                  60.0   0.9980  3.16       0.58   \n",
       "4                 11.0                  34.0   0.9978  3.51       0.56   \n",
       "\n",
       "   alcohol  quality  \n",
       "0      9.4        5  \n",
       "1      9.8        5  \n",
       "2      9.8        5  \n",
       "3      9.8        6  \n",
       "4      9.4        5  "
      ]
     },
     "execution_count": 2,
     "metadata": {},
     "output_type": "execute_result"
    }
   ],
   "source": [
    "df = pd.read_csv(\"https://raw.githubusercontent.com/dsrscientist/DSData/master/winequality-red.csv\", error_bad_lines=False)\n",
    "df.head()"
   ]
  },
  {
   "cell_type": "code",
   "execution_count": 3,
   "id": "7e5f3373",
   "metadata": {},
   "outputs": [
    {
     "data": {
      "text/plain": [
       "(1599, 12)"
      ]
     },
     "execution_count": 3,
     "metadata": {},
     "output_type": "execute_result"
    }
   ],
   "source": [
    "df.shape "
   ]
  },
  {
   "cell_type": "markdown",
   "id": "26298db7",
   "metadata": {},
   "source": [
    "# EDA"
   ]
  },
  {
   "cell_type": "markdown",
   "id": "70115a5a",
   "metadata": {},
   "source": [
    "## Lets try to analyze the target"
   ]
  },
  {
   "cell_type": "code",
   "execution_count": 4,
   "id": "413b1ee7",
   "metadata": {},
   "outputs": [
    {
     "data": {
      "text/plain": [
       "array([5, 6, 7, 4, 8, 3], dtype=int64)"
      ]
     },
     "execution_count": 4,
     "metadata": {},
     "output_type": "execute_result"
    }
   ],
   "source": [
    "df['quality'].unique()"
   ]
  },
  {
   "cell_type": "code",
   "execution_count": 5,
   "id": "bc3bffa6",
   "metadata": {},
   "outputs": [
    {
     "data": {
      "text/plain": [
       "3     10\n",
       "4     53\n",
       "5    681\n",
       "6    638\n",
       "7    199\n",
       "8     18\n",
       "Name: quality, dtype: int64"
      ]
     },
     "execution_count": 5,
     "metadata": {},
     "output_type": "execute_result"
    }
   ],
   "source": [
    "df.quality.value_counts().sort_index()"
   ]
  },
  {
   "cell_type": "code",
   "execution_count": 6,
   "id": "dcf7a593",
   "metadata": {},
   "outputs": [
    {
     "data": {
      "text/plain": [
       "<AxesSubplot:xlabel='quality', ylabel='count'>"
      ]
     },
     "execution_count": 6,
     "metadata": {},
     "output_type": "execute_result"
    },
    {
     "data": {
      "image/png": "[encoded data removed]",
      "text/plain": [
       "<Figure size 432x288 with 1 Axes>"
      ]
     },
     "metadata": {
      "needs_background": "light"
     },
     "output_type": "display_data"
    }
   ],
   "source": [
    "sns.countplot(x='quality', data=df)"
   ]
  },
  {
   "cell_type": "markdown",
   "id": "6c45aadd",
   "metadata": {},
   "source": [
    "#### above graph shows range of quality is between 3 to 8."
   ]
  },
  {
   "cell_type": "code",
   "execution_count": 7,
   "id": "29bd373c",
   "metadata": {},
   "outputs": [
    {
     "data": {
      "text/plain": [
       "0    1382\n",
       "1     217\n",
       "Name: wine_quality, dtype: int64"
      ]
     },
     "execution_count": 7,
     "metadata": {},
     "output_type": "execute_result"
    }
   ],
   "source": [
    "#Dividing our quality column into good and bad (1 and 0) , based on the quality points given in dataset (0 to 10)\n",
    "\n",
    "conditions = [\n",
    "    (df['quality'] >= 7),  #given in the problem statement >=7 is 'good' quality , (good means 1)\n",
    "    (df['quality'] < 7)    # <7 is taken as 'not good' quality , (not good means 0)\n",
    "]\n",
    "wine_quality = [1, 0]\n",
    "df['wine_quality'] = np.select(conditions, wine_quality)\n",
    "df['wine_quality'].value_counts()"
   ]
  },
  {
   "cell_type": "code",
   "execution_count": 8,
   "id": "6de58ffa",
   "metadata": {},
   "outputs": [
    {
     "data": {
      "text/html": [
       "<div>\n",
       "<style scoped>\n",
       "    .dataframe tbody tr th:only-of-type {\n",
       "        vertical-align: middle;\n",
       "    }\n",
       "\n",
       "    .dataframe tbody tr th {\n",
       "        vertical-align: top;\n",
       "    }\n",
       "\n",
       "    .dataframe thead th {\n",
       "        text-align: right;\n",
       "    }\n",
       "</style>\n",
       "<table border=\"1\" class=\"dataframe\">\n",
       "  <thead>\n",
       "    <tr style=\"text-align: right;\">\n",
       "      <th></th>\n",
       "      <th>fixed acidity</th>\n",
       "      <th>volatile acidity</th>\n",
       "      <th>citric acid</th>\n",
       "      <th>residual sugar</th>\n",
       "      <th>chlorides</th>\n",
       "      <th>free sulfur dioxide</th>\n",
       "      <th>total sulfur dioxide</th>\n",
       "      <th>density</th>\n",
       "      <th>pH</th>\n",
       "      <th>sulphates</th>\n",
       "      <th>alcohol</th>\n",
       "      <th>quality</th>\n",
       "    </tr>\n",
       "    <tr>\n",
       "      <th>wine_quality</th>\n",
       "      <th></th>\n",
       "      <th></th>\n",
       "      <th></th>\n",
       "      <th></th>\n",
       "      <th></th>\n",
       "      <th></th>\n",
       "      <th></th>\n",
       "      <th></th>\n",
       "      <th></th>\n",
       "      <th></th>\n",
       "      <th></th>\n",
       "      <th></th>\n",
       "    </tr>\n",
       "  </thead>\n",
       "  <tbody>\n",
       "    <tr>\n",
       "      <th>0</th>\n",
       "      <td>8.236831</td>\n",
       "      <td>0.547022</td>\n",
       "      <td>0.254407</td>\n",
       "      <td>2.512120</td>\n",
       "      <td>0.089281</td>\n",
       "      <td>16.172214</td>\n",
       "      <td>48.285818</td>\n",
       "      <td>0.996859</td>\n",
       "      <td>3.314616</td>\n",
       "      <td>0.644754</td>\n",
       "      <td>10.251037</td>\n",
       "      <td>5.408828</td>\n",
       "    </tr>\n",
       "    <tr>\n",
       "      <th>1</th>\n",
       "      <td>8.847005</td>\n",
       "      <td>0.405530</td>\n",
       "      <td>0.376498</td>\n",
       "      <td>2.708756</td>\n",
       "      <td>0.075912</td>\n",
       "      <td>13.981567</td>\n",
       "      <td>34.889401</td>\n",
       "      <td>0.996030</td>\n",
       "      <td>3.288802</td>\n",
       "      <td>0.743456</td>\n",
       "      <td>11.518049</td>\n",
       "      <td>7.082949</td>\n",
       "    </tr>\n",
       "  </tbody>\n",
       "</table>\n",
       "</div>"
      ],
      "text/plain": [
       "              fixed acidity  volatile acidity  citric acid  residual sugar  \\\n",
       "wine_quality                                                                 \n",
       "0                  8.236831          0.547022     0.254407        2.512120   \n",
       "1                  8.847005          0.405530     0.376498        2.708756   \n",
       "\n",
       "              chlorides  free sulfur dioxide  total sulfur dioxide   density  \\\n",
       "wine_quality                                                                   \n",
       "0              0.089281            16.172214             48.285818  0.996859   \n",
       "1              0.075912            13.981567             34.889401  0.996030   \n",
       "\n",
       "                    pH  sulphates    alcohol   quality  \n",
       "wine_quality                                            \n",
       "0             3.314616   0.644754  10.251037  5.408828  \n",
       "1             3.288802   0.743456  11.518049  7.082949  "
      ]
     },
     "execution_count": 8,
     "metadata": {},
     "output_type": "execute_result"
    }
   ],
   "source": [
    "#Checking average values of all columns for good quality, and bad quality.\n",
    "\n",
    "df.groupby('wine_quality').mean()"
   ]
  },
  {
   "cell_type": "code",
   "execution_count": 9,
   "id": "0d00d470",
   "metadata": {},
   "outputs": [
    {
     "data": {
      "text/html": [
       "<div>\n",
       "<style scoped>\n",
       "    .dataframe tbody tr th:only-of-type {\n",
       "        vertical-align: middle;\n",
       "    }\n",
       "\n",
       "    .dataframe tbody tr th {\n",
       "        vertical-align: top;\n",
       "    }\n",
       "\n",
       "    .dataframe thead th {\n",
       "        text-align: right;\n",
       "    }\n",
       "</style>\n",
       "<table border=\"1\" class=\"dataframe\">\n",
       "  <thead>\n",
       "    <tr style=\"text-align: right;\">\n",
       "      <th></th>\n",
       "      <th>fixed acidity</th>\n",
       "      <th>volatile acidity</th>\n",
       "      <th>citric acid</th>\n",
       "      <th>residual sugar</th>\n",
       "      <th>chlorides</th>\n",
       "      <th>free sulfur dioxide</th>\n",
       "      <th>total sulfur dioxide</th>\n",
       "      <th>density</th>\n",
       "      <th>pH</th>\n",
       "      <th>sulphates</th>\n",
       "      <th>alcohol</th>\n",
       "      <th>quality</th>\n",
       "      <th>wine_quality</th>\n",
       "    </tr>\n",
       "  </thead>\n",
       "  <tbody>\n",
       "    <tr>\n",
       "      <th>0</th>\n",
       "      <td>7.4</td>\n",
       "      <td>0.700</td>\n",
       "      <td>0.00</td>\n",
       "      <td>1.9</td>\n",
       "      <td>0.076</td>\n",
       "      <td>11.0</td>\n",
       "      <td>34.0</td>\n",
       "      <td>0.99780</td>\n",
       "      <td>3.51</td>\n",
       "      <td>0.56</td>\n",
       "      <td>9.4</td>\n",
       "      <td>5</td>\n",
       "      <td>0</td>\n",
       "    </tr>\n",
       "    <tr>\n",
       "      <th>1</th>\n",
       "      <td>7.8</td>\n",
       "      <td>0.880</td>\n",
       "      <td>0.00</td>\n",
       "      <td>2.6</td>\n",
       "      <td>0.098</td>\n",
       "      <td>25.0</td>\n",
       "      <td>67.0</td>\n",
       "      <td>0.99680</td>\n",
       "      <td>3.20</td>\n",
       "      <td>0.68</td>\n",
       "      <td>9.8</td>\n",
       "      <td>5</td>\n",
       "      <td>0</td>\n",
       "    </tr>\n",
       "    <tr>\n",
       "      <th>2</th>\n",
       "      <td>7.8</td>\n",
       "      <td>0.760</td>\n",
       "      <td>0.04</td>\n",
       "      <td>2.3</td>\n",
       "      <td>0.092</td>\n",
       "      <td>15.0</td>\n",
       "      <td>54.0</td>\n",
       "      <td>0.99700</td>\n",
       "      <td>3.26</td>\n",
       "      <td>0.65</td>\n",
       "      <td>9.8</td>\n",
       "      <td>5</td>\n",
       "      <td>0</td>\n",
       "    </tr>\n",
       "    <tr>\n",
       "      <th>3</th>\n",
       "      <td>11.2</td>\n",
       "      <td>0.280</td>\n",
       "      <td>0.56</td>\n",
       "      <td>1.9</td>\n",
       "      <td>0.075</td>\n",
       "      <td>17.0</td>\n",
       "      <td>60.0</td>\n",
       "      <td>0.99800</td>\n",
       "      <td>3.16</td>\n",
       "      <td>0.58</td>\n",
       "      <td>9.8</td>\n",
       "      <td>6</td>\n",
       "      <td>0</td>\n",
       "    </tr>\n",
       "    <tr>\n",
       "      <th>4</th>\n",
       "      <td>7.4</td>\n",
       "      <td>0.700</td>\n",
       "      <td>0.00</td>\n",
       "      <td>1.9</td>\n",
       "      <td>0.076</td>\n",
       "      <td>11.0</td>\n",
       "      <td>34.0</td>\n",
       "      <td>0.99780</td>\n",
       "      <td>3.51</td>\n",
       "      <td>0.56</td>\n",
       "      <td>9.4</td>\n",
       "      <td>5</td>\n",
       "      <td>0</td>\n",
       "    </tr>\n",
       "    <tr>\n",
       "      <th>...</th>\n",
       "      <td>...</td>\n",
       "      <td>...</td>\n",
       "      <td>...</td>\n",
       "      <td>...</td>\n",
       "      <td>...</td>\n",
       "      <td>...</td>\n",
       "      <td>...</td>\n",
       "      <td>...</td>\n",
       "      <td>...</td>\n",
       "      <td>...</td>\n",
       "      <td>...</td>\n",
       "      <td>...</td>\n",
       "      <td>...</td>\n",
       "    </tr>\n",
       "    <tr>\n",
       "      <th>1594</th>\n",
       "      <td>6.2</td>\n",
       "      <td>0.600</td>\n",
       "      <td>0.08</td>\n",
       "      <td>2.0</td>\n",
       "      <td>0.090</td>\n",
       "      <td>32.0</td>\n",
       "      <td>44.0</td>\n",
       "      <td>0.99490</td>\n",
       "      <td>3.45</td>\n",
       "      <td>0.58</td>\n",
       "      <td>10.5</td>\n",
       "      <td>5</td>\n",
       "      <td>0</td>\n",
       "    </tr>\n",
       "    <tr>\n",
       "      <th>1595</th>\n",
       "      <td>5.9</td>\n",
       "      <td>0.550</td>\n",
       "      <td>0.10</td>\n",
       "      <td>2.2</td>\n",
       "      <td>0.062</td>\n",
       "      <td>39.0</td>\n",
       "      <td>51.0</td>\n",
       "      <td>0.99512</td>\n",
       "      <td>3.52</td>\n",
       "      <td>0.76</td>\n",
       "      <td>11.2</td>\n",
       "      <td>6</td>\n",
       "      <td>0</td>\n",
       "    </tr>\n",
       "    <tr>\n",
       "      <th>1596</th>\n",
       "      <td>6.3</td>\n",
       "      <td>0.510</td>\n",
       "      <td>0.13</td>\n",
       "      <td>2.3</td>\n",
       "      <td>0.076</td>\n",
       "      <td>29.0</td>\n",
       "      <td>40.0</td>\n",
       "      <td>0.99574</td>\n",
       "      <td>3.42</td>\n",
       "      <td>0.75</td>\n",
       "      <td>11.0</td>\n",
       "      <td>6</td>\n",
       "      <td>0</td>\n",
       "    </tr>\n",
       "    <tr>\n",
       "      <th>1597</th>\n",
       "      <td>5.9</td>\n",
       "      <td>0.645</td>\n",
       "      <td>0.12</td>\n",
       "      <td>2.0</td>\n",
       "      <td>0.075</td>\n",
       "      <td>32.0</td>\n",
       "      <td>44.0</td>\n",
       "      <td>0.99547</td>\n",
       "      <td>3.57</td>\n",
       "      <td>0.71</td>\n",
       "      <td>10.2</td>\n",
       "      <td>5</td>\n",
       "      <td>0</td>\n",
       "    </tr>\n",
       "    <tr>\n",
       "      <th>1598</th>\n",
       "      <td>6.0</td>\n",
       "      <td>0.310</td>\n",
       "      <td>0.47</td>\n",
       "      <td>3.6</td>\n",
       "      <td>0.067</td>\n",
       "      <td>18.0</td>\n",
       "      <td>42.0</td>\n",
       "      <td>0.99549</td>\n",
       "      <td>3.39</td>\n",
       "      <td>0.66</td>\n",
       "      <td>11.0</td>\n",
       "      <td>6</td>\n",
       "      <td>0</td>\n",
       "    </tr>\n",
       "  </tbody>\n",
       "</table>\n",
       "<p>1599 rows × 13 columns</p>\n",
       "</div>"
      ],
      "text/plain": [
       "      fixed acidity  volatile acidity  citric acid  residual sugar  chlorides  \\\n",
       "0               7.4             0.700         0.00             1.9      0.076   \n",
       "1               7.8             0.880         0.00             2.6      0.098   \n",
       "2               7.8             0.760         0.04             2.3      0.092   \n",
       "3              11.2             0.280         0.56             1.9      0.075   \n",
       "4               7.4             0.700         0.00             1.9      0.076   \n",
       "...             ...               ...          ...             ...        ...   \n",
       "1594            6.2             0.600         0.08             2.0      0.090   \n",
       "1595            5.9             0.550         0.10             2.2      0.062   \n",
       "1596            6.3             0.510         0.13             2.3      0.076   \n",
       "1597            5.9             0.645         0.12             2.0      0.075   \n",
       "1598            6.0             0.310         0.47             3.6      0.067   \n",
       "\n",
       "      free sulfur dioxide  total sulfur dioxide  density    pH  sulphates  \\\n",
       "0                    11.0                  34.0  0.99780  3.51       0.56   \n",
       "1                    25.0                  67.0  0.99680  3.20       0.68   \n",
       "2                    15.0                  54.0  0.99700  3.26       0.65   \n",
       "3                    17.0                  60.0  0.99800  3.16       0.58   \n",
       "4                    11.0                  34.0  0.99780  3.51       0.56   \n",
       "...                   ...                   ...      ...   ...        ...   \n",
       "1594                 32.0                  44.0  0.99490  3.45       0.58   \n",
       "1595                 39.0                  51.0  0.99512  3.52       0.76   \n",
       "1596                 29.0                  40.0  0.99574  3.42       0.75   \n",
       "1597                 32.0                  44.0  0.99547  3.57       0.71   \n",
       "1598                 18.0                  42.0  0.99549  3.39       0.66   \n",
       "\n",
       "      alcohol  quality  wine_quality  \n",
       "0         9.4        5             0  \n",
       "1         9.8        5             0  \n",
       "2         9.8        5             0  \n",
       "3         9.8        6             0  \n",
       "4         9.4        5             0  \n",
       "...       ...      ...           ...  \n",
       "1594     10.5        5             0  \n",
       "1595     11.2        6             0  \n",
       "1596     11.0        6             0  \n",
       "1597     10.2        5             0  \n",
       "1598     11.0        6             0  \n",
       "\n",
       "[1599 rows x 13 columns]"
      ]
     },
     "execution_count": 9,
     "metadata": {},
     "output_type": "execute_result"
    }
   ],
   "source": [
    "df"
   ]
  },
  {
   "cell_type": "code",
   "execution_count": 10,
   "id": "b1e147b9",
   "metadata": {},
   "outputs": [
    {
     "data": {
      "text/plain": [
       "fixed acidity           float64\n",
       "volatile acidity        float64\n",
       "citric acid             float64\n",
       "residual sugar          float64\n",
       "chlorides               float64\n",
       "free sulfur dioxide     float64\n",
       "total sulfur dioxide    float64\n",
       "density                 float64\n",
       "pH                      float64\n",
       "sulphates               float64\n",
       "alcohol                 float64\n",
       "quality                   int64\n",
       "wine_quality              int32\n",
       "dtype: object"
      ]
     },
     "execution_count": 10,
     "metadata": {},
     "output_type": "execute_result"
    }
   ],
   "source": [
    "df.dtypes   #Checking the datatypes of the columns numeric or not."
   ]
  },
  {
   "cell_type": "markdown",
   "id": "86f5a195",
   "metadata": {},
   "source": [
    "Since 'wine_quality' is derived from 'quality', both columns speak same story, We will delete 'quality'.and keep 'wine_quality' which only has values 0 and 1 for better classification. So that, 'wine_quality' is our label now."
   ]
  },
  {
   "cell_type": "code",
   "execution_count": 11,
   "id": "b6b24a20",
   "metadata": {},
   "outputs": [
    {
     "data": {
      "text/html": [
       "<div>\n",
       "<style scoped>\n",
       "    .dataframe tbody tr th:only-of-type {\n",
       "        vertical-align: middle;\n",
       "    }\n",
       "\n",
       "    .dataframe tbody tr th {\n",
       "        vertical-align: top;\n",
       "    }\n",
       "\n",
       "    .dataframe thead th {\n",
       "        text-align: right;\n",
       "    }\n",
       "</style>\n",
       "<table border=\"1\" class=\"dataframe\">\n",
       "  <thead>\n",
       "    <tr style=\"text-align: right;\">\n",
       "      <th></th>\n",
       "      <th>fixed acidity</th>\n",
       "      <th>volatile acidity</th>\n",
       "      <th>citric acid</th>\n",
       "      <th>residual sugar</th>\n",
       "      <th>chlorides</th>\n",
       "      <th>free sulfur dioxide</th>\n",
       "      <th>total sulfur dioxide</th>\n",
       "      <th>density</th>\n",
       "      <th>pH</th>\n",
       "      <th>sulphates</th>\n",
       "      <th>alcohol</th>\n",
       "      <th>wine_quality</th>\n",
       "    </tr>\n",
       "  </thead>\n",
       "  <tbody>\n",
       "    <tr>\n",
       "      <th>0</th>\n",
       "      <td>7.4</td>\n",
       "      <td>0.700</td>\n",
       "      <td>0.00</td>\n",
       "      <td>1.9</td>\n",
       "      <td>0.076</td>\n",
       "      <td>11.0</td>\n",
       "      <td>34.0</td>\n",
       "      <td>0.99780</td>\n",
       "      <td>3.51</td>\n",
       "      <td>0.56</td>\n",
       "      <td>9.4</td>\n",
       "      <td>0</td>\n",
       "    </tr>\n",
       "    <tr>\n",
       "      <th>1</th>\n",
       "      <td>7.8</td>\n",
       "      <td>0.880</td>\n",
       "      <td>0.00</td>\n",
       "      <td>2.6</td>\n",
       "      <td>0.098</td>\n",
       "      <td>25.0</td>\n",
       "      <td>67.0</td>\n",
       "      <td>0.99680</td>\n",
       "      <td>3.20</td>\n",
       "      <td>0.68</td>\n",
       "      <td>9.8</td>\n",
       "      <td>0</td>\n",
       "    </tr>\n",
       "    <tr>\n",
       "      <th>2</th>\n",
       "      <td>7.8</td>\n",
       "      <td>0.760</td>\n",
       "      <td>0.04</td>\n",
       "      <td>2.3</td>\n",
       "      <td>0.092</td>\n",
       "      <td>15.0</td>\n",
       "      <td>54.0</td>\n",
       "      <td>0.99700</td>\n",
       "      <td>3.26</td>\n",
       "      <td>0.65</td>\n",
       "      <td>9.8</td>\n",
       "      <td>0</td>\n",
       "    </tr>\n",
       "    <tr>\n",
       "      <th>3</th>\n",
       "      <td>11.2</td>\n",
       "      <td>0.280</td>\n",
       "      <td>0.56</td>\n",
       "      <td>1.9</td>\n",
       "      <td>0.075</td>\n",
       "      <td>17.0</td>\n",
       "      <td>60.0</td>\n",
       "      <td>0.99800</td>\n",
       "      <td>3.16</td>\n",
       "      <td>0.58</td>\n",
       "      <td>9.8</td>\n",
       "      <td>0</td>\n",
       "    </tr>\n",
       "    <tr>\n",
       "      <th>4</th>\n",
       "      <td>7.4</td>\n",
       "      <td>0.700</td>\n",
       "      <td>0.00</td>\n",
       "      <td>1.9</td>\n",
       "      <td>0.076</td>\n",
       "      <td>11.0</td>\n",
       "      <td>34.0</td>\n",
       "      <td>0.99780</td>\n",
       "      <td>3.51</td>\n",
       "      <td>0.56</td>\n",
       "      <td>9.4</td>\n",
       "      <td>0</td>\n",
       "    </tr>\n",
       "    <tr>\n",
       "      <th>...</th>\n",
       "      <td>...</td>\n",
       "      <td>...</td>\n",
       "      <td>...</td>\n",
       "      <td>...</td>\n",
       "      <td>...</td>\n",
       "      <td>...</td>\n",
       "      <td>...</td>\n",
       "      <td>...</td>\n",
       "      <td>...</td>\n",
       "      <td>...</td>\n",
       "      <td>...</td>\n",
       "      <td>...</td>\n",
       "    </tr>\n",
       "    <tr>\n",
       "      <th>1594</th>\n",
       "      <td>6.2</td>\n",
       "      <td>0.600</td>\n",
       "      <td>0.08</td>\n",
       "      <td>2.0</td>\n",
       "      <td>0.090</td>\n",
       "      <td>32.0</td>\n",
       "      <td>44.0</td>\n",
       "      <td>0.99490</td>\n",
       "      <td>3.45</td>\n",
       "      <td>0.58</td>\n",
       "      <td>10.5</td>\n",
       "      <td>0</td>\n",
       "    </tr>\n",
       "    <tr>\n",
       "      <th>1595</th>\n",
       "      <td>5.9</td>\n",
       "      <td>0.550</td>\n",
       "      <td>0.10</td>\n",
       "      <td>2.2</td>\n",
       "      <td>0.062</td>\n",
       "      <td>39.0</td>\n",
       "      <td>51.0</td>\n",
       "      <td>0.99512</td>\n",
       "      <td>3.52</td>\n",
       "      <td>0.76</td>\n",
       "      <td>11.2</td>\n",
       "      <td>0</td>\n",
       "    </tr>\n",
       "    <tr>\n",
       "      <th>1596</th>\n",
       "      <td>6.3</td>\n",
       "      <td>0.510</td>\n",
       "      <td>0.13</td>\n",
       "      <td>2.3</td>\n",
       "      <td>0.076</td>\n",
       "      <td>29.0</td>\n",
       "      <td>40.0</td>\n",
       "      <td>0.99574</td>\n",
       "      <td>3.42</td>\n",
       "      <td>0.75</td>\n",
       "      <td>11.0</td>\n",
       "      <td>0</td>\n",
       "    </tr>\n",
       "    <tr>\n",
       "      <th>1597</th>\n",
       "      <td>5.9</td>\n",
       "      <td>0.645</td>\n",
       "      <td>0.12</td>\n",
       "      <td>2.0</td>\n",
       "      <td>0.075</td>\n",
       "      <td>32.0</td>\n",
       "      <td>44.0</td>\n",
       "      <td>0.99547</td>\n",
       "      <td>3.57</td>\n",
       "      <td>0.71</td>\n",
       "      <td>10.2</td>\n",
       "      <td>0</td>\n",
       "    </tr>\n",
       "    <tr>\n",
       "      <th>1598</th>\n",
       "      <td>6.0</td>\n",
       "      <td>0.310</td>\n",
       "      <td>0.47</td>\n",
       "      <td>3.6</td>\n",
       "      <td>0.067</td>\n",
       "      <td>18.0</td>\n",
       "      <td>42.0</td>\n",
       "      <td>0.99549</td>\n",
       "      <td>3.39</td>\n",
       "      <td>0.66</td>\n",
       "      <td>11.0</td>\n",
       "      <td>0</td>\n",
       "    </tr>\n",
       "  </tbody>\n",
       "</table>\n",
       "<p>1599 rows × 12 columns</p>\n",
       "</div>"
      ],
      "text/plain": [
       "      fixed acidity  volatile acidity  citric acid  residual sugar  chlorides  \\\n",
       "0               7.4             0.700         0.00             1.9      0.076   \n",
       "1               7.8             0.880         0.00             2.6      0.098   \n",
       "2               7.8             0.760         0.04             2.3      0.092   \n",
       "3              11.2             0.280         0.56             1.9      0.075   \n",
       "4               7.4             0.700         0.00             1.9      0.076   \n",
       "...             ...               ...          ...             ...        ...   \n",
       "1594            6.2             0.600         0.08             2.0      0.090   \n",
       "1595            5.9             0.550         0.10             2.2      0.062   \n",
       "1596            6.3             0.510         0.13             2.3      0.076   \n",
       "1597            5.9             0.645         0.12             2.0      0.075   \n",
       "1598            6.0             0.310         0.47             3.6      0.067   \n",
       "\n",
       "      free sulfur dioxide  total sulfur dioxide  density    pH  sulphates  \\\n",
       "0                    11.0                  34.0  0.99780  3.51       0.56   \n",
       "1                    25.0                  67.0  0.99680  3.20       0.68   \n",
       "2                    15.0                  54.0  0.99700  3.26       0.65   \n",
       "3                    17.0                  60.0  0.99800  3.16       0.58   \n",
       "4                    11.0                  34.0  0.99780  3.51       0.56   \n",
       "...                   ...                   ...      ...   ...        ...   \n",
       "1594                 32.0                  44.0  0.99490  3.45       0.58   \n",
       "1595                 39.0                  51.0  0.99512  3.52       0.76   \n",
       "1596                 29.0                  40.0  0.99574  3.42       0.75   \n",
       "1597                 32.0                  44.0  0.99547  3.57       0.71   \n",
       "1598                 18.0                  42.0  0.99549  3.39       0.66   \n",
       "\n",
       "      alcohol  wine_quality  \n",
       "0         9.4             0  \n",
       "1         9.8             0  \n",
       "2         9.8             0  \n",
       "3         9.8             0  \n",
       "4         9.4             0  \n",
       "...       ...           ...  \n",
       "1594     10.5             0  \n",
       "1595     11.2             0  \n",
       "1596     11.0             0  \n",
       "1597     10.2             0  \n",
       "1598     11.0             0  \n",
       "\n",
       "[1599 rows x 12 columns]"
      ]
     },
     "execution_count": 11,
     "metadata": {},
     "output_type": "execute_result"
    }
   ],
   "source": [
    "df = df.drop(\"quality\",axis = 1)\n",
    "df"
   ]
  },
  {
   "cell_type": "markdown",
   "id": "ca604fcc",
   "metadata": {},
   "source": [
    "#### Now wine_quality is our label now, with values 0 and 1. Its a binary classification."
   ]
  },
  {
   "cell_type": "code",
   "execution_count": 12,
   "id": "e646d01d",
   "metadata": {},
   "outputs": [
    {
     "data": {
      "text/plain": [
       "(1599, 12)"
      ]
     },
     "execution_count": 12,
     "metadata": {},
     "output_type": "execute_result"
    }
   ],
   "source": [
    "df.shape"
   ]
  },
  {
   "cell_type": "markdown",
   "id": "a79049ba",
   "metadata": {},
   "source": [
    "# Statistical summary:"
   ]
  },
  {
   "cell_type": "code",
   "execution_count": 13,
   "id": "640d4517",
   "metadata": {},
   "outputs": [
    {
     "data": {
      "text/html": [
       "<div>\n",
       "<style scoped>\n",
       "    .dataframe tbody tr th:only-of-type {\n",
       "        vertical-align: middle;\n",
       "    }\n",
       "\n",
       "    .dataframe tbody tr th {\n",
       "        vertical-align: top;\n",
       "    }\n",
       "\n",
       "    .dataframe thead th {\n",
       "        text-align: right;\n",
       "    }\n",
       "</style>\n",
       "<table border=\"1\" class=\"dataframe\">\n",
       "  <thead>\n",
       "    <tr style=\"text-align: right;\">\n",
       "      <th></th>\n",
       "      <th>fixed acidity</th>\n",
       "      <th>volatile acidity</th>\n",
       "      <th>citric acid</th>\n",
       "      <th>residual sugar</th>\n",
       "      <th>chlorides</th>\n",
       "      <th>free sulfur dioxide</th>\n",
       "      <th>total sulfur dioxide</th>\n",
       "      <th>density</th>\n",
       "      <th>pH</th>\n",
       "      <th>sulphates</th>\n",
       "      <th>alcohol</th>\n",
       "      <th>wine_quality</th>\n",
       "    </tr>\n",
       "  </thead>\n",
       "  <tbody>\n",
       "    <tr>\n",
       "      <th>count</th>\n",
       "      <td>1599.000000</td>\n",
       "      <td>1599.000000</td>\n",
       "      <td>1599.000000</td>\n",
       "      <td>1599.000000</td>\n",
       "      <td>1599.000000</td>\n",
       "      <td>1599.000000</td>\n",
       "      <td>1599.000000</td>\n",
       "      <td>1599.000000</td>\n",
       "      <td>1599.000000</td>\n",
       "      <td>1599.000000</td>\n",
       "      <td>1599.000000</td>\n",
       "      <td>1599.000000</td>\n",
       "    </tr>\n",
       "    <tr>\n",
       "      <th>mean</th>\n",
       "      <td>8.319637</td>\n",
       "      <td>0.527821</td>\n",
       "      <td>0.270976</td>\n",
       "      <td>2.538806</td>\n",
       "      <td>0.087467</td>\n",
       "      <td>15.874922</td>\n",
       "      <td>46.467792</td>\n",
       "      <td>0.996747</td>\n",
       "      <td>3.311113</td>\n",
       "      <td>0.658149</td>\n",
       "      <td>10.422983</td>\n",
       "      <td>0.135710</td>\n",
       "    </tr>\n",
       "    <tr>\n",
       "      <th>std</th>\n",
       "      <td>1.741096</td>\n",
       "      <td>0.179060</td>\n",
       "      <td>0.194801</td>\n",
       "      <td>1.409928</td>\n",
       "      <td>0.047065</td>\n",
       "      <td>10.460157</td>\n",
       "      <td>32.895324</td>\n",
       "      <td>0.001887</td>\n",
       "      <td>0.154386</td>\n",
       "      <td>0.169507</td>\n",
       "      <td>1.065668</td>\n",
       "      <td>0.342587</td>\n",
       "    </tr>\n",
       "    <tr>\n",
       "      <th>min</th>\n",
       "      <td>4.600000</td>\n",
       "      <td>0.120000</td>\n",
       "      <td>0.000000</td>\n",
       "      <td>0.900000</td>\n",
       "      <td>0.012000</td>\n",
       "      <td>1.000000</td>\n",
       "      <td>6.000000</td>\n",
       "      <td>0.990070</td>\n",
       "      <td>2.740000</td>\n",
       "      <td>0.330000</td>\n",
       "      <td>8.400000</td>\n",
       "      <td>0.000000</td>\n",
       "    </tr>\n",
       "    <tr>\n",
       "      <th>25%</th>\n",
       "      <td>7.100000</td>\n",
       "      <td>0.390000</td>\n",
       "      <td>0.090000</td>\n",
       "      <td>1.900000</td>\n",
       "      <td>0.070000</td>\n",
       "      <td>7.000000</td>\n",
       "      <td>22.000000</td>\n",
       "      <td>0.995600</td>\n",
       "      <td>3.210000</td>\n",
       "      <td>0.550000</td>\n",
       "      <td>9.500000</td>\n",
       "      <td>0.000000</td>\n",
       "    </tr>\n",
       "    <tr>\n",
       "      <th>50%</th>\n",
       "      <td>7.900000</td>\n",
       "      <td>0.520000</td>\n",
       "      <td>0.260000</td>\n",
       "      <td>2.200000</td>\n",
       "      <td>0.079000</td>\n",
       "      <td>14.000000</td>\n",
       "      <td>38.000000</td>\n",
       "      <td>0.996750</td>\n",
       "      <td>3.310000</td>\n",
       "      <td>0.620000</td>\n",
       "      <td>10.200000</td>\n",
       "      <td>0.000000</td>\n",
       "    </tr>\n",
       "    <tr>\n",
       "      <th>75%</th>\n",
       "      <td>9.200000</td>\n",
       "      <td>0.640000</td>\n",
       "      <td>0.420000</td>\n",
       "      <td>2.600000</td>\n",
       "      <td>0.090000</td>\n",
       "      <td>21.000000</td>\n",
       "      <td>62.000000</td>\n",
       "      <td>0.997835</td>\n",
       "      <td>3.400000</td>\n",
       "      <td>0.730000</td>\n",
       "      <td>11.100000</td>\n",
       "      <td>0.000000</td>\n",
       "    </tr>\n",
       "    <tr>\n",
       "      <th>max</th>\n",
       "      <td>15.900000</td>\n",
       "      <td>1.580000</td>\n",
       "      <td>1.000000</td>\n",
       "      <td>15.500000</td>\n",
       "      <td>0.611000</td>\n",
       "      <td>72.000000</td>\n",
       "      <td>289.000000</td>\n",
       "      <td>1.003690</td>\n",
       "      <td>4.010000</td>\n",
       "      <td>2.000000</td>\n",
       "      <td>14.900000</td>\n",
       "      <td>1.000000</td>\n",
       "    </tr>\n",
       "  </tbody>\n",
       "</table>\n",
       "</div>"
      ],
      "text/plain": [
       "       fixed acidity  volatile acidity  citric acid  residual sugar  \\\n",
       "count    1599.000000       1599.000000  1599.000000     1599.000000   \n",
       "mean        8.319637          0.527821     0.270976        2.538806   \n",
       "std         1.741096          0.179060     0.194801        1.409928   \n",
       "min         4.600000          0.120000     0.000000        0.900000   \n",
       "25%         7.100000          0.390000     0.090000        1.900000   \n",
       "50%         7.900000          0.520000     0.260000        2.200000   \n",
       "75%         9.200000          0.640000     0.420000        2.600000   \n",
       "max        15.900000          1.580000     1.000000       15.500000   \n",
       "\n",
       "         chlorides  free sulfur dioxide  total sulfur dioxide      density  \\\n",
       "count  1599.000000          1599.000000           1599.000000  1599.000000   \n",
       "mean      0.087467            15.874922             46.467792     0.996747   \n",
       "std       0.047065            10.460157             32.895324     0.001887   \n",
       "min       0.012000             1.000000              6.000000     0.990070   \n",
       "25%       0.070000             7.000000             22.000000     0.995600   \n",
       "50%       0.079000            14.000000             38.000000     0.996750   \n",
       "75%       0.090000            21.000000             62.000000     0.997835   \n",
       "max       0.611000            72.000000            289.000000     1.003690   \n",
       "\n",
       "                pH    sulphates      alcohol  wine_quality  \n",
       "count  1599.000000  1599.000000  1599.000000   1599.000000  \n",
       "mean      3.311113     0.658149    10.422983      0.135710  \n",
       "std       0.154386     0.169507     1.065668      0.342587  \n",
       "min       2.740000     0.330000     8.400000      0.000000  \n",
       "25%       3.210000     0.550000     9.500000      0.000000  \n",
       "50%       3.310000     0.620000    10.200000      0.000000  \n",
       "75%       3.400000     0.730000    11.100000      0.000000  \n",
       "max       4.010000     2.000000    14.900000      1.000000  "
      ]
     },
     "execution_count": 13,
     "metadata": {},
     "output_type": "execute_result"
    }
   ],
   "source": [
    "df.describe() "
   ]
  },
  {
   "cell_type": "code",
   "execution_count": 14,
   "id": "023ab80c",
   "metadata": {},
   "outputs": [
    {
     "data": {
      "text/plain": [
       "<AxesSubplot:>"
      ]
     },
     "execution_count": 14,
     "metadata": {},
     "output_type": "execute_result"
    },
    {
     "data": {
      "image/png": "[encoded data removed]",
      "text/plain": [
       "<Figure size 1584x504 with 2 Axes>"
      ]
     },
     "metadata": {
      "needs_background": "light"
     },
     "output_type": "display_data"
    }
   ],
   "source": [
    "#Heatmap using df.describe\n",
    "\n",
    "import matplotlib.pyplot as plt\n",
    "plt.figure(figsize=(22,7))\n",
    "sns.heatmap(df.describe(), annot=True, linewidths=0.1, linecolor='black',fmt=\".2f\")"
   ]
  },
  {
   "cell_type": "markdown",
   "id": "efb32ced",
   "metadata": {},
   "source": [
    "# Checking for nulls"
   ]
  },
  {
   "cell_type": "code",
   "execution_count": 15,
   "id": "426d8486",
   "metadata": {},
   "outputs": [
    {
     "data": {
      "text/plain": [
       "fixed acidity           0\n",
       "volatile acidity        0\n",
       "citric acid             0\n",
       "residual sugar          0\n",
       "chlorides               0\n",
       "free sulfur dioxide     0\n",
       "total sulfur dioxide    0\n",
       "density                 0\n",
       "pH                      0\n",
       "sulphates               0\n",
       "alcohol                 0\n",
       "wine_quality            0\n",
       "dtype: int64"
      ]
     },
     "execution_count": 15,
     "metadata": {},
     "output_type": "execute_result"
    }
   ],
   "source": [
    "df.isnull().sum()"
   ]
  },
  {
   "cell_type": "code",
   "execution_count": 16,
   "id": "84f80285",
   "metadata": {},
   "outputs": [
    {
     "data": {
      "text/plain": [
       "<function matplotlib.pyplot.show(close=None, block=None)>"
      ]
     },
     "execution_count": 16,
     "metadata": {},
     "output_type": "execute_result"
    },
    {
     "data": {
      "image/png": "[encoded data removed]",
      "text/plain": [
       "<Figure size 432x288 with 2 Axes>"
      ]
     },
     "metadata": {
      "needs_background": "light"
     },
     "output_type": "display_data"
    }
   ],
   "source": [
    "sns.heatmap(df.isnull())\n",
    "plt.title(\"Null Values\")\n",
    "plt.show"
   ]
  },
  {
   "cell_type": "markdown",
   "id": "a69e8fd3",
   "metadata": {},
   "source": [
    "### There are no null values in the dataset."
   ]
  },
  {
   "cell_type": "markdown",
   "id": "ae3de8a4",
   "metadata": {},
   "source": [
    "# Checking the distribution of the continuous values of the float type"
   ]
  },
  {
   "cell_type": "code",
   "execution_count": 17,
   "id": "bfc37c4e",
   "metadata": {},
   "outputs": [
    {
     "data": {
      "image/png": "[encoded data removed]",
      "text/plain": [
       "<Figure size 1080x576 with 11 Axes>"
      ]
     },
     "metadata": {},
     "output_type": "display_data"
    }
   ],
   "source": [
    "#Data distribution:\n",
    "#Dist Plot:\n",
    "\n",
    "plt.figure(figsize = (15,8), facecolor = 'white')\n",
    "plotnumber = 1   #initializing 1 to a name\n",
    "\n",
    "for column in df:\n",
    "    if plotnumber <= 11:\n",
    "        ax = plt.subplot(3,4,plotnumber) #In 3 rows I want 4 columns to be plotted \n",
    "        sns.distplot(df[column])\n",
    "        plt.xlabel(column,fontsize = 20)\n",
    "        plotnumber += 1\n",
    "        plt.tight_layout()\n",
    "        "
   ]
  },
  {
   "cell_type": "markdown",
   "id": "035a0460",
   "metadata": {},
   "source": [
    "#### Observation: Most of the features are skewed."
   ]
  },
  {
   "cell_type": "markdown",
   "id": "044f4e2e",
   "metadata": {},
   "source": [
    "# checking for class imbalance"
   ]
  },
  {
   "cell_type": "code",
   "execution_count": 18,
   "id": "eb47b869",
   "metadata": {},
   "outputs": [
    {
     "data": {
      "image/png": "[encoded data removed]",
      "text/plain": [
       "<Figure size 432x288 with 1 Axes>"
      ]
     },
     "metadata": {
      "needs_background": "light"
     },
     "output_type": "display_data"
    }
   ],
   "source": [
    "#Lets check if there is class imbalance\n",
    "\n",
    "df[\"wine_quality\"].hist(grid = False)\n",
    "plt.title(\"Bad_Wine vs Good_Wine\")\n",
    "plt.show()"
   ]
  },
  {
   "cell_type": "markdown",
   "id": "9094b636",
   "metadata": {},
   "source": [
    "### We will deal with the imbalance later after training the model."
   ]
  },
  {
   "cell_type": "markdown",
   "id": "21c6e9b2",
   "metadata": {},
   "source": [
    "# correlation"
   ]
  },
  {
   "cell_type": "code",
   "execution_count": 19,
   "id": "a49f4bf9",
   "metadata": {},
   "outputs": [
    {
     "data": {
      "image/png": "[encoded data removed]",
      "text/plain": [
       "<Figure size 1008x576 with 2 Axes>"
      ]
     },
     "metadata": {
      "needs_background": "light"
     },
     "output_type": "display_data"
    }
   ],
   "source": [
    "correlation = df.corr()\n",
    "plt.figure(figsize=(14, 8))\n",
    "sns.heatmap(correlation, annot=True, linewidths=0.1, linecolor='black', fmt=\"0.2f\")\n",
    "plt.title(\"Correlation Matrix\")\n",
    "plt.show()"
   ]
  },
  {
   "cell_type": "markdown",
   "id": "e5fcf0c3",
   "metadata": {},
   "source": [
    "## Outcome of Correlation;\n",
    "#### Fixed acidity has 12 percent corr. with the target column which can be considered as a Weak bond. volatile acidity has 27 percent corr. with the target column which can be considered as a Strong bond. Citric acid has 21 percent corr. with the target column which can be considered as a Good bond. Residual sugar has 5 percent corr. with the target column which can be considered as a Weak Bond. chlorides has 10 percent corr. with the target column which can be considered as a Weak bond. free sulfur dioxide has 7 percent corr. with the target column which can be considered as a Weak bond. Total Sulfur dioxide has 14 percent corr. with the target column which can be considered as a Weak bond. Density has 15 percent corr. with the target column which can be considered as a Good bond. PH has 6 percent corr. with the target column which can be considered as a Weak bond. Sulphates has 20 percent corr. with the target column which can be considered as a Good Bond. Alcohal has 41 percent corr. with the target column which can be considered as a Strong bond.\n"
   ]
  },
  {
   "cell_type": "code",
   "execution_count": 20,
   "id": "fe07456c",
   "metadata": {},
   "outputs": [
    {
     "data": {
      "text/plain": [
       "<AxesSubplot:>"
      ]
     },
     "execution_count": 20,
     "metadata": {},
     "output_type": "execute_result"
    },
    {
     "data": {
      "image/png": "[encoded data removed]",
      "text/plain": [
       "<Figure size 1584x504 with 1 Axes>"
      ]
     },
     "metadata": {
      "needs_background": "light"
     },
     "output_type": "display_data"
    }
   ],
   "source": [
    "plt.figure(figsize=(22,7))\n",
    "correlation['wine_quality'].sort_values(ascending=False).drop(['wine_quality']).plot(kind='bar',color='r')"
   ]
  },
  {
   "cell_type": "code",
   "execution_count": 21,
   "id": "b9bb7729",
   "metadata": {},
   "outputs": [
    {
     "data": {
      "text/plain": [
       "wine_quality            1.000000\n",
       "alcohol                 0.407315\n",
       "citric acid             0.214716\n",
       "sulphates               0.199485\n",
       "fixed acidity           0.120061\n",
       "residual sugar          0.047779\n",
       "pH                     -0.057283\n",
       "free sulfur dioxide    -0.071747\n",
       "chlorides              -0.097308\n",
       "total sulfur dioxide   -0.139517\n",
       "density                -0.150460\n",
       "volatile acidity       -0.270712\n",
       "Name: wine_quality, dtype: float64"
      ]
     },
     "execution_count": 21,
     "metadata": {},
     "output_type": "execute_result"
    }
   ],
   "source": [
    "correlation['wine_quality'].sort_values(ascending=False)"
   ]
  },
  {
   "cell_type": "markdown",
   "id": "865054c7",
   "metadata": {},
   "source": [
    "#### Observation: Min Correlation: residual sugar ; Max Correlation: alcohol"
   ]
  },
  {
   "cell_type": "markdown",
   "id": "d491eb40",
   "metadata": {},
   "source": [
    "# lets divide data into features and label"
   ]
  },
  {
   "cell_type": "code",
   "execution_count": 22,
   "id": "f10e1aa8",
   "metadata": {},
   "outputs": [
    {
     "data": {
      "text/html": [
       "<div>\n",
       "<style scoped>\n",
       "    .dataframe tbody tr th:only-of-type {\n",
       "        vertical-align: middle;\n",
       "    }\n",
       "\n",
       "    .dataframe tbody tr th {\n",
       "        vertical-align: top;\n",
       "    }\n",
       "\n",
       "    .dataframe thead th {\n",
       "        text-align: right;\n",
       "    }\n",
       "</style>\n",
       "<table border=\"1\" class=\"dataframe\">\n",
       "  <thead>\n",
       "    <tr style=\"text-align: right;\">\n",
       "      <th></th>\n",
       "      <th>fixed acidity</th>\n",
       "      <th>volatile acidity</th>\n",
       "      <th>citric acid</th>\n",
       "      <th>residual sugar</th>\n",
       "      <th>chlorides</th>\n",
       "      <th>free sulfur dioxide</th>\n",
       "      <th>total sulfur dioxide</th>\n",
       "      <th>density</th>\n",
       "      <th>pH</th>\n",
       "      <th>sulphates</th>\n",
       "      <th>alcohol</th>\n",
       "    </tr>\n",
       "  </thead>\n",
       "  <tbody>\n",
       "    <tr>\n",
       "      <th>0</th>\n",
       "      <td>7.4</td>\n",
       "      <td>0.700</td>\n",
       "      <td>0.00</td>\n",
       "      <td>1.9</td>\n",
       "      <td>0.076</td>\n",
       "      <td>11.0</td>\n",
       "      <td>34.0</td>\n",
       "      <td>0.99780</td>\n",
       "      <td>3.51</td>\n",
       "      <td>0.56</td>\n",
       "      <td>9.4</td>\n",
       "    </tr>\n",
       "    <tr>\n",
       "      <th>1</th>\n",
       "      <td>7.8</td>\n",
       "      <td>0.880</td>\n",
       "      <td>0.00</td>\n",
       "      <td>2.6</td>\n",
       "      <td>0.098</td>\n",
       "      <td>25.0</td>\n",
       "      <td>67.0</td>\n",
       "      <td>0.99680</td>\n",
       "      <td>3.20</td>\n",
       "      <td>0.68</td>\n",
       "      <td>9.8</td>\n",
       "    </tr>\n",
       "    <tr>\n",
       "      <th>2</th>\n",
       "      <td>7.8</td>\n",
       "      <td>0.760</td>\n",
       "      <td>0.04</td>\n",
       "      <td>2.3</td>\n",
       "      <td>0.092</td>\n",
       "      <td>15.0</td>\n",
       "      <td>54.0</td>\n",
       "      <td>0.99700</td>\n",
       "      <td>3.26</td>\n",
       "      <td>0.65</td>\n",
       "      <td>9.8</td>\n",
       "    </tr>\n",
       "    <tr>\n",
       "      <th>3</th>\n",
       "      <td>11.2</td>\n",
       "      <td>0.280</td>\n",
       "      <td>0.56</td>\n",
       "      <td>1.9</td>\n",
       "      <td>0.075</td>\n",
       "      <td>17.0</td>\n",
       "      <td>60.0</td>\n",
       "      <td>0.99800</td>\n",
       "      <td>3.16</td>\n",
       "      <td>0.58</td>\n",
       "      <td>9.8</td>\n",
       "    </tr>\n",
       "    <tr>\n",
       "      <th>4</th>\n",
       "      <td>7.4</td>\n",
       "      <td>0.700</td>\n",
       "      <td>0.00</td>\n",
       "      <td>1.9</td>\n",
       "      <td>0.076</td>\n",
       "      <td>11.0</td>\n",
       "      <td>34.0</td>\n",
       "      <td>0.99780</td>\n",
       "      <td>3.51</td>\n",
       "      <td>0.56</td>\n",
       "      <td>9.4</td>\n",
       "    </tr>\n",
       "    <tr>\n",
       "      <th>...</th>\n",
       "      <td>...</td>\n",
       "      <td>...</td>\n",
       "      <td>...</td>\n",
       "      <td>...</td>\n",
       "      <td>...</td>\n",
       "      <td>...</td>\n",
       "      <td>...</td>\n",
       "      <td>...</td>\n",
       "      <td>...</td>\n",
       "      <td>...</td>\n",
       "      <td>...</td>\n",
       "    </tr>\n",
       "    <tr>\n",
       "      <th>1594</th>\n",
       "      <td>6.2</td>\n",
       "      <td>0.600</td>\n",
       "      <td>0.08</td>\n",
       "      <td>2.0</td>\n",
       "      <td>0.090</td>\n",
       "      <td>32.0</td>\n",
       "      <td>44.0</td>\n",
       "      <td>0.99490</td>\n",
       "      <td>3.45</td>\n",
       "      <td>0.58</td>\n",
       "      <td>10.5</td>\n",
       "    </tr>\n",
       "    <tr>\n",
       "      <th>1595</th>\n",
       "      <td>5.9</td>\n",
       "      <td>0.550</td>\n",
       "      <td>0.10</td>\n",
       "      <td>2.2</td>\n",
       "      <td>0.062</td>\n",
       "      <td>39.0</td>\n",
       "      <td>51.0</td>\n",
       "      <td>0.99512</td>\n",
       "      <td>3.52</td>\n",
       "      <td>0.76</td>\n",
       "      <td>11.2</td>\n",
       "    </tr>\n",
       "    <tr>\n",
       "      <th>1596</th>\n",
       "      <td>6.3</td>\n",
       "      <td>0.510</td>\n",
       "      <td>0.13</td>\n",
       "      <td>2.3</td>\n",
       "      <td>0.076</td>\n",
       "      <td>29.0</td>\n",
       "      <td>40.0</td>\n",
       "      <td>0.99574</td>\n",
       "      <td>3.42</td>\n",
       "      <td>0.75</td>\n",
       "      <td>11.0</td>\n",
       "    </tr>\n",
       "    <tr>\n",
       "      <th>1597</th>\n",
       "      <td>5.9</td>\n",
       "      <td>0.645</td>\n",
       "      <td>0.12</td>\n",
       "      <td>2.0</td>\n",
       "      <td>0.075</td>\n",
       "      <td>32.0</td>\n",
       "      <td>44.0</td>\n",
       "      <td>0.99547</td>\n",
       "      <td>3.57</td>\n",
       "      <td>0.71</td>\n",
       "      <td>10.2</td>\n",
       "    </tr>\n",
       "    <tr>\n",
       "      <th>1598</th>\n",
       "      <td>6.0</td>\n",
       "      <td>0.310</td>\n",
       "      <td>0.47</td>\n",
       "      <td>3.6</td>\n",
       "      <td>0.067</td>\n",
       "      <td>18.0</td>\n",
       "      <td>42.0</td>\n",
       "      <td>0.99549</td>\n",
       "      <td>3.39</td>\n",
       "      <td>0.66</td>\n",
       "      <td>11.0</td>\n",
       "    </tr>\n",
       "  </tbody>\n",
       "</table>\n",
       "<p>1599 rows × 11 columns</p>\n",
       "</div>"
      ],
      "text/plain": [
       "      fixed acidity  volatile acidity  citric acid  residual sugar  chlorides  \\\n",
       "0               7.4             0.700         0.00             1.9      0.076   \n",
       "1               7.8             0.880         0.00             2.6      0.098   \n",
       "2               7.8             0.760         0.04             2.3      0.092   \n",
       "3              11.2             0.280         0.56             1.9      0.075   \n",
       "4               7.4             0.700         0.00             1.9      0.076   \n",
       "...             ...               ...          ...             ...        ...   \n",
       "1594            6.2             0.600         0.08             2.0      0.090   \n",
       "1595            5.9             0.550         0.10             2.2      0.062   \n",
       "1596            6.3             0.510         0.13             2.3      0.076   \n",
       "1597            5.9             0.645         0.12             2.0      0.075   \n",
       "1598            6.0             0.310         0.47             3.6      0.067   \n",
       "\n",
       "      free sulfur dioxide  total sulfur dioxide  density    pH  sulphates  \\\n",
       "0                    11.0                  34.0  0.99780  3.51       0.56   \n",
       "1                    25.0                  67.0  0.99680  3.20       0.68   \n",
       "2                    15.0                  54.0  0.99700  3.26       0.65   \n",
       "3                    17.0                  60.0  0.99800  3.16       0.58   \n",
       "4                    11.0                  34.0  0.99780  3.51       0.56   \n",
       "...                   ...                   ...      ...   ...        ...   \n",
       "1594                 32.0                  44.0  0.99490  3.45       0.58   \n",
       "1595                 39.0                  51.0  0.99512  3.52       0.76   \n",
       "1596                 29.0                  40.0  0.99574  3.42       0.75   \n",
       "1597                 32.0                  44.0  0.99547  3.57       0.71   \n",
       "1598                 18.0                  42.0  0.99549  3.39       0.66   \n",
       "\n",
       "      alcohol  \n",
       "0         9.4  \n",
       "1         9.8  \n",
       "2         9.8  \n",
       "3         9.8  \n",
       "4         9.4  \n",
       "...       ...  \n",
       "1594     10.5  \n",
       "1595     11.2  \n",
       "1596     11.0  \n",
       "1597     10.2  \n",
       "1598     11.0  \n",
       "\n",
       "[1599 rows x 11 columns]"
      ]
     },
     "execution_count": 22,
     "metadata": {},
     "output_type": "execute_result"
    }
   ],
   "source": [
    "x = df.drop(\"wine_quality\",axis = 1)\n",
    "y = df[\"wine_quality\"]\n",
    "x"
   ]
  },
  {
   "cell_type": "markdown",
   "id": "fe0d6f70",
   "metadata": {},
   "source": [
    "# skewness"
   ]
  },
  {
   "cell_type": "code",
   "execution_count": 23,
   "id": "a8588396",
   "metadata": {},
   "outputs": [
    {
     "data": {
      "text/plain": [
       "fixed acidity           0.982751\n",
       "volatile acidity        0.671593\n",
       "citric acid             0.318337\n",
       "residual sugar          4.540655\n",
       "chlorides               5.680347\n",
       "free sulfur dioxide     1.250567\n",
       "total sulfur dioxide    1.515531\n",
       "density                 0.071288\n",
       "pH                      0.193683\n",
       "sulphates               2.428672\n",
       "alcohol                 0.860829\n",
       "dtype: float64"
      ]
     },
     "execution_count": 23,
     "metadata": {},
     "output_type": "execute_result"
    }
   ],
   "source": [
    "x.skew()"
   ]
  },
  {
   "cell_type": "markdown",
   "id": "cb225018",
   "metadata": {},
   "source": [
    "# power_tranform function"
   ]
  },
  {
   "cell_type": "code",
   "execution_count": 24,
   "id": "d97aa5e3",
   "metadata": {},
   "outputs": [],
   "source": [
    "# we will remove the skewness using power_tranform function\n",
    "from sklearn.preprocessing import power_transform\n",
    "x_new = power_transform(x ,  method = 'yeo-johnson')\n",
    "x = pd.DataFrame(x_new,columns=x.columns)\n"
   ]
  },
  {
   "cell_type": "code",
   "execution_count": 25,
   "id": "00ed1b74",
   "metadata": {},
   "outputs": [
    {
     "data": {
      "text/plain": [
       "fixed acidity           0.002529\n",
       "volatile acidity        0.003099\n",
       "citric acid             0.017788\n",
       "residual sugar         -0.015715\n",
       "chlorides              -0.151304\n",
       "free sulfur dioxide    -0.009948\n",
       "total sulfur dioxide   -0.003752\n",
       "density                -0.005054\n",
       "pH                     -0.002823\n",
       "sulphates               0.009985\n",
       "alcohol                 0.112372\n",
       "dtype: float64"
      ]
     },
     "execution_count": 25,
     "metadata": {},
     "output_type": "execute_result"
    }
   ],
   "source": [
    "x.skew()"
   ]
  },
  {
   "cell_type": "markdown",
   "id": "84304b89",
   "metadata": {},
   "source": [
    "### All values are under +/-0.5, skewness is handled."
   ]
  },
  {
   "cell_type": "markdown",
   "id": "cedb236c",
   "metadata": {},
   "source": [
    "## Checking outliers: "
   ]
  },
  {
   "cell_type": "code",
   "execution_count": 26,
   "id": "606d02ae",
   "metadata": {},
   "outputs": [
    {
     "data": {
      "image/png": "[encoded data removed]",
      "text/plain": [
       "<Figure size 1440x576 with 1 Axes>"
      ]
     },
     "metadata": {
      "needs_background": "light"
     },
     "output_type": "display_data"
    }
   ],
   "source": [
    "# plotting boxplot for all the columns\n",
    "x.iloc[:,0:11].boxplot(figsize=[20,8])\n",
    "plt.subplots_adjust(bottom=0.25)\n",
    "plt.show()"
   ]
  },
  {
   "cell_type": "markdown",
   "id": "40ef3cd7",
   "metadata": {},
   "source": [
    "# Outliers Removal"
   ]
  },
  {
   "cell_type": "markdown",
   "id": "2deb8a84",
   "metadata": {},
   "source": [
    "## ZScore Technique:"
   ]
  },
  {
   "cell_type": "code",
   "execution_count": 27,
   "id": "5da081af",
   "metadata": {},
   "outputs": [
    {
     "data": {
      "text/plain": [
       "(1599, 11)"
      ]
     },
     "execution_count": 27,
     "metadata": {},
     "output_type": "execute_result"
    }
   ],
   "source": [
    "from scipy.stats import zscore\n",
    "import numpy as np \n",
    "z=np.abs(zscore(x))\n",
    "z.shape"
   ]
  },
  {
   "cell_type": "code",
   "execution_count": 28,
   "id": "80fdcfb8",
   "metadata": {},
   "outputs": [
    {
     "name": "stdout",
     "output_type": "stream",
     "text": [
      "(array([   7,   45,   45,   95,   95,  126,  127,  151,  170,  198,  354,\n",
      "        442,  469,  480,  517,  544,  544,  554,  555,  557,  608,  614,\n",
      "        695,  695,  797,  836,  836,  837,  837,  889,  909,  914, 1017,\n",
      "       1017, 1018, 1018, 1081, 1114, 1269, 1270, 1287, 1299, 1316, 1316,\n",
      "       1321, 1321, 1369, 1374, 1434, 1435, 1571], dtype=int64), array([ 3,  0,  8,  0,  8,  1,  1,  8,  9,  3,  7,  7,  3,  7, 10,  8, 10,\n",
      "        7,  7,  7,  7,  8,  4,  8,  4,  4,  7,  4,  7,  7,  3,  3,  3,  7,\n",
      "        3,  7,  6,  7,  7,  7,  9,  1,  3,  8,  3,  8,  9,  3,  7,  7,  4],\n",
      "      dtype=int64))\n"
     ]
    }
   ],
   "source": [
    "threshold=3\n",
    "print(np.where(z>3))"
   ]
  },
  {
   "cell_type": "code",
   "execution_count": 29,
   "id": "fd737d78",
   "metadata": {},
   "outputs": [
    {
     "name": "stdout",
     "output_type": "stream",
     "text": [
      "(1599, 11)\n",
      "(1558, 11)\n"
     ]
    }
   ],
   "source": [
    "df_new=x[(z<3).all(axis=1)]\n",
    "print(x.shape)\n",
    "print(df_new.shape)"
   ]
  },
  {
   "cell_type": "code",
   "execution_count": 30,
   "id": "cd1fa0cb",
   "metadata": {},
   "outputs": [
    {
     "name": "stdout",
     "output_type": "stream",
     "text": [
      "2.564102564102564\n"
     ]
    }
   ],
   "source": [
    "## Percentage data loss: \n",
    "loss_percent=(1599-1558)/1599*100\n",
    "print(loss_percent)"
   ]
  },
  {
   "cell_type": "markdown",
   "id": "15256903",
   "metadata": {},
   "source": [
    "##### Data loss is in the acceptable range , good to proceed."
   ]
  },
  {
   "cell_type": "markdown",
   "id": "8daf1a79",
   "metadata": {},
   "source": [
    "# Finding Best Random_state:"
   ]
  },
  {
   "cell_type": "code",
   "execution_count": 31,
   "id": "3738df46",
   "metadata": {},
   "outputs": [],
   "source": [
    "from sklearn.linear_model import LogisticRegression\n",
    "from sklearn.metrics import accuracy_score\n",
    "from sklearn.metrics import confusion_matrix,classification_report\n",
    "from sklearn.model_selection import train_test_split\n"
   ]
  },
  {
   "cell_type": "code",
   "execution_count": 32,
   "id": "0288b161",
   "metadata": {},
   "outputs": [],
   "source": [
    "lr = LogisticRegression()"
   ]
  },
  {
   "cell_type": "code",
   "execution_count": 33,
   "id": "d77ce1f1",
   "metadata": {},
   "outputs": [
    {
     "name": "stdout",
     "output_type": "stream",
     "text": [
      "At random state 96, The model performs very well\n",
      "At random state 96, the training accuracy is:- 88.42845973416732\n",
      "At random state 96, the testing accuracy is:- 88.4375\n",
      "\n",
      "\n",
      "At random state 97, The model performs very well\n",
      "At random state 97, the training accuracy is:- 88.42845973416732\n",
      "At random state 97, the testing accuracy is:- 88.4375\n",
      "\n",
      "\n",
      "At random state 99, The model performs very well\n",
      "At random state 99, the training accuracy is:- 88.35027365129007\n",
      "At random state 99, the testing accuracy is:- 88.4375\n",
      "\n",
      "\n",
      "At random state 134, The model performs very well\n",
      "At random state 134, the training accuracy is:- 88.35027365129007\n",
      "At random state 134, the testing accuracy is:- 88.4375\n",
      "\n",
      "\n",
      "At random state 188, The model performs very well\n",
      "At random state 188, the training accuracy is:- 88.35027365129007\n",
      "At random state 188, the testing accuracy is:- 88.4375\n",
      "\n",
      "\n",
      "At random state 231, The model performs very well\n",
      "At random state 231, the training accuracy is:- 88.35027365129007\n",
      "At random state 231, the testing accuracy is:- 88.4375\n",
      "\n",
      "\n",
      "At random state 239, The model performs very well\n",
      "At random state 239, the training accuracy is:- 88.11571540265832\n",
      "At random state 239, the testing accuracy is:- 88.125\n",
      "\n",
      "\n",
      "At random state 240, The model performs very well\n",
      "At random state 240, the training accuracy is:- 88.35027365129007\n",
      "At random state 240, the testing accuracy is:- 88.4375\n",
      "\n",
      "\n",
      "At random state 243, The model performs very well\n",
      "At random state 243, the training accuracy is:- 88.42845973416732\n",
      "At random state 243, the testing accuracy is:- 88.4375\n",
      "\n",
      "\n",
      "At random state 298, The model performs very well\n",
      "At random state 298, the training accuracy is:- 88.42845973416732\n",
      "At random state 298, the testing accuracy is:- 88.4375\n",
      "\n",
      "\n",
      "At random state 380, The model performs very well\n",
      "At random state 380, the training accuracy is:- 88.42845973416732\n",
      "At random state 380, the testing accuracy is:- 88.4375\n",
      "\n",
      "\n",
      "At random state 425, The model performs very well\n",
      "At random state 425, the training accuracy is:- 88.11571540265832\n",
      "At random state 425, the testing accuracy is:- 88.125\n",
      "\n",
      "\n",
      "At random state 437, The model performs very well\n",
      "At random state 437, the training accuracy is:- 88.11571540265832\n",
      "At random state 437, the testing accuracy is:- 88.125\n",
      "\n",
      "\n",
      "At random state 548, The model performs very well\n",
      "At random state 548, the training accuracy is:- 88.42845973416732\n",
      "At random state 548, the testing accuracy is:- 88.4375\n",
      "\n",
      "\n",
      "At random state 654, The model performs very well\n",
      "At random state 654, the training accuracy is:- 88.35027365129007\n",
      "At random state 654, the testing accuracy is:- 88.4375\n",
      "\n",
      "\n",
      "At random state 655, The model performs very well\n",
      "At random state 655, the training accuracy is:- 88.11571540265832\n",
      "At random state 655, the testing accuracy is:- 88.125\n",
      "\n",
      "\n",
      "At random state 675, The model performs very well\n",
      "At random state 675, the training accuracy is:- 88.42845973416732\n",
      "At random state 675, the testing accuracy is:- 88.4375\n",
      "\n",
      "\n",
      "At random state 712, The model performs very well\n",
      "At random state 712, the training accuracy is:- 88.35027365129007\n",
      "At random state 712, the testing accuracy is:- 88.4375\n",
      "\n",
      "\n",
      "At random state 785, The model performs very well\n",
      "At random state 785, the training accuracy is:- 88.11571540265832\n",
      "At random state 785, the testing accuracy is:- 88.125\n",
      "\n",
      "\n",
      "At random state 791, The model performs very well\n",
      "At random state 791, the training accuracy is:- 88.11571540265832\n",
      "At random state 791, the testing accuracy is:- 88.125\n",
      "\n",
      "\n",
      "At random state 844, The model performs very well\n",
      "At random state 844, the training accuracy is:- 88.11571540265832\n",
      "At random state 844, the testing accuracy is:- 88.125\n",
      "\n",
      "\n",
      "At random state 846, The model performs very well\n",
      "At random state 846, the training accuracy is:- 88.11571540265832\n",
      "At random state 846, the testing accuracy is:- 88.125\n",
      "\n",
      "\n",
      "At random state 907, The model performs very well\n",
      "At random state 907, the training accuracy is:- 88.11571540265832\n",
      "At random state 907, the testing accuracy is:- 88.125\n",
      "\n",
      "\n",
      "At random state 976, The model performs very well\n",
      "At random state 976, the training accuracy is:- 88.11571540265832\n",
      "At random state 976, the testing accuracy is:- 88.125\n",
      "\n",
      "\n"
     ]
    }
   ],
   "source": [
    "for i in range (0,1000):\n",
    "    x_train,x_test,y_train,y_test=train_test_split(x,y,test_size=0.20,random_state=i)\n",
    "    lr.fit(x_train,y_train)\n",
    "    pred_train=lr.predict(x_train)\n",
    "    pred_test=lr.predict(x_test)\n",
    "    if round(accuracy_score(y_train,pred_train)*100,1)==round(accuracy_score(y_test,pred_test)*100,1):\n",
    "        print(f\"At random state {i}, The model performs very well\")\n",
    "        \n",
    "        print(f\"At random state {i}, the training accuracy is:- {accuracy_score(y_train,pred_train)*100}\")\n",
    "        print(f\"At random state {i}, the testing accuracy is:- {accuracy_score(y_test,pred_test)*100}\")\n",
    "        print(\"\\n\")\n"
   ]
  },
  {
   "cell_type": "markdown",
   "id": "fe088fdb",
   "metadata": {},
   "source": [
    "##### Best training accuracy is 88.42%, best testing accuracy is 88.43% on Random_state 96."
   ]
  },
  {
   "cell_type": "markdown",
   "id": "5c8d253b",
   "metadata": {},
   "source": [
    "## Creating Train-Test-split"
   ]
  },
  {
   "cell_type": "code",
   "execution_count": 34,
   "id": "39ddeb2b",
   "metadata": {},
   "outputs": [],
   "source": [
    "x_train, x_test, y_train, y_test = train_test_split(x,y,test_size = .20, random_state = 96)"
   ]
  },
  {
   "cell_type": "code",
   "execution_count": 35,
   "id": "fe4b4653",
   "metadata": {},
   "outputs": [
    {
     "name": "stdout",
     "output_type": "stream",
     "text": [
      "Training wine_quality - \n",
      " 0    1102\n",
      "1     177\n",
      "Name: wine_quality, dtype: int64\n"
     ]
    }
   ],
   "source": [
    "print('Training wine_quality - \\n', y_train.value_counts())"
   ]
  },
  {
   "cell_type": "markdown",
   "id": "0489d65b",
   "metadata": {},
   "source": [
    "## Logistic Regression"
   ]
  },
  {
   "cell_type": "code",
   "execution_count": 36,
   "id": "de00837b",
   "metadata": {},
   "outputs": [
    {
     "name": "stdout",
     "output_type": "stream",
     "text": [
      "Accuracy 88.4375\n",
      "[[272   8]\n",
      " [ 29  11]]\n",
      "              precision    recall  f1-score   support\n",
      "\n",
      "           0       0.90      0.97      0.94       280\n",
      "           1       0.58      0.28      0.37        40\n",
      "\n",
      "    accuracy                           0.88       320\n",
      "   macro avg       0.74      0.62      0.65       320\n",
      "weighted avg       0.86      0.88      0.87       320\n",
      "\n"
     ]
    }
   ],
   "source": [
    "from sklearn.linear_model import LogisticRegression\n",
    "LR = LogisticRegression()\n",
    "LR.fit(x_train, y_train)\n",
    "predlr = LR.predict(x_test)\n",
    "print(\"Accuracy\",accuracy_score(y_test, predlr)*100)\n",
    "print(confusion_matrix(y_test,predlr))\n",
    "print(classification_report(y_test,predlr))"
   ]
  },
  {
   "cell_type": "markdown",
   "id": "2ef6f0d3",
   "metadata": {},
   "source": [
    "##### for Logistic Regression, from above Confusion matrix,  TN = 272, FP = 8, FN = 29, TP = 11.  accuracy = 88%."
   ]
  },
  {
   "cell_type": "markdown",
   "id": "5080062f",
   "metadata": {},
   "source": [
    "## Decision Tree Classifier"
   ]
  },
  {
   "cell_type": "code",
   "execution_count": 37,
   "id": "1699e218",
   "metadata": {},
   "outputs": [
    {
     "name": "stdout",
     "output_type": "stream",
     "text": [
      "Accuracy 90.9375\n",
      "[[269  11]\n",
      " [ 18  22]]\n",
      "              precision    recall  f1-score   support\n",
      "\n",
      "           0       0.94      0.96      0.95       280\n",
      "           1       0.67      0.55      0.60        40\n",
      "\n",
      "    accuracy                           0.91       320\n",
      "   macro avg       0.80      0.76      0.78       320\n",
      "weighted avg       0.90      0.91      0.91       320\n",
      "\n"
     ]
    }
   ],
   "source": [
    "from sklearn.tree import DecisionTreeClassifier\n",
    "\n",
    "dt = DecisionTreeClassifier()\n",
    "dt.fit(x_train, y_train)\n",
    "preddt = dt.predict(x_test)\n",
    "print(\"Accuracy\",accuracy_score(y_test, preddt)*100)\n",
    "print(confusion_matrix(y_test,preddt))\n",
    "print(classification_report(y_test,preddt))"
   ]
  },
  {
   "cell_type": "markdown",
   "id": "2260372f",
   "metadata": {},
   "source": [
    "##### for Decision Tree Classifier, from above Confusion matrix,  TN = 269, FP = 11, FN = 18, TP = 22.  accuracy = 91%."
   ]
  },
  {
   "cell_type": "markdown",
   "id": "97edb4f8",
   "metadata": {},
   "source": [
    "## Random Forest Classifier"
   ]
  },
  {
   "cell_type": "code",
   "execution_count": 38,
   "id": "6fdf9e16",
   "metadata": {},
   "outputs": [
    {
     "name": "stdout",
     "output_type": "stream",
     "text": [
      "Accuracy 90.9375\n",
      "[[269  11]\n",
      " [ 18  22]]\n",
      "              precision    recall  f1-score   support\n",
      "\n",
      "           0       0.94      0.96      0.95       280\n",
      "           1       0.67      0.55      0.60        40\n",
      "\n",
      "    accuracy                           0.91       320\n",
      "   macro avg       0.80      0.76      0.78       320\n",
      "weighted avg       0.90      0.91      0.91       320\n",
      "\n"
     ]
    }
   ],
   "source": [
    "from sklearn.ensemble import RandomForestClassifier\n",
    "\n",
    "rf = RandomForestClassifier()\n",
    "rf.fit(x_train, y_train)\n",
    "predrf = dt.predict(x_test)\n",
    "print(\"Accuracy\",accuracy_score(y_test, predrf)*100)\n",
    "print(confusion_matrix(y_test,predrf))\n",
    "print(classification_report(y_test,predrf))"
   ]
  },
  {
   "cell_type": "markdown",
   "id": "06c3e958",
   "metadata": {},
   "source": [
    "##### for Random Forest Classifier, from above Confusion matrix, TN = 269, FP = 11, FN = 18, TP = 22. accuracy = 91%.¶"
   ]
  },
  {
   "cell_type": "markdown",
   "id": "a7137a6c",
   "metadata": {},
   "source": [
    "# SVM"
   ]
  },
  {
   "cell_type": "code",
   "execution_count": 39,
   "id": "ade31585",
   "metadata": {},
   "outputs": [
    {
     "name": "stdout",
     "output_type": "stream",
     "text": [
      "Acuuracy 88.125\n",
      "[[273   7]\n",
      " [ 31   9]]\n",
      "              precision    recall  f1-score   support\n",
      "\n",
      "           0       0.90      0.97      0.93       280\n",
      "           1       0.56      0.23      0.32        40\n",
      "\n",
      "    accuracy                           0.88       320\n",
      "   macro avg       0.73      0.60      0.63       320\n",
      "weighted avg       0.86      0.88      0.86       320\n",
      "\n"
     ]
    }
   ],
   "source": [
    "from sklearn.svm import SVC\n",
    "\n",
    "svc = SVC()\n",
    "svc.fit( x_train, y_train)\n",
    "\n",
    "ad_pred = svc.predict(x_test)\n",
    "print(\"Acuuracy\", accuracy_score(y_test, ad_pred)*100)\n",
    "print(confusion_matrix(y_test,ad_pred))\n",
    "print(classification_report(y_test,ad_pred))"
   ]
  },
  {
   "cell_type": "markdown",
   "id": "dfc1eba3",
   "metadata": {},
   "source": [
    "##### for SVM, from above Confusion matrix, TN = 273, FP = 7, FN = 31, TP = 9. accuracy = 88%.¶"
   ]
  },
  {
   "cell_type": "markdown",
   "id": "8bd3af0b",
   "metadata": {},
   "source": [
    "Lets check the CV scores for the above models, for overfitting."
   ]
  },
  {
   "cell_type": "markdown",
   "id": "42ac51b6",
   "metadata": {},
   "source": [
    "## Cross Validation"
   ]
  },
  {
   "cell_type": "code",
   "execution_count": 50,
   "id": "4e3e4a3a",
   "metadata": {},
   "outputs": [
    {
     "name": "stdout",
     "output_type": "stream",
     "text": [
      "Cross Validation score of LR model: 0.8699294670846396\n"
     ]
    }
   ],
   "source": [
    "from sklearn.model_selection import cross_val_score\n",
    "\n",
    "scr=cross_val_score(LR, x, y, cv=5)\n",
    "print(\"Cross Validation score of LR model:\", scr.mean())"
   ]
  },
  {
   "cell_type": "code",
   "execution_count": 51,
   "id": "ba52bfc5",
   "metadata": {},
   "outputs": [
    {
     "name": "stdout",
     "output_type": "stream",
     "text": [
      "Cross Validation score of DT model: 0.8029996081504702\n"
     ]
    }
   ],
   "source": [
    "scr=cross_val_score(dt, x, y, cv=5)\n",
    "print(\"Cross Validation score of DT model:\", scr.mean())"
   ]
  },
  {
   "cell_type": "code",
   "execution_count": 52,
   "id": "9fcc5d9d",
   "metadata": {},
   "outputs": [
    {
     "name": "stdout",
     "output_type": "stream",
     "text": [
      "Cross Validation score of rf model: 0.866792711598746\n"
     ]
    }
   ],
   "source": [
    "scr=cross_val_score(rf, x, y, cv=5)\n",
    "print(\"Cross Validation score of rf model:\", scr.mean())"
   ]
  },
  {
   "cell_type": "code",
   "execution_count": 53,
   "id": "aa15c87f",
   "metadata": {},
   "outputs": [
    {
     "name": "stdout",
     "output_type": "stream",
     "text": [
      "Cross Validation score of SVC model: 0.8611677115987462\n"
     ]
    }
   ],
   "source": [
    "scr=cross_val_score(svc, x, y, cv=5)\n",
    "print(\"Cross Validation score of SVC model:\", scr.mean())"
   ]
  },
  {
   "cell_type": "markdown",
   "id": "5a941e92",
   "metadata": {},
   "source": [
    "##### Considering good CV score, Logistic Regression is performing better among all, we go ahead with Logistic Regression."
   ]
  },
  {
   "cell_type": "markdown",
   "id": "e5079522",
   "metadata": {},
   "source": [
    "## Hyper Parameter Tuning"
   ]
  },
  {
   "cell_type": "code",
   "execution_count": 54,
   "id": "b8f83eba",
   "metadata": {},
   "outputs": [],
   "source": [
    "from sklearn.model_selection import GridSearchCV\n",
    "\n",
    "## Creating parameter list to pass in GridsearchCV\n",
    "parameters = { \"multi_class\":['auto', 'ovr', 'multinomial'], \"solver\":['newton-cg', 'lbfgs', 'liblinear', 'sag', 'saga'], \n",
    "              \"penalty\" :['l1', 'l2', 'elasticnet', 'none']}\n"
   ]
  },
  {
   "cell_type": "code",
   "execution_count": 55,
   "id": "0168ad77",
   "metadata": {},
   "outputs": [
    {
     "data": {
      "text/plain": [
       "{'multi_class': 'auto', 'penalty': 'l2', 'solver': 'newton-cg'}"
      ]
     },
     "execution_count": 55,
     "metadata": {},
     "output_type": "execute_result"
    }
   ],
   "source": [
    "GCV=GridSearchCV(LogisticRegression(),parameters,cv=5,scoring=\"accuracy\")\n",
    "GCV.fit(x_train,y_train) # Fitting the data in model\n",
    "GCV.best_params_  # Printing the best parameter found by GridSearchCV"
   ]
  },
  {
   "cell_type": "code",
   "execution_count": 56,
   "id": "9ae333cd",
   "metadata": {},
   "outputs": [
    {
     "data": {
      "text/plain": [
       "0.884375"
      ]
     },
     "execution_count": 56,
     "metadata": {},
     "output_type": "execute_result"
    }
   ],
   "source": [
    "GCV_pred=GCV.best_estimator_.predict(x_test) # Prediciting with the best parameters\n",
    "accuracy_score(y_test,GCV_pred) # Checking final accuracy"
   ]
  },
  {
   "cell_type": "markdown",
   "id": "1a2ea7b5",
   "metadata": {},
   "source": [
    "#### Accuracy of LogisticRegression after Hyper parameter tuning is 88%. "
   ]
  },
  {
   "cell_type": "markdown",
   "id": "af75edea",
   "metadata": {},
   "source": [
    "## ROC AUC Plot"
   ]
  },
  {
   "cell_type": "code",
   "execution_count": 57,
   "id": "80c31aae",
   "metadata": {},
   "outputs": [
    {
     "data": {
      "image/png": "[encoded data removed]",
      "text/plain": [
       "<Figure size 432x288 with 1 Axes>"
      ]
     },
     "metadata": {
      "needs_background": "light"
     },
     "output_type": "display_data"
    }
   ],
   "source": [
    "from sklearn.metrics import plot_roc_curve\n",
    "plot_roc_curve(GCV.best_estimator_,x_test,y_test)\n",
    "plt.title(\"ROC AUC plot\")\n",
    "plt.show()"
   ]
  },
  {
   "cell_type": "markdown",
   "id": "211618be",
   "metadata": {},
   "source": [
    "##### Final Accuracy is 88% & AUC score is 87%. which is good."
   ]
  },
  {
   "cell_type": "markdown",
   "id": "77e55501",
   "metadata": {},
   "source": [
    "## Saving the model in Pickle format"
   ]
  },
  {
   "cell_type": "code",
   "execution_count": 58,
   "id": "c2f4a500",
   "metadata": {},
   "outputs": [],
   "source": [
    "import pickle\n",
    "filename = 'RedWine_project.pkl'\n",
    "pickle.dump(rf, open(filename, 'wb'))"
   ]
  },
  {
   "cell_type": "markdown",
   "id": "de6112cb",
   "metadata": {},
   "source": [
    "## Conclusion"
   ]
  },
  {
   "cell_type": "code",
   "execution_count": 59,
   "id": "cd28ceb9",
   "metadata": {},
   "outputs": [
    {
     "data": {
      "text/html": [
       "<div>\n",
       "<style scoped>\n",
       "    .dataframe tbody tr th:only-of-type {\n",
       "        vertical-align: middle;\n",
       "    }\n",
       "\n",
       "    .dataframe tbody tr th {\n",
       "        vertical-align: top;\n",
       "    }\n",
       "\n",
       "    .dataframe thead th {\n",
       "        text-align: right;\n",
       "    }\n",
       "</style>\n",
       "<table border=\"1\" class=\"dataframe\">\n",
       "  <thead>\n",
       "    <tr style=\"text-align: right;\">\n",
       "      <th></th>\n",
       "      <th>Original</th>\n",
       "      <th>Predicted</th>\n",
       "    </tr>\n",
       "  </thead>\n",
       "  <tbody>\n",
       "    <tr>\n",
       "      <th>0</th>\n",
       "      <td>0</td>\n",
       "      <td>0</td>\n",
       "    </tr>\n",
       "    <tr>\n",
       "      <th>1</th>\n",
       "      <td>0</td>\n",
       "      <td>0</td>\n",
       "    </tr>\n",
       "    <tr>\n",
       "      <th>2</th>\n",
       "      <td>0</td>\n",
       "      <td>0</td>\n",
       "    </tr>\n",
       "    <tr>\n",
       "      <th>3</th>\n",
       "      <td>0</td>\n",
       "      <td>0</td>\n",
       "    </tr>\n",
       "    <tr>\n",
       "      <th>4</th>\n",
       "      <td>0</td>\n",
       "      <td>0</td>\n",
       "    </tr>\n",
       "    <tr>\n",
       "      <th>...</th>\n",
       "      <td>...</td>\n",
       "      <td>...</td>\n",
       "    </tr>\n",
       "    <tr>\n",
       "      <th>315</th>\n",
       "      <td>0</td>\n",
       "      <td>0</td>\n",
       "    </tr>\n",
       "    <tr>\n",
       "      <th>316</th>\n",
       "      <td>0</td>\n",
       "      <td>0</td>\n",
       "    </tr>\n",
       "    <tr>\n",
       "      <th>317</th>\n",
       "      <td>0</td>\n",
       "      <td>0</td>\n",
       "    </tr>\n",
       "    <tr>\n",
       "      <th>318</th>\n",
       "      <td>0</td>\n",
       "      <td>0</td>\n",
       "    </tr>\n",
       "    <tr>\n",
       "      <th>319</th>\n",
       "      <td>0</td>\n",
       "      <td>0</td>\n",
       "    </tr>\n",
       "  </tbody>\n",
       "</table>\n",
       "<p>320 rows × 2 columns</p>\n",
       "</div>"
      ],
      "text/plain": [
       "     Original  Predicted\n",
       "0           0          0\n",
       "1           0          0\n",
       "2           0          0\n",
       "3           0          0\n",
       "4           0          0\n",
       "..        ...        ...\n",
       "315         0          0\n",
       "316         0          0\n",
       "317         0          0\n",
       "318         0          0\n",
       "319         0          0\n",
       "\n",
       "[320 rows x 2 columns]"
      ]
     },
     "execution_count": 59,
     "metadata": {},
     "output_type": "execute_result"
    }
   ],
   "source": [
    "import numpy as np\n",
    "a= np.array(y_test)\n",
    "predicted=np.array(rf.predict(x_test))\n",
    "df_com = pd.DataFrame({\"Original\":a,\"Predicted\":predicted }, index=range(len(a)))\n",
    "df_com"
   ]
  },
  {
   "cell_type": "markdown",
   "id": "cb16e518",
   "metadata": {},
   "source": [
    "##### We can visualize there is no error in the wine_quality prediction using the above model."
   ]
  },
  {
   "cell_type": "markdown",
   "id": "48793641",
   "metadata": {},
   "source": [
    "### Our Model is good in distinguishing Good Quality Wine & Bad Quality Wine."
   ]
  },
  {
   "cell_type": "code",
   "execution_count": null,
   "id": "c0b0a12b",
   "metadata": {},
   "outputs": [],
   "source": []
  }
 ],
 "metadata": {
  "kernelspec": {
   "display_name": "Python 3",
   "language": "python",
   "name": "python3"
  },
  "language_info": {
   "codemirror_mode": {
    "name": "ipython",
    "version": 3
   },
   "file_extension": ".py",
   "mimetype": "text/x-python",
   "name": "python",
   "nbconvert_exporter": "python",
   "pygments_lexer": "ipython3",
   "version": "3.8.8"
  }
 },
 "nbformat": 4,
 "nbformat_minor": 5
}
